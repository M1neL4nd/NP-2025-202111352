{
 "cells": [
  {
   "cell_type": "markdown",
   "id": "3af7c373",
   "metadata": {},
   "source": [
    "## 이름 : 정승희 학번 : 202111352"
   ]
  },
  {
   "cell_type": "markdown",
   "id": "65e5a085",
   "metadata": {},
   "source": [
    "##### 예외"
   ]
  },
  {
   "cell_type": "markdown",
   "id": "684d5820",
   "metadata": {},
   "source": [
    "예외(Exception)란?<br>\n",
    "\n",
    "><small>* 프로그램 실행 도중에 오류가 발생하면 생성되는 특별한 객체<br></small>\n",
    "\n",
    "<small>- print(1/0)을 실행하면 ZeroDivisionError 예외 발생<br></small>\n",
    "\n",
    "><small>* 예외가 발생하면 파이썬은 프로그램 실행을 중단한다.</small><br>\n",
    "><small>* 예외처리란 예외가 발생했을 때 프로그램 실행을 중단하지 않고 처리하는 방법을 정의한 프로그램 부분<br></small>\n",
    "><small>* 예외의 종류</small><br>\n",
    "\n",
    "<small>- ZeroDivisionError  0으로 나눌 때<br>- IndexError   인덱스가 범위를 벗어날 때<br>- FileNotFoundError    존재하지 않는 파일을 열려고 할 때<br>- ValueError 원하는 값을 입력 받지 못할 때<Br>- NameError  정의되지 않은 변수를 사용할 때<br>- TypeError   데이터형이 맞지 않ㄴ는 연산을 할 때</small>"
   ]
  },
  {
   "cell_type": "markdown",
   "id": "b28d98a5",
   "metadata": {},
   "source": [
    "여러가지 예외"
   ]
  },
  {
   "cell_type": "code",
   "execution_count": 1,
   "id": "592fc8be",
   "metadata": {},
   "outputs": [
    {
     "ename": "ZeroDivisionError",
     "evalue": "division by zero",
     "output_type": "error",
     "traceback": [
      "\u001b[31m---------------------------------------------------------------------------\u001b[39m",
      "\u001b[31mZeroDivisionError\u001b[39m                         Traceback (most recent call last)",
      "\u001b[36mCell\u001b[39m\u001b[36m \u001b[39m\u001b[32mIn[1]\u001b[39m\u001b[32m, line 1\u001b[39m\n\u001b[32m----> \u001b[39m\u001b[32m1\u001b[39m \u001b[32;43m5\u001b[39;49m\u001b[43m/\u001b[49m\u001b[32;43m0\u001b[39;49m\n",
      "\u001b[31mZeroDivisionError\u001b[39m: division by zero"
     ]
    }
   ],
   "source": [
    "5/0"
   ]
  },
  {
   "cell_type": "code",
   "execution_count": 2,
   "id": "bdf8ca63",
   "metadata": {},
   "outputs": [
    {
     "ename": "IndexError",
     "evalue": "list index out of range",
     "output_type": "error",
     "traceback": [
      "\u001b[31m---------------------------------------------------------------------------\u001b[39m",
      "\u001b[31mIndexError\u001b[39m                                Traceback (most recent call last)",
      "\u001b[36mCell\u001b[39m\u001b[36m \u001b[39m\u001b[32mIn[2]\u001b[39m\u001b[32m, line 2\u001b[39m\n\u001b[32m      1\u001b[39m a=[\u001b[32m0\u001b[39m, \u001b[32m1\u001b[39m, \u001b[32m2\u001b[39m]\n\u001b[32m----> \u001b[39m\u001b[32m2\u001b[39m \u001b[43ma\u001b[49m\u001b[43m[\u001b[49m\u001b[32;43m3\u001b[39;49m\u001b[43m]\u001b[49m\n",
      "\u001b[31mIndexError\u001b[39m: list index out of range"
     ]
    }
   ],
   "source": [
    "a=[0, 1, 2]\n",
    "a[3]"
   ]
  },
  {
   "cell_type": "code",
   "execution_count": 3,
   "id": "c39b819d",
   "metadata": {},
   "outputs": [
    {
     "ename": "FileNotFoundError",
     "evalue": "[Errno 2] No such file or directory: 'Nofile.txt'",
     "output_type": "error",
     "traceback": [
      "\u001b[31m---------------------------------------------------------------------------\u001b[39m",
      "\u001b[31mFileNotFoundError\u001b[39m                         Traceback (most recent call last)",
      "\u001b[36mCell\u001b[39m\u001b[36m \u001b[39m\u001b[32mIn[3]\u001b[39m\u001b[32m, line 1\u001b[39m\n\u001b[32m----> \u001b[39m\u001b[32m1\u001b[39m fp=\u001b[38;5;28;43mopen\u001b[39;49m\u001b[43m(\u001b[49m\u001b[33;43m\"\u001b[39;49m\u001b[33;43mNofile.txt\u001b[39;49m\u001b[33;43m\"\u001b[39;49m\u001b[43m,\u001b[49m\u001b[43m \u001b[49m\u001b[33;43m\"\u001b[39;49m\u001b[33;43mr\u001b[39;49m\u001b[33;43m\"\u001b[39;49m\u001b[43m)\u001b[49m\n",
      "\u001b[36mFile \u001b[39m\u001b[32m~\\AppData\\Roaming\\Python\\Python313\\site-packages\\IPython\\core\\interactiveshell.py:343\u001b[39m, in \u001b[36m_modified_open\u001b[39m\u001b[34m(file, *args, **kwargs)\u001b[39m\n\u001b[32m    336\u001b[39m \u001b[38;5;28;01mif\u001b[39;00m file \u001b[38;5;129;01min\u001b[39;00m {\u001b[32m0\u001b[39m, \u001b[32m1\u001b[39m, \u001b[32m2\u001b[39m}:\n\u001b[32m    337\u001b[39m     \u001b[38;5;28;01mraise\u001b[39;00m \u001b[38;5;167;01mValueError\u001b[39;00m(\n\u001b[32m    338\u001b[39m         \u001b[33mf\u001b[39m\u001b[33m\"\u001b[39m\u001b[33mIPython won\u001b[39m\u001b[33m'\u001b[39m\u001b[33mt let you open fd=\u001b[39m\u001b[38;5;132;01m{\u001b[39;00mfile\u001b[38;5;132;01m}\u001b[39;00m\u001b[33m by default \u001b[39m\u001b[33m\"\u001b[39m\n\u001b[32m    339\u001b[39m         \u001b[33m\"\u001b[39m\u001b[33mas it is likely to crash IPython. If you know what you are doing, \u001b[39m\u001b[33m\"\u001b[39m\n\u001b[32m    340\u001b[39m         \u001b[33m\"\u001b[39m\u001b[33myou can use builtins\u001b[39m\u001b[33m'\u001b[39m\u001b[33m open.\u001b[39m\u001b[33m\"\u001b[39m\n\u001b[32m    341\u001b[39m     )\n\u001b[32m--> \u001b[39m\u001b[32m343\u001b[39m \u001b[38;5;28;01mreturn\u001b[39;00m \u001b[43mio_open\u001b[49m\u001b[43m(\u001b[49m\u001b[43mfile\u001b[49m\u001b[43m,\u001b[49m\u001b[43m \u001b[49m\u001b[43m*\u001b[49m\u001b[43margs\u001b[49m\u001b[43m,\u001b[49m\u001b[43m \u001b[49m\u001b[43m*\u001b[49m\u001b[43m*\u001b[49m\u001b[43mkwargs\u001b[49m\u001b[43m)\u001b[49m\n",
      "\u001b[31mFileNotFoundError\u001b[39m: [Errno 2] No such file or directory: 'Nofile.txt'"
     ]
    }
   ],
   "source": [
    "fp=open(\"Nofile.txt\", \"r\")"
   ]
  },
  {
   "cell_type": "code",
   "execution_count": 4,
   "id": "49ec6fa3",
   "metadata": {},
   "outputs": [
    {
     "ename": "ValueError",
     "evalue": "invalid literal for int() with base 10: '1.23'",
     "output_type": "error",
     "traceback": [
      "\u001b[31m---------------------------------------------------------------------------\u001b[39m",
      "\u001b[31mValueError\u001b[39m                                Traceback (most recent call last)",
      "\u001b[36mCell\u001b[39m\u001b[36m \u001b[39m\u001b[32mIn[4]\u001b[39m\u001b[32m, line 1\u001b[39m\n\u001b[32m----> \u001b[39m\u001b[32m1\u001b[39m \u001b[38;5;28;43mint\u001b[39;49m\u001b[43m(\u001b[49m\u001b[38;5;28;43minput\u001b[39;49m\u001b[43m(\u001b[49m\u001b[33;43m'\u001b[39;49m\u001b[33;43mType float number or string: \u001b[39;49m\u001b[33;43m'\u001b[39;49m\u001b[43m)\u001b[49m\u001b[43m)\u001b[49m\n",
      "\u001b[31mValueError\u001b[39m: invalid literal for int() with base 10: '1.23'"
     ]
    }
   ],
   "source": [
    "int(input('Type float number or string: '))"
   ]
  },
  {
   "cell_type": "code",
   "execution_count": 5,
   "id": "827bbf53",
   "metadata": {},
   "outputs": [
    {
     "ename": "NameError",
     "evalue": "name 'var' is not defined",
     "output_type": "error",
     "traceback": [
      "\u001b[31m---------------------------------------------------------------------------\u001b[39m",
      "\u001b[31mNameError\u001b[39m                                 Traceback (most recent call last)",
      "\u001b[36mCell\u001b[39m\u001b[36m \u001b[39m\u001b[32mIn[5]\u001b[39m\u001b[32m, line 1\u001b[39m\n\u001b[32m----> \u001b[39m\u001b[32m1\u001b[39m \u001b[32m1\u001b[39m + \u001b[43mvar\u001b[49m * \u001b[32m2\u001b[39m\n",
      "\u001b[31mNameError\u001b[39m: name 'var' is not defined"
     ]
    }
   ],
   "source": [
    "1 + var * 2"
   ]
  },
  {
   "cell_type": "code",
   "execution_count": 6,
   "id": "44312f0a",
   "metadata": {},
   "outputs": [
    {
     "ename": "TypeError",
     "evalue": "can only concatenate str (not \"int\") to str",
     "output_type": "error",
     "traceback": [
      "\u001b[31m---------------------------------------------------------------------------\u001b[39m",
      "\u001b[31mTypeError\u001b[39m                                 Traceback (most recent call last)",
      "\u001b[36mCell\u001b[39m\u001b[36m \u001b[39m\u001b[32mIn[6]\u001b[39m\u001b[32m, line 1\u001b[39m\n\u001b[32m----> \u001b[39m\u001b[32m1\u001b[39m \u001b[33;43m\"\u001b[39;49m\u001b[33;43mstr\u001b[39;49m\u001b[33;43m\"\u001b[39;49m\u001b[43m \u001b[49m\u001b[43m+\u001b[49m\u001b[43m \u001b[49m\u001b[32;43m1\u001b[39;49m\n",
      "\u001b[31mTypeError\u001b[39m: can only concatenate str (not \"int\") to str"
     ]
    }
   ],
   "source": [
    "\"str\" + 1"
   ]
  },
  {
   "cell_type": "markdown",
   "id": "82674fd8",
   "metadata": {},
   "source": [
    "##### 예외처리"
   ]
  },
  {
   "cell_type": "markdown",
   "id": "d1507664",
   "metadata": {},
   "source": [
    "예외처리(1)<br>\n",
    "><small>* try-except/try-except-else 문</small>"
   ]
  },
  {
   "cell_type": "code",
   "execution_count": null,
   "id": "9e9c16e0",
   "metadata": {},
   "outputs": [],
   "source": [
    "try : \n",
    "    a = 1 / b ①\n",
    "except ZeroDivisionError: \n",
    "    print(\"0으로 나눌 수 없습니다\") ②\n",
    "else : \n",
    "    print(a) ③"
   ]
  },
  {
   "cell_type": "markdown",
   "id": "ad8e50d8",
   "metadata": {},
   "source": [
    "><small>* ① a=1/b를 실행하고 ZeroDivisionError 예외가 발생하면 ② 문장 실행<br>* ZeroDivisionError가 아닌 다른 예외가 발생하면 프로그램 중단<br>* 예외가 발생하지 않으면 ③ 문장 실행<br>* else: 블록은 생략 가능<br>* except ZeroDivisionError: 에서 ZeroDivisionError를 생략하면 모든 예외에 대해 ② 문장 실행</small>"
   ]
  },
  {
   "cell_type": "markdown",
   "id": "66b4b900",
   "metadata": {},
   "source": [
    "예외처리(1)<br>\n",
    "\n",
    "><small>* 예외를 알 수 없는 경우 try-except-else 문</small>"
   ]
  },
  {
   "cell_type": "code",
   "execution_count": null,
   "id": "8dbfa3f5",
   "metadata": {},
   "outputs": [],
   "source": [
    "try :\n",
    "    a = int(input(\"Type a Number: \")) ①\n",
    "except Exception as e : ②\n",
    "    print(\"예외가 발생했습니다\", e) ③\n",
    "else : \n",
    "    print(a) ④"
   ]
  },
  {
   "cell_type": "markdown",
   "id": "602bf538",
   "metadata": {},
   "source": [
    "><small>* Try 블록 : ① 을 실행하고 예외가 발생하면<br>* Excpet 블록: 어떤 종류의 예외 ② 가 발생하면 예외객체를 e로 받고 ③ 문장 실행</small><br>\n",
    "\n",
    "<small>- 예외의 종류는 모르지만 예외가 발생할 이유를 알고 싶을 때 ②와 같이 사용. e는 예외와 관련된 메시지 저장</small>\n",
    "\n",
    "><small>* Else 블록 : 예외가 발생하지 않으면 ③ 문장 실행</small>"
   ]
  },
  {
   "cell_type": "markdown",
   "id": "a4e53610",
   "metadata": {},
   "source": [
    "예외처리(1)<br>\n",
    "><small>* 복합 try-except 문</small>"
   ]
  },
  {
   "cell_type": "code",
   "execution_count": null,
   "id": "2624d542",
   "metadata": {},
   "outputs": [],
   "source": [
    "import sys\n",
    "try : \n",
    "    fp = open('sample.txt')\n",
    "    sl = fp.readline()\n",
    "    value = int(sl.strip())\n",
    "except OSError as err:\n",
    "    print(\"OS 오류: \", err) ①\n",
    "except ValueError : \n",
    "    print(\"정수로 변환할 수 없습니다\") ②\n",
    "except:\n",
    "    print(\"알 수 없는 오류가 발생하였습니다\") ③"
   ]
  },
  {
   "cell_type": "markdown",
   "id": "4ce671a1",
   "metadata": {},
   "source": [
    "><small>* try: 블록 실행 결과 OSError 예외가 발생하면 ①문장 실행<br>* Except: ValueError 예외가 발생하면 ② 문장 실행<br>* 기타 예외가 발생하면 ③ 문장 실행</small>"
   ]
  },
  {
   "cell_type": "markdown",
   "id": "643e78ff",
   "metadata": {},
   "source": [
    "예외처리(2)<br>\n",
    "><small>* try-except-finally 문</small>"
   ]
  },
  {
   "cell_type": "code",
   "execution_count": null,
   "id": "91c8805c",
   "metadata": {},
   "outputs": [],
   "source": [
    "try:\n",
    "    result = x / y ①\n",
    "except ZeroDivisionError:\n",
    "    print(\"0으로 나눌 수 없습니다\") ②\n",
    "except: \n",
    "    print(result) ③\n",
    "finally:\n",
    "    print(\"예외처리가 끝났습니다\") ④"
   ]
  },
  {
   "cell_type": "markdown",
   "id": "7887531f",
   "metadata": {},
   "source": [
    "><small>* Try 블록 : ① 문장을 실행하고 ZeroDivisionError<Br>* Except 블록: ZeroDivisionError 예외가 발생하면 ② 문장 실행<br>* Except 블록2: 예외 객체가 지정되지 않은 예외가 발생하면 ③ 문장 실행<br>* Finally 블록: 예외 발생에 관계없이 항상 ④ 문장 실행. 따라서 finally 블록은 항상 실행됨<bR>* except-else 블록은 생략 가능(try-finally)</small>"
   ]
  },
  {
   "cell_type": "markdown",
   "id": "a40e9ac4",
   "metadata": {},
   "source": [
    "##### 사용자 예외 클래스"
   ]
  },
  {
   "cell_type": "markdown",
   "id": "8155b1d7",
   "metadata": {},
   "source": [
    "사용자가 예외 클래스를 선언하고, 함수에서 예외를 발생시키기<br>\n",
    "\n",
    "><small>* 사용자 예외 클래스는 Exception 클래스에서 상속받아 정의<br> * __ str __ 함수를 작성하면 예외 내용을 문자열로 출력 가능<br>* __ init __ 함수를 작성하면 예외를 발생시킬 때 값을 전달할 수 있음</small>"
   ]
  },
  {
   "cell_type": "code",
   "execution_count": null,
   "id": "bade2a37",
   "metadata": {},
   "outputs": [],
   "source": [
    "class NEgativeNumberError(Exception) : \n",
    "    def __init__(self, value) : \n",
    "        self.value = value\n",
    "        self.message = f\"음수는 허용되지 않습니다: 입력값({value})\"\n",
    "        super().__init__(self.message)\n",
    "\n",
    "    def __Str__(self) : \n",
    "        return self.message\n",
    "\n",
    "def process_number(n) : \n",
    "    if n < 0:\n",
    "        raise NEgativeNumberError(n)\n",
    "    return n * 2"
   ]
  },
  {
   "cell_type": "code",
   "execution_count": null,
   "id": "c6c9c780",
   "metadata": {},
   "outputs": [],
   "source": [
    "try : \n",
    "    num = int(input(\"양의 정수를 입력하세요 : \"))\n",
    "    result = process_number(num)\n",
    "except ValueError : \n",
    "    print(\"숫자가 아닌 값을 입력했습니다.\")\n",
    "except NEgativeNumberError as e :\n",
    "    print(f\"사용자 정의 예외 발생 : {e}\")\n",
    "else : \n",
    "    print(f\"처리 결과 : {result}\")\n",
    "finally : \n",
    "    print(\"프로그램 종료.\")"
   ]
  },
  {
   "cell_type": "markdown",
   "id": "dae21cd8",
   "metadata": {},
   "source": [
    "##### 파일 입출력"
   ]
  },
  {
   "cell_type": "markdown",
   "id": "1238443e",
   "metadata": {},
   "source": [
    "표준 입출력<br>\n",
    "\n",
    "><small>* 표준 입력 (standard input) : 키보드<br>* 표준 출력 (standard output) : 콘솔 화면<br>* 푲룬 에러 (standard error): 콘솔 화면<br></small>\n",
    "\n",
    "파일 입출력<br>\n",
    "\n",
    "><small>* 표준 입출력 대신에 파일에 기록하는 것<br>* 텍스트(text) 파일: 사람이 볼 수 있는 문자 데이터를 저장 (메모장으로 확인 가능)<br>* 이진(binary)파일: 이진수 데이터를 저장<br></small>\n",
    "\n",
    "파일 처리 과정<br>\n",
    "><small>* 열기 : 파일 이름과 처리목적(읽기 또는 쓰기)를 지정해 사용하려는 파일을 열기<bR>* 사용 : 열린 파일에 대한 읽기 또는 쓰기를 진행<br>* 닫기 : 파일의 사용이 끝나면 열린 파일을 닫아 버퍼에 있는 내용을 디스크에 모두 반영</small>"
   ]
  },
  {
   "cell_type": "markdown",
   "id": "65b76c91",
   "metadata": {},
   "source": [
    "##### 파일 다루기"
   ]
  },
  {
   "cell_type": "markdown",
   "id": "ef33fe00",
   "metadata": {},
   "source": [
    "파일의 개념적 모델<br>\n",
    "><small>* 오프셋 0부터 끝까지 1Byte 단위로 직렬화되어 저장됨</small><br>\n",
    "\n",
    "파일의 열기<br>\n",
    "><small>* fp = open(\"filename\", \"mode)<Br></small>\n",
    "\n",
    "<small>- Filename : 열고자 하는 파일명 (절대경로 혹은 상대경로로 지정)<br>- mode : r, w, a, x/ r+, w+, a+ / rb, wb, ab, rb+, wb+, ab+</small>"
   ]
  },
  {
   "cell_type": "markdown",
   "id": "c4bdad98",
   "metadata": {},
   "source": [
    "##### 파일 다루기 : 텍스트 파일"
   ]
  },
  {
   "cell_type": "markdown",
   "id": "1280fea4",
   "metadata": {},
   "source": [
    "파일의 열기 모드 (텍스트 파일)<br>\n",
    "| mode | 설명 |\n",
    "|:-----:|------|\n",
    "|  'r'  | 읽기 전용 모드. 파일이 존재해야 함. |\n",
    "|  'w'  | 쓰기 전용 모드. 파일이 없으면 생성, 있으면 내용 덮어쓰기 |\n",
    "|  'a'  | 추가 모드. 파일 끝에 내용을 덧붙임. 없으면 생성. |\n",
    "|  'x'  | 베타적 생성 모드. 파일이 있으면 오류 발생. 없으면 새로 생성 |\n"
   ]
  },
  {
   "cell_type": "markdown",
   "id": "7fe2ef93",
   "metadata": {},
   "source": [
    "| mode | 설명 |\n",
    "|:-----:|------|\n",
    "|  'r+'  | 읽기/쓰기 모드. 파일이 존재해야 함. |\n",
    "|  'w+'  | 읽기/쓰기 모드. 파일을 새로쓰기 시작함 (내용 덮어쓰기). |\n",
    "|  'a+'  | 읽기/쓰기 모드. 파일 끝에 덧붙이기. 기존 내용은 유지. |"
   ]
  },
  {
   "cell_type": "markdown",
   "id": "b64221af",
   "metadata": {},
   "source": [
    "##### 텍스트 파일: 쓰기"
   ]
  },
  {
   "cell_type": "markdown",
   "id": "5759bdca",
   "metadata": {},
   "source": [
    "현재 폴더(실행 중인 폴더)에 pthonebook.txt 파일을 쓰기 모드로 열고 유니코드의 인코딩 방식은 utf-8 형식으로 저장하라<br>\n",
    "\n",
    "><small>* UTF-8 (Unicode Transfer Format 8-bit)<br></small>\n",
    "\n",
    "<small>- 가변 길이 인코딩: 한 문자를 1~4 바이트로 표현, ASCII 문자 (영문, 숫자 등)는 1B, 한글/한자/특수문자 2~4B<Br>- 호환성: ASCII와 완벽 호환(기존 시스템과 충돌 없음)<br>- 범용성: 유니코드 기반으로 거의 모든 언어의 문자를 표현 가능<br>- 효율성: 영어 중심의 문서에서는 저장 공간을 절약할 수 있음</small>"
   ]
  },
  {
   "cell_type": "markdown",
   "id": "2bcd7b42",
   "metadata": {},
   "source": [
    "><small>* write 함수 : 여러 줄을 쓸 때, 문자열로 출력<br>* writeline 함수 : 한 줄 씩 쓸 때<br>* 한 줄 (line) : 제일 끝 문자가 '\\n' 으로 끝냄<br>* 파일이 없으면 생성하고, 있으면 기존의 내용을 덮어쓰기 하므로 주의!!</small>"
   ]
  },
  {
   "cell_type": "code",
   "execution_count": null,
   "id": "9c03fbfb",
   "metadata": {},
   "outputs": [],
   "source": [
    "ofile = open(\"./phonebook.txt\", \"w\", encoding=\"utf-8\") # 열기\n",
    "\n",
    "ofile.write(\"John Doe, 123-456-7890\\nJane Smith, 987-654-3210\\n\") \n",
    "ofile.write(\"Alice Johnson, 555-123-4567\\nBob Brown, 444-987-6543\\n\")\n",
    "ofile.writeline(\"Charlie Davis, 333-222-1111\\n\")\n",
    "ofile.writeline(\"Eve White, 777-888-9999\\n\")\n",
    "\n",
    "ofile.close()"
   ]
  },
  {
   "cell_type": "markdown",
   "id": "d46ac6f9",
   "metadata": {},
   "source": [
    "##### 텍스트 파일: 읽기"
   ]
  },
  {
   "cell_type": "markdown",
   "id": "fa7fb694",
   "metadata": {},
   "source": [
    "현재 폴더(실행 중인 폴더)에 유니코드의 인코딩 방식은 utf-8 형식으로 저장된 phonebook.txt 텍스트 파일을 읽기 모드로 열고 각 라인을 출력하라.<br>\n",
    "\n",
    "><small>* UTF-8 (Unicode Transfer Format 8-bit) 형식을 디코딩하여 유니코드로 변환하여 읽음<br>* readlines 함수 : 여러 줄을 읽어 리스트로 반환 (개행문자, '\\n', new line 문자를 한 줄로 취급)<br>* readline 함수 : 한 줄 씩 읽어 문자열로 반환<br>* str.strip() : 앞 뒤의 공백 문자를 제거<br>* 만약 파일이 없으면 예외 발생</small>"
   ]
  },
  {
   "cell_type": "code",
   "execution_count": null,
   "id": "b08abcbe",
   "metadata": {},
   "outputs": [],
   "source": [
    "rfile=open(\"./phonebook.txt\", \"r\", encoding=\"utf-8\")\n",
    "line : str=rfile.readline()\n",
    "while line: \n",
    "    print(line.strip())\n",
    "    line=rfile.readline()\n",
    "rfile.close()\n",
    "# or (단 파일 사이즈가 크면 메모리가 부족할 수 있어 앞의 것을 선호)\n",
    "rfile=open(\"./phonebook.txt\", \"r\", encoding=\"utf-8\")\n",
    "lines : list=rfile.readlines()\n",
    "for line in lines:\n",
    "    print(line.strip())\n",
    "rfile.close()"
   ]
  },
  {
   "cell_type": "markdown",
   "id": "8191ce6e",
   "metadata": {},
   "source": [
    "##### 텍스트 파일: 읽기 예외 처리"
   ]
  },
  {
   "cell_type": "markdown",
   "id": "b10caa3a",
   "metadata": {},
   "source": [
    "현재 폴더(실행 중인 폴더)에 유니코드의 인코딩 방식은 utf-8 형식으로 저장된 phonebook.txt 텍스트 파일을 읽기모드로 열고 각 라인을 출력하라.<br>\n",
    "\n",
    "><small>* 만약 파일이 없으면 FileNotFoundError 예외 발생<br>* 예외 처리해야 함</small>"
   ]
  },
  {
   "cell_type": "code",
   "execution_count": null,
   "id": "b8bcc5c9",
   "metadata": {},
   "outputs": [],
   "source": [
    "try :\n",
    "    rfile=open(\"./phonebook1.txt\", \"r\", encoding=\"utf-8\")\n",
    "    lines: str=rfile.readline()\n",
    "    while line:\n",
    "        print(line.strip())\n",
    "        line=rfile.readline()\n",
    "    rfile.close()\n",
    "except FileNotFoundError as e:\n",
    "    print(\"File not found:\", e)"
   ]
  },
  {
   "cell_type": "markdown",
   "id": "008d9577",
   "metadata": {},
   "source": [
    "##### 파일 열고 쓰고 닫기 : 한버에 하는 방법 (with ~ as)"
   ]
  },
  {
   "cell_type": "markdown",
   "id": "678efc22",
   "metadata": {},
   "source": [
    "전화번호 : 이름 형태의 딕셔너리에 있는 값을 phonebook.txt 텍스트 파일에 쓰고 읽기 모드로 열고 각 라인을 출력하라.<br>"
   ]
  },
  {
   "cell_type": "code",
   "execution_count": null,
   "id": "417a337a",
   "metadata": {},
   "outputs": [],
   "source": [
    "contacts: dict = {'123-456-7890': 'John Doe', '987-654-3210': 'Jane Smith', \\\n",
    "            '555-123-4567' : 'Alice Johnson', '444-987-6543': 'Bob Brown', \\\n",
    "            '333-222-1111': 'Charlie Davis', '777-888-9999': 'Eve White'}\n",
    "with open(\"./phonebook.txt\", \"w\", encoding=\"utf-8\") as wfile:\n",
    "    for key, value in contacts.items():\n",
    "        wfile.write(f\"{value}, {key}\\n\")\n",
    "with open(\"./phonebook.txt\", \"r\", encoding=\"utf-8\") as rfile:\n",
    "    line : str = rfile.readline()\n",
    "    while line:\n",
    "        key, value = line.strip().split(\", \")\n",
    "        print(f\"Name: {key}, Phone: {value}\")\n",
    "        line = rfile.readline() \n",
    "with open(\"./phonebook.txt\", \"r\", encoding=\"utf-8\") as rfile:\n",
    "    for line in rfile:\n",
    "        key, value = line.strip().split(\", \")\n",
    "        print(f\"Name: {key.strip()}, Phone: {value.strip()}\")\n"
   ]
  },
  {
   "cell_type": "markdown",
   "id": "2350e121",
   "metadata": {},
   "source": [
    "##### 텍스트 파일 : 추가하기"
   ]
  },
  {
   "cell_type": "code",
   "execution_count": null,
   "id": "a9ef4864",
   "metadata": {},
   "outputs": [],
   "source": [
    "ofile = open(\"./phonebook.txt\", \"a\", encoding=\"utf-8\")  # 열기\n",
    "ofile.write(\"홍길동, 123-456-7890\\n김정렬, 987-654-3210\\n\")\n",
    "\n",
    "ofile.close()"
   ]
  },
  {
   "cell_type": "markdown",
   "id": "d7fae500",
   "metadata": {},
   "source": [
    "##### 이진 파일 다루기"
   ]
  },
  {
   "cell_type": "markdown",
   "id": "ba68e4a6",
   "metadata": {},
   "source": [
    "이진 파일의 열기 모드<br>\n",
    "\n",
    "| 모드 | 설명 |\n",
    "|:-----:|:------|\n",
    "| 'rb' | 바이너리 읽기 모드 |\n",
    "| 'wb' | 바이너리 쓰기 모드 |\n",
    "| 'ab' | 바이너리 추가 모드 |\n",
    "| 'rb+' | 바이너리 읽기/쓰기 모드 |\n",
    "| 'wb+' | 바이너리 읽기/쓰기 모드 (덮어쓰기) |\n",
    "| 'ab+' | 바이너리 읽기/쓰기 모드 (추가) |"
   ]
  },
  {
   "cell_type": "markdown",
   "id": "95a467cc",
   "metadata": {},
   "source": [
    "##### 이진 파일의 처리"
   ]
  },
  {
   "cell_type": "markdown",
   "id": "baa33985",
   "metadata": {},
   "source": [
    "이미지, 음악, 영상 파일 들은 텍스트 파일이 아니어서 메모장으로 읽을 수 없음 (문자 깨짐)<br>\n",
    "\n",
    "><small>* 해당 파일들은 특정한 인코딩 규칙에 의해 이진으로 저장됨<br>* 따라서 특정한 디코딩 규칙에 의해 원래 데이터로 복구 해야함</small><br>\n",
    "\n",
    "이진 파일의 일곡 쓰기<br>\n",
    "><small>* r: bytes = f.read(<바이트수>)<br>\n",
    "* write(<바이트 객체>)<br>\n",
    "* Type(bytes) : 바이트로 직렬화된 바이트 스트림 객체</small><br>\n",
    "\n",
    "유니코드 문자열 → 바이트 변환<br>\n",
    "><small>* strb : bytes = str.encode(‘utf-8’) → 한글 1글자에 3바이트, 영문 1글자에 1바이트로 변환<br>* strb.ljust(bsize, fillchar) → bsize만큼 할당하고 왼쪽 정렬, 나머지는 fillchar 로 채움<br>* 예) str = ‘한글‘, strb = str.encode(‘utf-8’).ljust(16, b’\\x00’) : 16바이트 할당하여 왼쪽정렬, 나머지는 0으로 채움<br></small>\n",
    "\n",
    "바이트 → 유니코드 변환<br>\n",
    "><small>* Str : str = strb[:16].rstrip(b’\\x00’).decode(‘utf-8’), 읽어들인 바이트스트림의 16바이트 끊고 우측 0을 제거한 후 utf-8로 디코드하여 유니코드얻기</small>"
   ]
  },
  {
   "cell_type": "markdown",
   "id": "939e4732",
   "metadata": {},
   "source": [
    "##### 이진 파일 다루기 예제 : 고정길이 전화번호부 (연락처 클래스 선언)"
   ]
  },
  {
   "cell_type": "markdown",
   "id": "a12190e6",
   "metadata": {},
   "source": [
    "전화번호: 전화번호, 이름, 나이로 구성된 Phonebook.bin 이진파일에 쓰고 읽어보라. 단, 전화번호 16바이트, 이름 16바이트, 나이는 이진수 4바이트 총 36바이트를 고정길이 레코드로 처리하라."
   ]
  },
  {
   "cell_type": "code",
   "execution_count": 10,
   "id": "448cffd2",
   "metadata": {},
   "outputs": [],
   "source": [
    "class ContactRecord:\n",
    "    def __init__(self, phone: str, name: str, age: int = None):\n",
    "        self.phone = phone\n",
    "        self.name = name\n",
    "        self.age = age if age is not None else 0\n",
    "\n",
    "def __str__(self) -> str:\n",
    "    return f\"전화번호: {self.phone}, 이름: {self.name}, 나이: {self.age}\"\n",
    "# 테스트용 연락처 데이터\n",
    "contacts = [\n",
    "ContactRecord(\"010-1234-5678\", \"홍길동\", 25),\n",
    "ContactRecord(\"010-2345-6789\", \"김철수\", 30),\n",
    "ContactRecord(\"010-3456-7890\", \"이영희\", 28),\n",
    "ContactRecord(\"010-4567-8901\", \"박민수\", 35)\n",
    "]\n"
   ]
  },
  {
   "cell_type": "markdown",
   "id": "85465351",
   "metadata": {},
   "source": [
    "##### 이진 파일 다루기 예제 : 레코드 바이트 패킹/언패킹 함수 정의"
   ]
  },
  {
   "cell_type": "markdown",
   "id": "dcb806f5",
   "metadata": {},
   "source": [
    "전화번호 : 이름 형태의 딕셔너리에 있는 값을 phonebook.bin 이진파일에 쓰고 읽어보라. 단, 전화번호 16바이트, 이름 16바이트, 나이 4바이트 총 36바이트를 고정길이 레코드로 처리하라"
   ]
  },
  {
   "cell_type": "code",
   "execution_count": null,
   "id": "9ec23f4d",
   "metadata": {},
   "outputs": [],
   "source": [
    "import struct\n",
    "def pack_contact_record(contact: ContactRecord) -> bytes:\n",
    "    \"\"\"\n",
    "    ContactRecord 객체를 36바이트 레코드로 패킹하는 함수\n",
    "    포맷:\n",
    "    -전화번호: 16바이트 문자열/ -이름: 16바이트 문자열/ -나이: 4바이트 정수\n",
    "    \"\"\"\n",
    "\n",
    "    # 문자열을 바이트로 변환하고 고정 길이로 맞춤, 나머지는 NULL문자 (b’\\x00’)로 채움\n",
    "    phone_bytes= contact.phone.encode('utf-8')[:16].ljust(16, b'\\x00')\n",
    "    name_bytes= contact.name.encode('utf-8')[:16].ljust(16, b'\\x00')\n",
    "\n",
    "    # struct.pack으로 36바이트 레코드 생성/ # 16s: 16바이트 문자열 (전화번호) / # 16s: 16바이트 문자열 (이름) /\n",
    "    # i: 4바이트 정수 (나이)\n",
    "    return struct.pack(\"16s16si\", phone_bytes, name_bytes, contact.age)\n",
    "\n",
    "def unpack_contact_record(record: bytes) -> ContactRecord:\n",
    "    phone_bytes, name_bytes, age = struct.unpack(\"16s16si\", record) # struct.unpack으로 데이터 추출\n",
    "\n",
    "    phone = phone_bytes.rstrip(b'\\x00').decode('utf-8', errors='ignore') # 널 바이트 제거하고 디코딩\n",
    "    name = name_bytes.rstrip(b'\\x00').decode('utf-8', errors='ignore') # 널 바이트 제거하고 디코딩\n",
    "\n",
    "    return ContactRecord(phone, name, age)"
   ]
  },
  {
   "cell_type": "markdown",
   "id": "4b1744d6",
   "metadata": {},
   "source": [
    "##### 참고 : struct 모듈"
   ]
  },
  {
   "cell_type": "markdown",
   "id": "da325b04",
   "metadata": {},
   "source": [
    "Python의 struct 모듈은 파이썬의 값들과 C 구조체 스타일의 바이트 문자열 간의 변환을 처리하는 모듈<br>\n",
    "\n",
    "주요 함수<br>\n",
    "><small>* struct.pack(format, v1, v2, ...) #값들은 바이트 문자열로 변환<br>* struct.unpack(format, buffer)  # 바이트 문자열을 값들로 변환<br>* struct.calcsize(format) # 포멧 문자열의 크기를 바이트 단위로 계산<br></small>\n",
    "\n",
    "포멧 문자열<br>\n",
    "\n",
    "><small>* 'i' # int(정수)<br>* 'f' # float(실수)<br>* 'd' # double(배정밀도 실수)<br>* 's' # string(문자열)<br>* '10s' # 10바이트 문자열<br></small>\n",
    "\n",
    "바이트 순서(Endianness) 고려\n",
    "><small>* < : 리틀 엔디안<br>* > : 빅 엔디안<br>* ! : 네트워크 바이트 순서(빅 엔디안)<br></small>\n",
    "\n",
    "문자열 처리<Br>\n",
    "><small>* 문자열은 반드시 바이트로 인코딩 해야 함<br>* 고정 길이로 패딩 필요<br></small>\n",
    "\n",
    "메모리 정렬<br>\n",
    "><small>* 구조체 패킹시 메모리 정렬 고려<br>* @, =, <, >, ! 등의 정렬 지정자 사용</small>"
   ]
  },
  {
   "cell_type": "code",
   "execution_count": null,
   "id": "14acbccf",
   "metadata": {},
   "outputs": [],
   "source": [
    "import struct\n",
    "\n",
    "data = struct.pack('i f 3s', 123, 45.67, b'abc')\n",
    "\n",
    "# 언패킹 예제(바이트를 다시 원래 값으로 변환)\n",
    "num, flt, string = struct.unpack('i f 3s', data)\n",
    "print(num) # 123\n",
    "print(flt) # 45.67\n",
    "print(string) # b'abc'\n",
    "\n",
    "# 크기 계산\n",
    "size = struct.calcsize('i f 3s')\n",
    "print(size) # 포맷의 전체 바이트 크기\n",
    "\n",
    "# 이름과 나이를 32바이트 레코드로 저장\n",
    "name =\"홍길동\"\n",
    "age=25\n",
    "record =struct.pack('20s i', name.encode('utf-8'), age)\n",
    "\n",
    "# 네트워크로 전송할 패킷 생성\n",
    "header = struct.pack('!IH', 0x1234, 80) # 네트워크 바이트 순서 사용"
   ]
  },
  {
   "cell_type": "markdown",
   "id": "c7b3d16a",
   "metadata": {},
   "source": [
    "##### 이진 파일 다루기 예제 : 전화번호부 읽고 쓰기"
   ]
  },
  {
   "cell_type": "markdown",
   "id": "1e584673",
   "metadata": {},
   "source": [
    "전화번호 : 이름 형태의 딕셔너리에 있는 값을 phonebook.bin 이진파일에 쓰고 읽어보라. 단, 전화번호 16바이트, 이름 16바이트, 나이 4바이트 총 36바이트를 고정길이 레코드로 처리하라."
   ]
  },
  {
   "cell_type": "code",
   "execution_count": null,
   "id": "e323d523",
   "metadata": {},
   "outputs": [],
   "source": [
    "rint(\"36바이트 레코드로 저장:\")\n",
    "with open(\"./contacts_struct.bin\", \"wb\") as file:\n",
    "    for contact in contacts:\n",
    "        # pack_contact_record함수를 사용하여 레코드 생성\n",
    "        record=pack_contact_record(contact)\n",
    "        file.write(record)\n",
    "        print(f\" 저장: {contact}\")\n",
    "\n",
    "print(\"\\n36바이트 레코드 읽기:\")\n",
    "with open(\"./contacts_struct.bin\", \"rb\") as file:\n",
    "    record_num=1\n",
    "    while True:\n",
    "        record=file.read(36) # 36바이트씩 읽기(16+16+4)\n",
    "        if not record or len(record) <36:\n",
    "            break\n",
    "        # unpack_contact_record함수를 사용하여 레코드 해석\n",
    "        contact=unpack_contact_record(record)\n",
    "        print(f\" 레코드{record_num}: {contact}\")\n",
    "        record_num+=1\n",
    "\n",
    "print(f\"\\n파일 크기 확인:\")\n",
    "import os\n",
    "if os.path.exists(\"./contacts_struct.bin\"):\n",
    "    size=os.path.getsize(\"./contacts_struct.bin\")\n",
    "    records=size//36\n",
    "    print(f\"contacts_struct.bin: {size}바이트({records}개 레코드)\")"
   ]
  },
  {
   "cell_type": "markdown",
   "id": "4f6af791",
   "metadata": {},
   "source": [
    "##### 파일의 임의 접근"
   ]
  },
  {
   "cell_type": "markdown",
   "id": "600f7709",
   "metadata": {},
   "source": [
    "* 특정 위치(오프셋)로 가서 데이터를 읽거나 써야할 필요가 있을 때 사용<br>\n",
    "* 특히 고정 길이 파일 구조의 특정 레코드를 임의로 접근<br>\n",
    "* 순차적이 아닌 임의 접근하므로 모든 레코드가 아닌 해당 레코드만 변경 가능<br>\n",
    "함수: f.seek(offset, from)<br>\n",
    "><small>* offset : 이동할 파일의 위치 (0~n-1, n은 파일 사이즈(Byte))<br>* From : 0 – 파일 처음부터, 1 – 파일 현재 커서 위치부터,  2 – 파일의 끝부터<br>* 예) f.seek(10,0) : 처음부터 10의 위치, f.seek(10, 2) : 끝에서 10번째 위치, f.seek(10,1) 현재 위치부터 10만큼 뒤<br>* 현재 위치(커서 위치) : 파일을 읽거나 쓸 때 쓴 바이트만큼 커서 위치가 증가<br>* 오픈했을 때 커서 위치는 0</small>\n",
    "\n",
    "* 함수: f.tell()<br>\n",
    "><small>* 열린 파일 f의 파일포인터 현재 위치를 알고 싶을 때</small>"
   ]
  },
  {
   "cell_type": "markdown",
   "id": "5c73d0aa",
   "metadata": {},
   "source": [
    "##### 이진 파일 다루기 예제 : 전화번호부 검색하여 수정"
   ]
  },
  {
   "cell_type": "markdown",
   "id": "1751fe19",
   "metadata": {},
   "source": [
    "phonebook.bin 이진파일에서 주어진 전화번호를 검색하여 레코드번호, 전화번호, 이름을 출력하여라. 단, 전화번호 16바이트, 이름 16바이트, 총 32바이트를 고정길이 레코드로 가정한다. (단, 순차탐색 가정)"
   ]
  },
  {
   "cell_type": "code",
   "execution_count": null,
   "id": "1cc31708",
   "metadata": {},
   "outputs": [],
   "source": [
    "def update_contact_in_binary_file(filename: str, target_phone: str, new_name: str, new_age: int) -> bool:\n",
    "    \"\"\"이진 파일에서 특정 전화번호의 연락처 정보 수정\"\"\"\n",
    "    try:\n",
    "        with open(filename, \"r+b\") as file:\n",
    "            record_num = 0\n",
    "            while True:\n",
    "                position = file.tell() # 현재 위치 저장\n",
    "                record =file.read(36) # 36바이트 레코드\n",
    "                \n",
    "                if not record or len(record) < 36:\n",
    "                    break\n",
    "\n",
    "                record_num += 1\n",
    "                contact = unpack_contact_record(record)\n",
    "\n",
    "                if contact.phone == target_phone:\n",
    "                    # 새로운 연락처 레코드 생성\n",
    "                    new_contact = ContactRecord(target_phone, new_name, new_age)\n",
    "                    new_record = pack_contact_record(new_contact)\n",
    "\n",
    "                    # 해당 위치로 돌아가서 수정\n",
    "                    file.seek(position)\n",
    "                    file.write(new_record)\n",
    "\n",
    "                    print(f\"레코드{record_num}수정완료:\")\n",
    "                    print(f\"이전: {contact}\")\n",
    "                    print(f\"이후: {new_contact}\")\n",
    "                    return True\n",
    "\n",
    "        print(f\"전화번호'{target_phone}'을찾을수없습니다.\")\n",
    "        return False\n",
    "\n",
    "    except FileNotFoundError:\n",
    "        print(f\"파일{filename}을찾을수없습니다.\")\n",
    "        return False"
   ]
  },
  {
   "cell_type": "markdown",
   "id": "a4da8a65",
   "metadata": {},
   "source": [
    "##### with~as 구문"
   ]
  },
  {
   "cell_type": "markdown",
   "id": "e403d623",
   "metadata": {},
   "source": [
    "문법<br>\n",
    "><small>* with 표현식 as 변수: <br>*    코드 블록<br></small>\n",
    "\n",
    "<small>- 표현식 : 컨텍스트 관리자를 반환하는 객체<br>- as 변수는 : 그 객체의 리턴값을 변수에 할당<br>- 코드블록이 끝나면 자동으로 자원정리 (__ exit __) 가 호출</small>"
   ]
  },
  {
   "cell_type": "code",
   "execution_count": null,
   "id": "d628a807",
   "metadata": {},
   "outputs": [],
   "source": [
    "with open(\"data.txt\", \"r\") as f :\n",
    "    content = f.read()\n",
    "    print(content)"
   ]
  },
  {
   "cell_type": "markdown",
   "id": "d9361c3c",
   "metadata": {},
   "source": [
    "##### with~as 구문 : 사용자 정의 표현식 (사용자 정의 Context 클래스)"
   ]
  },
  {
   "cell_type": "markdown",
   "id": "92568a80",
   "metadata": {},
   "source": [
    "문법<br>\n",
    "><small>* with 표현식 as 변수 : <br>*   코드 블록<br></small>\n",
    "\n",
    "사용자 정의 컨텍스트 클래스 정의 예제<br>\n",
    "><small>* 사용자 정의 컨</small>\n",
    "\n",
    "<small>- MyContext : __ enter __와 __ exit __ 함수를 다음과 같이 정의<bR>- with MyContext as obj : MyContext 객체를 만든 후 __ enter __ 를 실행하고 객체 반환<br>- 코드블록이 끝나면 __ exit __ 함수 수행</small>"
   ]
  },
  {
   "cell_type": "code",
   "execution_count": 1,
   "id": "6891805c",
   "metadata": {},
   "outputs": [
    {
     "name": "stdout",
     "output_type": "stream",
     "text": [
      "자원 획득\n",
      "작업 시작\n",
      "자원 해제\n"
     ]
    }
   ],
   "source": [
    "class MyContext : \n",
    "    def __enter__(self) : \n",
    "        print(\"자원 획득\")\n",
    "        return \"작업 시작\"\n",
    "    \n",
    "    def __exit__(self, exc_type, exc_value, traceback) : \n",
    "        print(\"자원 해제\")\n",
    "\n",
    "with MyContext() as msg :\n",
    "    print(msg)"
   ]
  },
  {
   "cell_type": "markdown",
   "id": "8263769d",
   "metadata": {},
   "source": [
    "##### with~as 구문 : Context 클래스 contextmanager 사용"
   ]
  },
  {
   "cell_type": "markdown",
   "id": "317f7f42",
   "metadata": {},
   "source": [
    "사용자 정의 컨텍스트 클래스 정의 예제<br>\n",
    "><small>* @contextmanager 데코레이터 사용</small><br>\n",
    "\n",
    "<small>- yield: __ enter __ 를 실행하는 것과 동일<br>- finally: __ exit __ 함수 수행</small>"
   ]
  },
  {
   "cell_type": "code",
   "execution_count": 2,
   "id": "8c1d2702",
   "metadata": {},
   "outputs": [
    {
     "name": "stdout",
     "output_type": "stream",
     "text": [
      "Hello, World!\n",
      "\n"
     ]
    }
   ],
   "source": [
    "from contextlib import contextmanager\n",
    "\n",
    "@contextmanager\n",
    "def open_file(name, mode):\n",
    "    f = open(name, mode)\n",
    "    try:\n",
    "        yield f\n",
    "    finally:\n",
    "        f.close()\n",
    "\n",
    "# 사용 예\n",
    "with open_file(\"data.txt\", \"w+\") as file:\n",
    "    file.write(\"Hello, World!\\n\")\n",
    "    file.seek(0)\n",
    "    content = file.read()\n",
    "    print(content)"
   ]
  },
  {
   "cell_type": "markdown",
   "id": "75d98e19",
   "metadata": {},
   "source": [
    "##### F-String (formatted string)"
   ]
  },
  {
   "cell_type": "markdown",
   "id": "cd69bbbe",
   "metadata": {},
   "source": [
    "변수나 표현식으로 내용을 변경할 수 있는 포맷 문자열 f ' {} '"
   ]
  },
  {
   "cell_type": "code",
   "execution_count": null,
   "id": "f27e71ce",
   "metadata": {},
   "outputs": [],
   "source": [
    "from datetime import datetime # datetime 모듈에서 datetime 클래스만 임포트\n",
    "\n",
    "n=10\n",
    "date=datetime(1988, 8, 16, 21, 30)\n",
    "print(f'{n:|^20}') # '0000000010'\n",
    "date=datetime(1988, 8, 16, 21, 30)\n",
    "now=datetime.now()\n",
    "m=20000\n",
    "a=True\n",
    "\n",
    "print(f'양수부호표시{n:+}') # '10’, 음수는n:\n",
    "print(f' 날짜 {date:%c}') # 'Tue Aug 16 21:30:00 1988'\n",
    "print(f' 날짜 {now:%Y년 %m월 %d일 %H시 %M분 %S초}') # '2022년 08월 16일 21시 30분 00초'\n",
    "print(f'{bool(a) = }') # 'bool(a) = True'\n",
    "print(f'소수점 아래 2자리{n:_.2f}') # '10.00'\n",
    "print(f'왼쪽 정렬{m:<10,}') # '20,000'\n",
    "print(f'수식 결과{3+4= }') # '3 + 4 = 7'\n",
    "print(f'우측 정렬{m:0>10}') # '0000000010'\n",
    "print(f'중앙정렬과 쉼표 표기{m:^20,}') # ' 20,000 '\n",
    "print(f\"0으로 패딩: '{num:010.2f}'\")\n",
    "print(f\"십진수: {n}\")\n",
    "print(f\"이진수: {n:b}\")\n",
    "print(f\"이진수 (0b 접두사): {n:#b}\")\n",
    "print(f\"팔진수: {n:o}\")\n",
    "print(f\"팔진수 (0o 접두사): {n:#o}\")\n",
    "print(f\"십육진수: {n:x}\")\n",
    "print(f\"십육진수 (대문자): {n:X}\")\n",
    "print(f\"십육진수 (0x 접두사): {n:#x}\")\n",
    "print(f\"십육진수 (대문자, 0X 접두사): {n:#X}\")"
   ]
  },
  {
   "cell_type": "markdown",
   "id": "2f8740e9",
   "metadata": {},
   "source": [
    "##### 날짜와 시간"
   ]
  },
  {
   "cell_type": "code",
   "execution_count": null,
   "id": "179ada7d",
   "metadata": {},
   "outputs": [],
   "source": [
    "# 날짜와 시간 포맷팅\n",
    "from datetime import datetime\n",
    "\n",
    "now = datetime.now()\n",
    "birthday = datetime(1995, 5, 15, 14, 30, 0)\n",
    "\n",
    "print(f\"현재 시간: {now}\")\n",
    "print(f\"기본 포맷: {now:%Y-%m-%d %H:%M:%S}\")\n",
    "print(f\"한국 날짜 형식: {now:%Y년%m월%d일}\")\n",
    "print(f\"시간만: {now:%H:%M:%S}\")\n",
    "print(f\"AM/PM 형식: {now:%Y-%m-%d %I:%M:%S %p}\")\n",
    "print(f\"요일: {now:%A}\")\n",
    "print(f\"월 이름: {now:%B}\")\n",
    "print(f\"ISO 형식: {now:%Y-%m-%dT%H:%M:%S}\")\n",
    "\n",
    "print(f\"\\n생일: {birthday:%Y년 %m월 %d일 %H시 %M분}\")"
   ]
  },
  {
   "cell_type": "markdown",
   "id": "07592d16",
   "metadata": {},
   "source": [
    "##### 표현식과 함수 호출"
   ]
  },
  {
   "cell_type": "code",
   "execution_count": null,
   "id": "9865ef15",
   "metadata": {},
   "outputs": [],
   "source": [
    "import math\n",
    "\n",
    "a=10\n",
    "b=3\n",
    "name= \"python\"\n",
    "\n",
    "# 수학 연산\n",
    "print(f\"{a} + {b} = {a + b}\")\n",
    "print(f\"{a}-{b} = {a - b}\")\n",
    "print(f\"{a} * {b} = {a * b}\")\n",
    "print(f\"{a} / {b} = {a / b:.2f}\")\n",
    "print(f\"{a} ** {b} = {a ** b}\")\n",
    "print(f\"{a} % {b} = {a % b}\")\n",
    "\n",
    "# 함수 호출\n",
    "print(f\"sqrt({a}) = {math.sqrt(a):.2f}\")\n",
    "print(f\"sin(π/2) = {math.sin(math.pi/2):.2f}\")\n",
    "\n",
    "# 문자열 메서드\n",
    "print(f\"대문자: {name.upper()}\")\n",
    "print(f\"길이: {len(name)}\")\n",
    "print(f\"첫글자: {name[0]}\")\n",
    "\n",
    "# 조건식\n",
    "score= 85\n",
    "print(f\"성적: {score}점({'합격' if score >=60 else '불합격'})\")"
   ]
  },
  {
   "cell_type": "markdown",
   "id": "7f2c8253",
   "metadata": {},
   "source": [
    "##### 문자열 정렬과 패딩"
   ]
  },
  {
   "cell_type": "code",
   "execution_count": null,
   "id": "962afd82",
   "metadata": {},
   "outputs": [],
   "source": [
    "text = \"Python\"\n",
    "width = 20\n",
    "\n",
    "print(\"기본 정렬:\")\n",
    "print(f\"'{text:<{width}}'\") # 왼쪽 정렬\n",
    "print(f\"'{text:>{width}}'\") # 오른쪽 정렬\n",
    "print(f\"'{text:^{width}}'\") # 가운데 정렬\n",
    "\n",
    "print(\"\\n특수 문자로 패딩:\")\n",
    "print(f\"'{text:-<{width}}'\") # 왼쪽 정렬, -패딩\n",
    "print(f\"'{text:*>{width}}'\") # 오른쪽 정렬, * 패딩\n",
    "print(f\"'{text:=^{width}}'\") # 가운데 정렬, = 패딩\n",
    "\n",
    "print(\"\\n숫자 정렬:\")\n",
    "numbers = [1, 22, 333, 4444]\n",
    "for num in numbers:\n",
    "    print(f\"'{num:>6}'\") # 오른쪽 정렬, 폭 6\n",
    "\n",
    "print(\"\\n테이블 형태:\")\n",
    "data = [\n",
    "    (\"이름\", \"나이\", \"점수\"),\n",
    "    (\"김철수\", 25, 85),\n",
    "    (\"이영희\", 30, 92),\n",
    "    (\"박민수\", 22, 78)\n",
    "]\n",
    "for row in data:\n",
    "    print(f\"{row[0]:<8} {row[1]:>3} {row[2]:>4}\")"
   ]
  },
  {
   "cell_type": "markdown",
   "id": "b8363023",
   "metadata": {},
   "source": [
    "##### 중괄호 이스케이프와 특수 문자"
   ]
  },
  {
   "cell_type": "code",
   "execution_count": null,
   "id": "e3607943",
   "metadata": {},
   "outputs": [],
   "source": [
    "name= \"Python\" # 중괄호 이스케이프와 특수 문자\n",
    "\n",
    "print(f\"딕셔너리형태: {{'name': '{name}'}}\") # 중괄호 출력하기 (이중 중괄호 사용)\n",
    "print(f\"중괄호출력: {{변수}}\")\n",
    "\n",
    "file_path = r\"C:\\Users\\Python\\Documents\" # 백슬래시와 따옴표\n",
    "quote= \"She said, 'Hello!'\"\n",
    "\n",
    "print(f\"파일경로: {file_path}\") \n",
    "print(f'인용문: {quote}')\n",
    "\n",
    "# 여러 줄 f-string\n",
    "multi_line = f\"\"\"\n",
    "이름: {name}\n",
    "길이: {len(name)}\n",
    "대문자: {name.upper()}\n",
    "\"\"\"\n",
    "\n",
    "print(multi_line)\n",
    "\n",
    "# repr() 형태로 출력 (!r 사용)\n",
    "debug_var= \"hello\\nworld\"\n",
    "print(f\"일반 출력: {debug_var}\")\n",
    "print(f\"repr 출력: {debug_var!r}\")\n",
    "\n",
    "# 디버깅용 출력 (Python 3.8+)\n",
    "x=10\n",
    "y=20\n",
    "print(f\"{x=}, {y=}\")\n",
    "print(f\"{x + y=}\")"
   ]
  },
  {
   "cell_type": "markdown",
   "id": "b423f50a",
   "metadata": {},
   "source": [
    "##### 실용 예제 : 진행률 표시, 로그메시지"
   ]
  },
  {
   "cell_type": "code",
   "execution_count": null,
   "id": "3a4caeeb",
   "metadata": {},
   "outputs": [
    {
     "name": "stdout",
     "output_type": "stream",
     "text": [
      "진행률: |--------------------| 0.0% (0/100)\n",
      "진행률: |████----------------| 20.0% (20/100)\n",
      "진행률: |████████------------| 40.0% (40/100)\n",
      "진행률: |████████████--------| 60.0% (60/100)\n",
      "진행률: |████████████████----| 80.0% (80/100)\n",
      "진행률: |████████████████████| 100.0% (100/100)\n",
      "\n",
      "==================================================\n",
      "[2025-10-01 16:38:27]  INFO| 프로그램이시작되었습니다\n",
      "[2025-10-01 16:38:27] ERROR| 파일을찾을수없습니다\n",
      "[2025-10-01 16:38:27] DEBUG| 변수x의값: 42\n",
      "\n",
      "==================================================\n"
     ]
    }
   ],
   "source": [
    "# 1. 진행률표시\n",
    "def show_progress(current, total):\n",
    "    percentage = (current/total) *100\n",
    "    bar_length = 20\n",
    "    filled_length = int(bar_length*current/total)\n",
    "    bar='█'*filled_length+'-'*(bar_length-filled_length)\n",
    "    return f\"\\r진행률: |{bar}| {percentage:.1f}% ({current}/{total})\"\n",
    "    \n",
    "for i in range(0, 101, 20):\n",
    "    print(show_progress(i, 100))\n",
    "\n",
    "print(\"\\n\"+\"=\"*50)\n",
    "\n",
    "# 2. 로그메시지포맷팅\n",
    "import datetime\n",
    "\n",
    "def log_message(level, message):\n",
    "    timestamp = datetime.datetime.now()\n",
    "    return f\"[{timestamp:%Y-%m-%d %H:%M:%S}] {level:>5}| {message}\"\n",
    "\n",
    "print(log_message(\"INFO\", \"프로그램이시작되었습니다\"))\n",
    "print(log_message(\"ERROR\", \"파일을찾을수없습니다\"))\n",
    "print(log_message(\"DEBUG\", \"변수x의값: 42\"))\n",
    "\n",
    "print(\"\\n\"+\"=\"*50)"
   ]
  }
 ],
 "metadata": {
  "kernelspec": {
   "display_name": "Python 3",
   "language": "python",
   "name": "python3"
  },
  "language_info": {
   "codemirror_mode": {
    "name": "ipython",
    "version": 3
   },
   "file_extension": ".py",
   "mimetype": "text/x-python",
   "name": "python",
   "nbconvert_exporter": "python",
   "pygments_lexer": "ipython3",
   "version": "3.13.7"
  }
 },
 "nbformat": 4,
 "nbformat_minor": 5
}
