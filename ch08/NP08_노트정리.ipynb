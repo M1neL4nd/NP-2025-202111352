{
 "cells": [
  {
   "cell_type": "markdown",
   "id": "1534f319",
   "metadata": {},
   "source": [
    "## 이름 : 정승희 학번 : 202111352"
   ]
  },
  {
   "cell_type": "markdown",
   "id": "3803a0b6",
   "metadata": {},
   "source": [
    "##### __ init __.py"
   ]
  },
  {
   "cell_type": "markdown",
   "id": "91f69e41",
   "metadata": {},
   "source": [
    "__ init __.py의 역할<br>\n",
    "><small>* 파이썬 패키지로 인식 : <br></small>\n",
    "\n",
    "<small>- __ init __.py 파일은 해당 디렉토리를 python 패키지로 인식하게 만듭니다.<Br>- Python 3.3 이상에서는 __ init __.py가 없어도 패키지로 인식되지만, 명시적으로 포함하는 것이 권장됩니다.</small><br>\n",
    "\n",
    "><small>* 초기화 코드 실행 : <br></small>\n",
    "\n",
    "<small>- 패키지가 import될 때 실행할 초기화 코드를 포함할 수 있습니다.<br>- 예를 들어, 패키지 내에서 공통적으로 사용할 설정이나 변수 초기화를 수행할 수 있습니다.</small>\n",
    "\n",
    "><small>* __ init __.py의 위치</small><br>\n",
    "\n",
    "<small>- mypackage/<Br>| <Br>|---- __ init __.py # 패키지 초기화 파일<br>|---- module1.py<br>ㄴ----module2.py</small>"
   ]
  },
  {
   "cell_type": "markdown",
   "id": "9c728715",
   "metadata": {},
   "source": [
    "##### 모듈과 패키지의 차이"
   ]
  },
  {
   "cell_type": "markdown",
   "id": "0a49b157",
   "metadata": {},
   "source": [
    "모듈 (Module)<br>\n",
    "><small>* 정의: Python에서 하나의 .py 파일이 하나의 모듈<br></small>\n",
    "\n",
    "<small>- 모듈은 함수, 클래스, 변수 등을 포함할 수 있으며, 코드 재사용을 위해 사용<br></small>\n",
    "\n",
    "패키지 (Package)<br>\n",
    "><small>* 정의: Python에서 디렉토리가 패키지<br></small>\n",
    "\n",
    "<small>- 패키지는 여러 모듈을 포함할 수 있음<br>- 대규모 프로젝트에 필요<br>- 디렉토리에 __ init __.py가 필수적 (비어 있더라도 인식)</small>\n"
   ]
  },
  {
   "cell_type": "markdown",
   "id": "b47b6c61",
   "metadata": {},
   "source": [
    "| 구분 | 모듈 | 패키지 |\n",
    "|-------|-------|-------|\n",
    "| 구성단위 | 하나의 .py 파일 | 디렉토리 (여러 모듈 포함) |\n",
    "| 초기화 파일 | 필요 없음 | __ init __.py 필요(Python 3.3+ 에서는 선택적) |\n",
    "| 용도 | 코드 재사용 | 모듈을 그룹화하여 계층적 관리 |\n",
    "| 예시 | math, os | mypackage (디렉토리) |"
   ]
  },
  {
   "cell_type": "markdown",
   "id": "84283ef0",
   "metadata": {},
   "source": [
    "##### 패키지(package) 란"
   ]
  },
  {
   "cell_type": "markdown",
   "id": "906c1c8b",
   "metadata": {},
   "source": [
    "패키지 (Package)<Br>\n",
    "><small>* 정의: </small>\n",
    "\n",
    "<small>- Python에서 디렉토리가 패키지<br>- 패키지는 여러 모듈을 포함할 수 있으며, 디렉토리 내에 __ init __.py 파일이 있어야 패키지로 인식됨</small>\n",
    "\n",
    "><small>* 특징: </small>\n",
    "\n",
    "<small>- 디렉토리 단위로 구성됨.<Br>- 모듈을 그룹화하여 계층 구조를 제공.<br>- 대규모 프로젝트에서 코드 구조를 체계적으로 관리하는 데 유용.</small><br>\n",
    "\n",
    "mypackage/<Br>\n",
    "\n",
    "<small>* |---- __ init __.py # 패키지 초기화 파일<Br>* |---- module1.py<Br>* ㄴ---- module2.py</small>\n"
   ]
  },
  {
   "cell_type": "markdown",
   "id": "59f05fc1",
   "metadata": {},
   "source": [
    "##### 모듈과 패키지 사용법 (클라이언트 코드)"
   ]
  },
  {
   "cell_type": "markdown",
   "id": "40c03682",
   "metadata": {},
   "source": [
    "><small>* 모듈 : import 함수<br>* 패키지 : from ~ 패키지 import 패키지 내 모듈</small>"
   ]
  },
  {
   "cell_type": "code",
   "execution_count": null,
   "id": "73c7d422",
   "metadata": {},
   "outputs": [],
   "source": [
    "# math 모듈 사용\n",
    "import math\n",
    "print(math.sqrt(16)) # 4.0\n",
    "\n",
    "#패키지 사용\n",
    "from mypackage import module1\n",
    "\n",
    "module1.some_function()"
   ]
  },
  {
   "cell_type": "markdown",
   "id": "1346d7d9",
   "metadata": {},
   "source": [
    "##### __ init __.py 내용"
   ]
  },
  {
   "cell_type": "markdown",
   "id": "c755f572",
   "metadata": {},
   "source": [
    "패키지 폴더 아래에 위치<br>\n",
    "><small>* 패키지 (package) : 라이브러리 (함수/클래스의 집합)</small>"
   ]
  },
  {
   "cell_type": "code",
   "execution_count": null,
   "id": "98d8c4d1",
   "metadata": {},
   "outputs": [],
   "source": [
    "# __init__.py\n",
    "\n",
    "## 패키지 이름 : mypackage\n",
    "## 패키지 초기화 및 메타데이터 설정\n",
    "\n",
    "__version__ = \"1.0.0\"\n",
    "__author__ = \"Your name\"\n",
    "\n",
    "## __init__.py 위치\n",
    "\n",
    "mypackage/\n",
    "|\n",
    "|___ __init__.py # 패키지 초기화 파일\n",
    "|___ module1.py\n",
    "|___ module2.py\n",
    "'''\n",
    "'''"
   ]
  },
  {
   "cell_type": "code",
   "execution_count": null,
   "id": "68b98816",
   "metadata": {},
   "outputs": [],
   "source": [
    "## 패키지 내 주요 클래스 및 함수 노출\n",
    "from .module1 import Class1\n",
    "from .module2 import function2\n",
    "print(\"mypackage 패키지가 로드되었습니다.\")\n",
    "\n",
    "'''\n",
    "외부에서 다음과 같이 사용:\n",
    "'''\n",
    "\n",
    "from mypackage import Class1, function2\n",
    "\n",
    "## 동적 모듈 로딩\n",
    "import importlib\n",
    "\n",
    "def load_module(name) : \n",
    "    return \\\n",
    "        importlib.import_module(f\".{name}\", package=__name__)"
   ]
  }
 ],
 "metadata": {
  "kernelspec": {
   "display_name": "Python 3",
   "language": "python",
   "name": "python3"
  },
  "language_info": {
   "codemirror_mode": {
    "name": "ipython",
    "version": 3
   },
   "file_extension": ".py",
   "mimetype": "text/x-python",
   "name": "python",
   "nbconvert_exporter": "python",
   "pygments_lexer": "ipython3",
   "version": "3.13.7"
  }
 },
 "nbformat": 4,
 "nbformat_minor": 5
}
