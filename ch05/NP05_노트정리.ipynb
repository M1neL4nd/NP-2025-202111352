{
 "cells": [
  {
   "cell_type": "markdown",
   "id": "d8cb3275",
   "metadata": {},
   "source": [
    "## 이름 : 정승희 학번 : 202111352"
   ]
  },
  {
   "cell_type": "markdown",
   "id": "8031d9ab",
   "metadata": {},
   "source": [
    "함수"
   ]
  },
  {
   "cell_type": "markdown",
   "id": "6c89dae6",
   "metadata": {},
   "source": [
    "><small>* 함수란?<br>\n",
    "* 이름을 붙여 반복적으로 사용할 수 있는 프로그램 부분<br>\n",
    "* print(), input(), str() 등<br></small>\n",
    "><small>* 함수를 사용하는 이유<br>\n",
    "* 프로그램 안에서 중복된 코드를 제거한다.<br>\n",
    "* 복잡한 프로그래밍 작업을 더 간단한 작업들로 분해할 수 있다.<br>\n",
    "* 함수는 한번 만들어지면 다른 프로그램에서도 재사용될 수 있다.<br>\n",
    "* 함수를 사용하면 가독성(프로그램의 이해)이 증대되고, 유지 관리도 쉬워진다.<br></small>\n",
    "><small>파이썬의 함수는 일급 함숭디다. 함수를 변수처럼 사용<br>\n",
    "* 변수에 할당: a = func<br>\n",
    "* 다른 함수의 인자로 전달 가능 : func1(func)<br>\n",
    "*return 문으로 반환 가능 : return func<br></small>\n",
    "><small>* 함수의 종류<br>\n",
    "* 내장 함수<br>\n",
    "* 사용자 정의 함수</small>"
   ]
  },
  {
   "cell_type": "markdown",
   "id": "2a238820",
   "metadata": {},
   "source": [
    "함수의 정의와 호출"
   ]
  },
  {
   "cell_type": "markdown",
   "id": "7319d566",
   "metadata": {},
   "source": [
    "><small>* 사용자 정의 함수의 작성</small>"
   ]
  },
  {
   "cell_type": "code",
   "execution_count": null,
   "id": "bf35e225",
   "metadata": {},
   "outputs": [],
   "source": [
    "def 함수이름(매개 변수) : \n",
    "    문장1\n",
    "    문장2\n",
    "    ...\n",
    "    return 값"
   ]
  },
  {
   "cell_type": "markdown",
   "id": "daac6b8e",
   "metadata": {},
   "source": [
    "><small>* 함수의 정의와 호출 예</small>"
   ]
  },
  {
   "cell_type": "code",
   "execution_count": null,
   "id": "f77b8297",
   "metadata": {},
   "outputs": [],
   "source": [
    "def welcome(name) : #함수의 정의\n",
    "    print(\"Hello,\", name) #return 문이 없어도 됨. None 반환\n",
    "\n",
    "welcome('John') # 함수의 호출. 'John'이 매개변수로 전달됨"
   ]
  },
  {
   "cell_type": "markdown",
   "id": "6526e35c",
   "metadata": {},
   "source": [
    "함수의 반환"
   ]
  },
  {
   "cell_type": "markdown",
   "id": "bbbf46e4",
   "metadata": {},
   "source": [
    "><small>* 반환 값이 없는 함수</small>"
   ]
  },
  {
   "cell_type": "code",
   "execution_count": null,
   "id": "2c799363",
   "metadata": {},
   "outputs": [],
   "source": [
    "def prtStr(str) : # str을 매개변수라 함\n",
    "    print(\"%s\" %str)\n",
    "    return # 반환 값이 없이 함수가 종료\n",
    "\n",
    "str = \"Welcome to Python\"\n",
    "prtStr(str) # 매개변수를 전달하여 함수 호출"
   ]
  },
  {
   "cell_type": "markdown",
   "id": "4ff88055",
   "metadata": {},
   "source": [
    "><small>* 값을 반환하는 함수</small>"
   ]
  },
  {
   "cell_type": "code",
   "execution_count": null,
   "id": "395fcf4b",
   "metadata": {},
   "outputs": [],
   "source": [
    "def squareArea(s) : \n",
    "    area = s * s\n",
    "    return #area 값이 반환되고 종료\n",
    "\n",
    "a = squareArea(5) #5를 인자(argument)라 함. 반환 값이 a에 저장\n",
    "b = squareArea(7)\n",
    "print(\"한변의 길이가 %d인 정사각형의 넓이는 %d\" %(5, a))\n",
    "print(\"한변의 길이가 %d인 정사각형의 넓이는 %d\" % (7, b))"
   ]
  },
  {
   "cell_type": "markdown",
   "id": "29ca5feb",
   "metadata": {},
   "source": [
    "함수의 예"
   ]
  },
  {
   "cell_type": "markdown",
   "id": "f0266263",
   "metadata": {},
   "source": [
    "><small>* 1~n까지의 합을 계산하는 함수</small>"
   ]
  },
  {
   "cell_type": "code",
   "execution_count": null,
   "id": "67ff2bb5",
   "metadata": {},
   "outputs": [],
   "source": [
    "def sum(n) : #매개변수 n을 전달 받는다\n",
    "    hab = 0\n",
    "    for i in range(1, n+1) : #1~n까지 반복\n",
    "        hab = hab + i #합에 새로운 수를 더한다\n",
    "    return hab #반환값 = hab\n",
    "\n",
    "a = sum(50) #함수를 호출하여(인자=50) 1부터 50까지의 합을 계산\n",
    "b = sum(1000) #함수를 호출하여(인자 = 50) 1부터 1000까지의 합\n",
    "print(a)\n",
    "print(b)"
   ]
  },
  {
   "cell_type": "markdown",
   "id": "b75bcae2",
   "metadata": {},
   "source": [
    "함수와 변수"
   ]
  },
  {
   "cell_type": "markdown",
   "id": "2a41e508",
   "metadata": {},
   "source": [
    "><small>* 지역 변수(local variable)와 전역 변수(global variable)<br>\n",
    "* 지역 변수 : 함수 내에서만 값이 유효<br>\n",
    "* 전역 변수 : 프로그램 전체에서 값이 유효<br>\n",
    "* 다음 프로그램에서 v는 지역 변수이다</small>"
   ]
  },
  {
   "cell_type": "code",
   "execution_count": null,
   "id": "0a869d7e",
   "metadata": {},
   "outputs": [],
   "source": [
    "#함수 선언부\n",
    "def func1() : \n",
    "    v = 10\n",
    "    print(\"func1()의 v = %d\" % v)\n",
    "\n",
    "def func2() :\n",
    "    v = 20\n",
    "    print(\"func2()의 v = %d\" % v)\n",
    "\n",
    "#메인 코드 부분\n",
    "func1()\n",
    "func2()"
   ]
  },
  {
   "cell_type": "markdown",
   "id": "3721fbf5",
   "metadata": {},
   "source": [
    "전역 변수"
   ]
  },
  {
   "cell_type": "markdown",
   "id": "31c3a49d",
   "metadata": {},
   "source": [
    "><small>* 전역 변수의 유효 범위</small>"
   ]
  },
  {
   "cell_type": "code",
   "execution_count": null,
   "id": "0171430a",
   "metadata": {},
   "outputs": [],
   "source": [
    "#함수 선언부\n",
    "def func1() : \n",
    "    v = 10 # 함수 func1()안의 지역 변수. 지역 변수가 우선 사용\n",
    "    print(\"func1()의 v = %d\" % v)\n",
    "\n",
    "def func2() :\n",
    "    print(\"func2()의 v = %d\" % v) # 함수 func2()안의 전역 변수\n",
    "\n",
    "#전역변수\n",
    "v = 20 # 전역변수이므로 프로그램 내에서 유효\n",
    "\n",
    "#메인 코드 부분\n",
    "func1() #지역 변수 값인 10을 출력. 지역 변수가 없을 때 전역 변수 사용\n",
    "func2() #전역 변수 값인 20을 출력"
   ]
  },
  {
   "cell_type": "markdown",
   "id": "1f789abc",
   "metadata": {},
   "source": [
    "><small>* 전역 변수의 선언</small>"
   ]
  },
  {
   "cell_type": "code",
   "execution_count": null,
   "id": "183f2c9b",
   "metadata": {},
   "outputs": [],
   "source": [
    "#함수 선언부\n",
    "def func1() : \n",
    "    v = 10 # 함수 func1()안의 지역 변수\n",
    "    print(\"func1()의 v = %d\" % v)\n",
    "\n",
    "def func2() :\n",
    "    global v # v를 전역 변수로 선언\n",
    "    v = 30\n",
    "    print(\"func2()의 v = %d\" % v)\n",
    "\n",
    "\n",
    "v = 20 # 함수 밖에서 정의 되었으므로 전역 변수\n",
    "\n",
    "#메인 코드 부분\n",
    "func1() #10을 출력\n",
    "func2() #30을 출력\n",
    "print(v) #30을 출력. 전역변수가 v가 변경됨"
   ]
  },
  {
   "cell_type": "markdown",
   "id": "e341d71a",
   "metadata": {},
   "source": [
    "함수 매개변수의 전달"
   ]
  },
  {
   "cell_type": "markdown",
   "id": "8aaf643a",
   "metadata": {},
   "source": [
    "><small>* 매개변수의 기본값 지정(기본 매개변수)</small>"
   ]
  },
  {
   "cell_type": "code",
   "execution_count": null,
   "id": "88aee7da",
   "metadata": {},
   "outputs": [],
   "source": [
    "def prtMesg(message, count = 1) : #count의 기본값이 1로 지정\n",
    "    print(message * count)\n",
    "prtMesg('default') #message = 'default'. count는 기본값 사용\n",
    "prtMesg('Hi! ', 5) #message와 count 인자 전달"
   ]
  },
  {
   "cell_type": "code",
   "execution_count": null,
   "id": "d385a265",
   "metadata": {},
   "outputs": [],
   "source": [
    "def greet(name, msg=\"Nothing new?\"):\n",
    "    print(\"Hi! \", name + ', ' + msg)\n",
    "greet(\"Abe\") #name만 전달\n",
    "greet(\"Bob\", \"Good morning!\") #name과 msg 전달"
   ]
  },
  {
   "cell_type": "markdown",
   "id": "bf4f398f",
   "metadata": {},
   "source": [
    "><small>* 일반(위치) 매개변수의 값을 전달하지 않으면 오류</small>"
   ]
  },
  {
   "cell_type": "code",
   "execution_count": null,
   "id": "f8efa60c",
   "metadata": {},
   "outputs": [],
   "source": [
    "prtMesg(count=3)\n",
    "Traceback (most recent call last):\n",
    "  File \"<pyshell#4>\", line 1, in <module>\n",
    "    prtMesg(count=3)\n",
    "TypeError: prtMesg() missing 1 required positional argument: 'message'"
   ]
  },
  {
   "cell_type": "markdown",
   "id": "678c318d",
   "metadata": {},
   "source": [
    "함수의 매개변수의 전달"
   ]
  },
  {
   "cell_type": "markdown",
   "id": "cac6e5ec",
   "metadata": {},
   "source": [
    "><small>* 가변 매개변수 - 매개변수의 개수가 가변일 때<br>\n",
    "* 매개변수가 *arg로 표시되면 튜플로 처리</small>"
   ]
  },
  {
   "cell_type": "code",
   "execution_count": null,
   "id": "7a11967b",
   "metadata": {},
   "outputs": [],
   "source": [
    "def total(*numbers) :\n",
    "    sum = 0\n",
    "    for n in numbers : #전달 받은 매개변수를 튜플로 처리\n",
    "        sum += n\n",
    "    return sum\n",
    "print(total(1,2,3)) #3개의 인자\n",
    "print(total(1,2,3,4,5)) #5개의 인자"
   ]
  },
  {
   "cell_type": "markdown",
   "id": "eb7a8bf0",
   "metadata": {},
   "source": [
    "<small>* 매개변수가 **keywords로 표시되면 딕셔너리로 처리</small>"
   ]
  },
  {
   "cell_type": "code",
   "execution_count": null,
   "id": "bf7ec197",
   "metadata": {},
   "outputs": [],
   "source": [
    "def dicPresident(**keywords) :\n",
    "    for i in keywords.keys() : #딕셔너리 key를 하나씩 처리\n",
    "        print(\"%s : %d-th president\" %(i, keywords[i]))\n",
    "        \n",
    "dicPresident(Kennedy=35, Obama=44, Trump=45) #(key=value)로 전달"
   ]
  },
  {
   "cell_type": "markdown",
   "id": "cd369bd5",
   "metadata": {},
   "source": [
    "><small>* 키워드를 이용한 매개변수 전달<br>\n",
    "* 매개변수의 위치가 아니라 키워드를 이용하여 매개변수 전달</small>"
   ]
  },
  {
   "cell_type": "code",
   "execution_count": null,
   "id": "cb07ab63",
   "metadata": {},
   "outputs": [],
   "source": [
    "def func(a, b=2, c=3): #a : 위치 매개변수, b, c : 키워드 매개변수\n",
    "    print('a=', a, 'b=', b, 'c=', c)\n",
    "    return a + b + c\n",
    "print(func(4, 5)) #인자 위치에 의해 a = 4, b = 5로 전달\n",
    "print(func(5, c=7)) #키워드 c를 이용한 전달. a = 5, c = 7, b는 기본값"
   ]
  }
 ],
 "metadata": {
  "kernelspec": {
   "display_name": "Python 3",
   "language": "python",
   "name": "python3"
  },
  "language_info": {
   "codemirror_mode": {
    "name": "ipython",
    "version": 3
   },
   "file_extension": ".py",
   "mimetype": "text/x-python",
   "name": "python",
   "nbconvert_exporter": "python",
   "pygments_lexer": "ipython3",
   "version": "3.13.7"
  }
 },
 "nbformat": 4,
 "nbformat_minor": 5
}
