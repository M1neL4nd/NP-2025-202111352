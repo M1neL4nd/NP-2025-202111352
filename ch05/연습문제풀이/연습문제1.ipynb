{
 "cells": [
  {
   "cell_type": "markdown",
   "id": "281ec4c1",
   "metadata": {},
   "source": [
    "## 이름 : 정승희 학번 : 202111352"
   ]
  },
  {
   "cell_type": "markdown",
   "id": "b49e2db7",
   "metadata": {},
   "source": [
    "><small>1. 두 개의 매개변수 n, m을 전달받아 m x n개의 * 상자를 출력하는 프로그램을 함수로 작성</small>"
   ]
  },
  {
   "cell_type": "code",
   "execution_count": 21,
   "id": "d19c8052",
   "metadata": {},
   "outputs": [
    {
     "name": "stdout",
     "output_type": "stream",
     "text": [
      "*****\n",
      "*****\n",
      "*****\n",
      "*****\n",
      "*****\n",
      "*****\n"
     ]
    }
   ],
   "source": [
    "def box(n, m) : \n",
    "    for i in range(m):\n",
    "        print('*' * n)\n",
    "\n",
    "box(5, 6)"
   ]
  },
  {
   "cell_type": "markdown",
   "id": "3311c044",
   "metadata": {},
   "source": [
    "><small>2. 하나의 숫자를 전달받아 숫자의 자리 합을 구하는 함수를 작성</small>"
   ]
  },
  {
   "cell_type": "code",
   "execution_count": 22,
   "id": "98745bcf",
   "metadata": {},
   "outputs": [
    {
     "name": "stdout",
     "output_type": "stream",
     "text": [
      "6\n"
     ]
    }
   ],
   "source": [
    "def d_sum(n) : \n",
    "    return sum(int(d) for d in str(n))\n",
    "\n",
    "print(d_sum(123))"
   ]
  },
  {
   "cell_type": "markdown",
   "id": "d8c26a99",
   "metadata": {},
   "source": [
    "><small>3. 두 개의 문자열이 서로 다른 처음 위치를 반환하는 함수를 작성. 두 개의 문자열이 같으면 -1을 반환</small>"
   ]
  },
  {
   "cell_type": "code",
   "execution_count": 29,
   "id": "0bce283a",
   "metadata": {},
   "outputs": [
    {
     "name": "stdout",
     "output_type": "stream",
     "text": [
      "3\n",
      "-1\n"
     ]
    }
   ],
   "source": [
    "def dif(str1, str2) : \n",
    "    d_len = min(len(str1), len(str2))\n",
    "\n",
    "    for i in range(d_len) : \n",
    "        if str1[i] != str2[i] : \n",
    "            return i\n",
    "        \n",
    "        if len(str1) != len(str2) : \n",
    "            return d_len\n",
    "        \n",
    "    return -1\n",
    "\n",
    "print(dif(\"abc\", \"abcd\"))\n",
    "print(dif(\"abc\", \"abc\"))"
   ]
  },
  {
   "cell_type": "markdown",
   "id": "bb2dba75",
   "metadata": {},
   "source": [
    "><small>4. 숫자를 전달받아 그 수의 약수를 리스트로 반환하는 함수를 작성</small>"
   ]
  },
  {
   "cell_type": "code",
   "execution_count": 30,
   "id": "da55dc23",
   "metadata": {},
   "outputs": [
    {
     "name": "stdout",
     "output_type": "stream",
     "text": [
      "[1, 2, 3, 4, 6, 12]\n"
     ]
    }
   ],
   "source": [
    "def div(n):\n",
    "    return [i for i in range(1, n + 1) if n % i == 0]\n",
    "\n",
    "print(div(12))"
   ]
  },
  {
   "cell_type": "markdown",
   "id": "38c8fcea",
   "metadata": {},
   "source": [
    "><small>5. 문자열과 하나의 문자를 전달받아 문자열에서 문자의 위치를 모두 찾아 리스트로 반환하는 함수를 작성</small>"
   ]
  },
  {
   "cell_type": "code",
   "execution_count": 33,
   "id": "4a83d18a",
   "metadata": {},
   "outputs": [
    {
     "name": "stdout",
     "output_type": "stream",
     "text": [
      "[2, 3]\n"
     ]
    }
   ],
   "source": [
    "def ch(string, char):\n",
    "    return [i for i in range(len(string)) if string[i] == char]\n",
    "\n",
    "print(ch(\"Hello\", \"l\"))"
   ]
  },
  {
   "cell_type": "markdown",
   "id": "69b16ed1",
   "metadata": {},
   "source": [
    "><small>6. 재귀 함수를 이용하여 1부터 100까지의 합을 계산하는 프로그램</small>"
   ]
  },
  {
   "cell_type": "code",
   "execution_count": 37,
   "id": "bc5a9a3d",
   "metadata": {},
   "outputs": [
    {
     "name": "stdout",
     "output_type": "stream",
     "text": [
      "1부터 100까지의 합 : 5050\n"
     ]
    }
   ],
   "source": [
    "def a_sum(n) : \n",
    "    if n == 1 : \n",
    "        return 1\n",
    "    else : \n",
    "        return n + a_sum(n - 1)\n",
    "    \n",
    "print(\"1부터 100까지의 합 :\", a_sum(100))"
   ]
  },
  {
   "cell_type": "markdown",
   "id": "948b2de9",
   "metadata": {},
   "source": [
    "><small>반지름을 전달하면 원의 면적을 반환하는 cir_area(r) 함수와 원의 둘레를 반환하는 cir_cirm(r) 함수를 작성하라. 이들 함수를 이용하여 반지름이 3.5cm인 원의 면적과 둘레를 소수점 아래 첫 자리까지 구하라.</small>"
   ]
  },
  {
   "cell_type": "code",
   "execution_count": 39,
   "id": "82c8512e",
   "metadata": {},
   "outputs": [
    {
     "name": "stdout",
     "output_type": "stream",
     "text": [
      "원의 면적 : 314\n",
      "원의 둘레 : 63\n"
     ]
    }
   ],
   "source": [
    "def cir_area(r) : \n",
    "    return round(3.14 * r * r)\n",
    "\n",
    "def cir_cirm(r) : \n",
    "    return round(2 * 3.14 * r)\n",
    "\n",
    "print(\"원의 면적 :\", cir_area(10))\n",
    "print(\"원의 둘레 :\", cir_cirm(10))"
   ]
  }
 ],
 "metadata": {
  "kernelspec": {
   "display_name": "Python 3",
   "language": "python",
   "name": "python3"
  },
  "language_info": {
   "codemirror_mode": {
    "name": "ipython",
    "version": 3
   },
   "file_extension": ".py",
   "mimetype": "text/x-python",
   "name": "python",
   "nbconvert_exporter": "python",
   "pygments_lexer": "ipython3",
   "version": "3.13.7"
  }
 },
 "nbformat": 4,
 "nbformat_minor": 5
}
