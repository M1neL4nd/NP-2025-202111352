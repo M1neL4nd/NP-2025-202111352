{
 "cells": [
  {
   "cell_type": "markdown",
   "id": "4bd7d52a",
   "metadata": {},
   "source": [
    "## 이름 : 정승희 학번 : 202111352"
   ]
  },
  {
   "cell_type": "markdown",
   "id": "6ae2fb64",
   "metadata": {},
   "source": [
    "프로그램 제어문"
   ]
  },
  {
   "cell_type": "markdown",
   "id": "639e834f",
   "metadata": {},
   "source": [
    "><small>* 프로그램은 작성 순서대로 실행<br>* 제어문: 프로그램의 실행 순서를 바꾸는 문장</small><Br>\n",
    "<small>\n",
    "* 조건문<br>- if, if-else, if-elif-else<Br>\n",
    "* 반복문<br>- while<Br>-for<Br>\n",
    "* 기타 제어문<br>- break<br>-continue</small>"
   ]
  },
  {
   "cell_type": "markdown",
   "id": "fd6a9869",
   "metadata": {},
   "source": [
    "조건문"
   ]
  },
  {
   "cell_type": "markdown",
   "id": "217155e0",
   "metadata": {},
   "source": [
    "><small>* if문<br></small>\n",
    "\n",
    "<small>* 조건을 만족할때 정해진 문장 블록을 실행<br></small>\n",
    "<hr><small>\n",
    "if 문의 기본 구조\n",
    "<hr>\n",
    "if Condition(조건)<br>\n",
    "    Block(블록)\n",
    "<hr>\n",
    "Condition(조건)이 참이면 : 다음의 Block(블록) 부분을 실행함<br></small>\n",
    "<hr>\n",
    "<small>* 조건이 참(True)이면 블록을 실행하고 아니면 블록을 건너뛴다</small>"
   ]
  },
  {
   "cell_type": "code",
   "execution_count": null,
   "id": "c761503b",
   "metadata": {},
   "outputs": [],
   "source": [
    "score = int(input(\"정수 입력: \"))\n",
    "if score >= 90 : #if문 끝에 :을 붙인다\n",
    "    print(\"성적: A\") #들여쓰기\n",
    "    print(\"장학금 수여\")\n",
    "\n",
    "age_0 = 22\n",
    "age_1 = 18\n",
    "age = int(input('your age> '))\n",
    "if age < age_0 and age > age_1: #복합 조건문\n",
    "    print(\"당신의 나이는 18~22세 사이입니다\")"
   ]
  },
  {
   "cell_type": "markdown",
   "id": "b602bf1b",
   "metadata": {},
   "source": [
    "><small>* if-else문</small><br>\n",
    "<hr>\n",
    "<small>if-else 문의 기본 구조\n",
    "<hr>\n",
    "if Condition(조건)<Br>\n",
    "    Block1(블록1)<Br>\n",
    "else :<br>\n",
    "    Block2(블록2)<br></small>\n",
    "    <hr>"
   ]
  },
  {
   "cell_type": "markdown",
   "id": "a799906b",
   "metadata": {},
   "source": [
    "<small>\n",
    "* 조건이 참(True)이면 Block1을 실행하고 else: 는 무시<br>\n",
    "* 참(Ture)이 아니면 else: 다음 Block2를 실행<br>\n",
    "</small>"
   ]
  },
  {
   "cell_type": "code",
   "execution_count": null,
   "id": "262377f0",
   "metadata": {},
   "outputs": [],
   "source": [
    "if score >= 90 :\n",
    "    print(\"pass\")\n",
    "else : #else도 끝에 :을 붙인다\n",
    "    print(\"fail\")#들여쓰기"
   ]
  },
  {
   "cell_type": "markdown",
   "id": "b16b7385",
   "metadata": {},
   "source": [
    "<small>* 한줄로 표현하기</small>"
   ]
  },
  {
   "cell_type": "code",
   "execution_count": null,
   "id": "64276925",
   "metadata": {},
   "outputs": [],
   "source": [
    "res = 'pass' if score >= 90 else 'fail'\n",
    "print(res)"
   ]
  },
  {
   "cell_type": "markdown",
   "id": "2e5b22b1",
   "metadata": {},
   "source": [
    "><small>* 중첩 if 문-if 문 속에 또 다른 if 문</small>"
   ]
  },
  {
   "cell_type": "code",
   "execution_count": null,
   "id": "94c78de8",
   "metadata": {},
   "outputs": [],
   "source": [
    "n = int(input(\"type int number : \"))\n",
    "if n > 0 :\n",
    "    print(\"positive\")\n",
    "else : \n",
    "    if n < 0 :\n",
    "        print(\"negative\")\n",
    "    else : \n",
    "        print(\"0\")"
   ]
  },
  {
   "cell_type": "code",
   "execution_count": null,
   "id": "8b6519f4",
   "metadata": {},
   "outputs": [],
   "source": [
    "n = int(input(\"type int number: \"))\n",
    "if n >= 0 :\n",
    "    if n == 0 :\n",
    "        print(\"0\")\n",
    "    else : \n",
    "        print(\"positive\")\n",
    "else :\n",
    "    print(\"negative\")"
   ]
  },
  {
   "cell_type": "markdown",
   "id": "61e99e88",
   "metadata": {},
   "source": [
    "><small>* if-elif-else 문</small>\n",
    "<br>\n",
    "\n",
    "<small> * if 조건1이 참이면 블록1, if 조건이 거짓이고 elif 조건2이 참이면 블록2, 조건이 모두 거짓이면 블록3이 실행된다</small>\n",
    "<hr>\n",
    "<small>\n",
    "if-elif-else 문의 기본 구조<br>\n",
    "<hr>\n",
    "if condition1(조건1) : <br>\n",
    "    Block1(블록1)<br>\n",
    "elif Condition2(조건2) : <br>\n",
    "     Block2(블록2)<br>\n",
    "else : <br>\n",
    "     Block3(블록3)<br>\n",
    "<hr>"
   ]
  },
  {
   "cell_type": "code",
   "execution_count": null,
   "id": "ef8e329e",
   "metadata": {},
   "outputs": [],
   "source": [
    "n = int(input(\"type int number : \"))\n",
    "if n > 0 : \n",
    "    print(\"positive\")\n",
    "elif n < 0 : \n",
    "    print(\"negative\")\n",
    "else : \n",
    "    print (\"0\")"
   ]
  },
  {
   "cell_type": "markdown",
   "id": "09dc3f27",
   "metadata": {},
   "source": [
    "><small>* 다중 elif 문</small><br>\n",
    "<small>\n",
    "* 여러 개의 elif를 사용한 문장<br>\n",
    "* if 또는 elif 조건 중 하나만 충족되면 나머지는 무시<br>"
   ]
  },
  {
   "cell_type": "code",
   "execution_count": null,
   "id": "f6e259e8",
   "metadata": {},
   "outputs": [],
   "source": [
    "age = 12\n",
    "if age < 4 : \n",
    "    price = 0\n",
    "elif age < 18 : \n",
    "    price = 5\n",
    "elif age < 65 : \n",
    "    price = 10\n",
    "else : \n",
    "    price = 5\n",
    "\n",
    "print(\"Your admission cost is $\" + str(price) + '.')"
   ]
  },
  {
   "cell_type": "markdown",
   "id": "c3898628",
   "metadata": {},
   "source": [
    "조건문 예제"
   ]
  },
  {
   "cell_type": "markdown",
   "id": "86b320ee",
   "metadata": {},
   "source": [
    "><small>* 평년과 윤년 구분하는 프로그램<br>\n",
    "</small>\n",
    "\n",
    "<small>* 년도가 4로 나뉘어지고 100으로 나뉘어지지 않거나<br></small>\n",
    "<small>* 400으로 나뉘어지면 윤년이다</small>"
   ]
  },
  {
   "cell_type": "code",
   "execution_count": null,
   "id": "01b3e9dc",
   "metadata": {},
   "outputs": [],
   "source": [
    "year = int(input(\"Type a year: \"))\n",
    "if (year%4 == 0 and year%100 != 0) or (year%400) == 0 :\n",
    "    print(year, \"is a leap year\")\n",
    "else : \n",
    "    print(year, \"is not a leap year\")"
   ]
  },
  {
   "cell_type": "markdown",
   "id": "e85d6bf9",
   "metadata": {},
   "source": [
    "반복문"
   ]
  },
  {
   "cell_type": "markdown",
   "id": "678ea59b",
   "metadata": {},
   "source": [
    "><small>* 조건이 충족되면 동일한 일을 반복 수행<br>* while 문</small><br>\n",
    "<hr>\n",
    "<small>while 문의 기본 구조<Br><hr>[초기화]<Br>while [조건] : <Br> [블록] <br> [다음문장]<hr></small>"
   ]
  },
  {
   "cell_type": "markdown",
   "id": "0d046a00",
   "metadata": {},
   "source": [
    "<small>\n",
    "* 조건이 만족되면 블록을 실행하고 다시 조건을 조사<br>\n",
    "* 조건이 만족되지 않으면 다음 문장 실행</small>"
   ]
  },
  {
   "cell_type": "code",
   "execution_count": null,
   "id": "a75728da",
   "metadata": {},
   "outputs": [],
   "source": [
    "i = 1\n",
    "sum = 0\n",
    "while i <= 100 : #조건 판단. 끝에 :를 붙인다\n",
    "    sum = sum + l #블록\n",
    "    i = i + 1 #조건 변경\n",
    "\n",
    "print(\"sum=\", sum)#블록이 끝나면 다시 들여쓰기를 원래 위치로"
   ]
  },
  {
   "cell_type": "markdown",
   "id": "c52beaa1",
   "metadata": {},
   "source": [
    "><small>* for 문\n",
    "<hr>\n",
    "for [변수] in [반복객체(리스트, 튜플, 문자열 등)] : <br>\n",
    "    [블록]<br>\n",
    "<hr>\n",
    "* [반복객체]의 각 요소의 값을 하나씩[변수]에 저장하고 블록을 실행<br>\n",
    "* [반복객체]에 더 이상의 요소가 없을 때까지 반복"
   ]
  },
  {
   "cell_type": "code",
   "execution_count": null,
   "id": "24520f6a",
   "metadata": {},
   "outputs": [],
   "source": [
    "for i in [1, 2, 3] : #끝에 :를 붙인다\n",
    "    print(\"숫자\", i)"
   ]
  },
  {
   "cell_type": "markdown",
   "id": "62cb5b20",
   "metadata": {},
   "source": [
    "<small>* 튜플, 문자열과 같은 반복 객체를 사용할 수도 있다.</small>"
   ]
  },
  {
   "cell_type": "code",
   "execution_count": null,
   "id": "a82db548",
   "metadata": {},
   "outputs": [],
   "source": [
    "for i in [1, 2, 3] : \n",
    "    print(\"숫자\", i)\n",
    "\n",
    "for i in 'hello' : \n",
    "    print(i)"
   ]
  },
  {
   "cell_type": "markdown",
   "id": "8aed5c75",
   "metadata": {},
   "source": [
    "><small>for-range 문</small><br>\n",
    "<small>for 문의 기본 구조 : range() 함수를 사용할 때<br>\n",
    "<hr>\n",
    "for [변수] in range(start, stop, step) :<br>\n",
    "[블록]<br>\n",
    "<hr>\n",
    "* range() 함수는 반복 객체(iterable)를 생성하는 함수<br><small>-range(start, stop, step)<br>- 예) list(range(1, 5, 1)) -> [1, 2, 3, 4]</small><br>\n",
    "* 변수 값을 start부터 시작하여 step 만큼 증가시켜 stop될 때까지 실행. step = 1이면 생략"
   ]
  },
  {
   "cell_type": "code",
   "execution_count": null,
   "id": "af57c828",
   "metadata": {},
   "outputs": [],
   "source": [
    "for i in range(1, 4, 1) : #1부터 시작하여 1씩 증가하여 4가 되면 종료\n",
    "    print(\"Number\", i)\n",
    "\n",
    "Number 1\n",
    "Number 2\n",
    "Number 3"
   ]
  },
  {
   "cell_type": "markdown",
   "id": "1b07abff",
   "metadata": {},
   "source": [
    "><small>* for 문을 이용한 1부터 100까지의 합 구하기</small>"
   ]
  },
  {
   "cell_type": "code",
   "execution_count": null,
   "id": "a8fe3a22",
   "metadata": {},
   "outputs": [
    {
     "name": "stdout",
     "output_type": "stream",
     "text": [
      "sum =  5050\n"
     ]
    }
   ],
   "source": [
    "sum = 0\n",
    "for i in range(1, 101, 1) :\n",
    "    sum = sum + i\n",
    "\n",
    "print(\"sum = \", sum)"
   ]
  },
  {
   "cell_type": "markdown",
   "id": "677246ff",
   "metadata": {},
   "source": [
    "><small>* x^n을 구하는 프로그램</small>"
   ]
  },
  {
   "cell_type": "code",
   "execution_count": null,
   "id": "934f48fa",
   "metadata": {},
   "outputs": [],
   "source": [
    "x = float(input('Type x : '))\n",
    "n = int(input('Type n : '))\n",
    "\n",
    "prod = 1\n",
    "for i in range(1, n + 1) : \n",
    "    prod = prod * x\n",
    "\n",
    "print(prod)"
   ]
  },
  {
   "cell_type": "markdown",
   "id": "b74d1f17",
   "metadata": {},
   "source": [
    "><small>* 중첩 반복문<br>\n",
    "* 내부 for 문이 먼저 실행되고 끝나면 외부 for 문이 실행됨<br>\n",
    "* 구구단 프로그램</small>\n"
   ]
  },
  {
   "cell_type": "code",
   "execution_count": null,
   "id": "b9737776",
   "metadata": {},
   "outputs": [],
   "source": [
    "for i in range(2, 10, 1) :\n",
    "    for j in rage(1, 10, 1) : \n",
    "        print(\"%d x %d = %d\" % (i, j, i*j))"
   ]
  },
  {
   "cell_type": "markdown",
   "id": "e608daa2",
   "metadata": {},
   "source": [
    "><small>* 무한 반복문</small>"
   ]
  },
  {
   "cell_type": "code",
   "execution_count": null,
   "id": "13ac81f5",
   "metadata": {},
   "outputs": [],
   "source": [
    "while True : #조건이 항상 참이다\n",
    "    print(\"last forever\")"
   ]
  },
  {
   "cell_type": "markdown",
   "id": "f0a1d325",
   "metadata": {},
   "source": [
    "<small>* 무한 반복문을 중지하려면 ctrl-c를 누른다</small>"
   ]
  },
  {
   "cell_type": "markdown",
   "id": "5e2832a7",
   "metadata": {},
   "source": [
    "제어문 예제(반복문 안의 조건문)"
   ]
  },
  {
   "cell_type": "markdown",
   "id": "036a334e",
   "metadata": {},
   "source": [
    "><small>* 숫자 맞추기 게임 프로그램<Br>* 1~100사이의 난수를 만들고 사용자가 1~100까지의 수를 입력하여 맞추는 프로그램. 5회까지 맞추지 못하면 종료</small>"
   ]
  },
  {
   "cell_type": "code",
   "execution_count": null,
   "id": "65502ee1",
   "metadata": {},
   "outputs": [],
   "source": [
    "from random import randint\n",
    "secret_num = randint(1, 100)\n",
    "num_guesses = 0 #시도 횟수\n",
    "guess = 0 #예상 숫자\n",
    "while guess != secret_num and num_guesses <= 4:\n",
    "    guess = eval(input('Enter your guess (1-100) : '))#수 입력\n",
    "    num_guesses = num_guesses + 1 #시도 횟수 증가\n",
    "    if guess < secret_num : # 정답이 클 때\n",
    "        print('더 큽니다.', 5-num_guesses, '회 남았습니다.\\n')\n",
    "    elif guess > secret_num : #정답이 작을 때\n",
    "        print('더 작습니다.', 5-num_guesses, '회 남았습니다. \\n')\n",
    "    else: # 정답\n",
    "        print('맞았습니다!')\n",
    "if num_guesses == 5 and guess != secret_num : #맞추지 못한 경우\n",
    "    print('당신이 졌습니다. 정답은', secret_num, '입니다')"
   ]
  },
  {
   "cell_type": "markdown",
   "id": "264b1a8c",
   "metadata": {},
   "source": [
    "기타 제어문"
   ]
  },
  {
   "cell_type": "markdown",
   "id": "df999781",
   "metadata": {},
   "source": [
    "><small>* break 문</small><br>\n",
    "<small>\n",
    "* 반복문을 빠져나올 때 사용</small>"
   ]
  },
  {
   "cell_type": "code",
   "execution_count": null,
   "id": "c2b135c8",
   "metadata": {},
   "outputs": [],
   "source": [
    "n = 10\n",
    "while n >= -10 : \n",
    "    if n == 0 :\n",
    "        break # n = 0이면 while 블록을 빠져나온다\n",
    "    inv = 1.0 / n\n",
    "    print(inv)\n",
    "    n = n - 1"
   ]
  },
  {
   "cell_type": "markdown",
   "id": "3e61f6d3",
   "metadata": {},
   "source": [
    "><small>* continue 문</small><br>\n",
    "<small>\n",
    "* 블록의 나머지 부분은 생략하고 다시 while 조건 조사</small>"
   ]
  },
  {
   "cell_type": "code",
   "execution_count": null,
   "id": "6b13f24d",
   "metadata": {},
   "outputs": [],
   "source": [
    "n = 10\n",
    "while n >= -10 : \n",
    "    if n == 0 :\n",
    "        n = n - 1\n",
    "        continue # n = 0이면 while 블록의 나머지 부분을 건너 뛴다\n",
    "    inv = 1.0 / n\n",
    "    print(\"n = #d, inv(n) = %0.2f\" % (n, inv))\n",
    "    n = n - 1"
   ]
  },
  {
   "cell_type": "markdown",
   "id": "64025d33",
   "metadata": {},
   "source": [
    "match"
   ]
  },
  {
   "cell_type": "markdown",
   "id": "63c0e45c",
   "metadata": {},
   "source": [
    "><small>* Python 3.0부터 추가 : C에서 switch ~ case ~ default 문장</small>"
   ]
  },
  {
   "cell_type": "code",
   "execution_count": null,
   "id": "069c8826",
   "metadata": {},
   "outputs": [],
   "source": [
    "match value : \n",
    "    case pattern1 :\n",
    "        #실행할 코드\n",
    "    case pattern2 :\n",
    "        #실행할 코드\n",
    "    case _ : #default case (와일드카드)\n",
    "        #기본 실행할 코드"
   ]
  },
  {
   "cell_type": "code",
   "execution_count": null,
   "id": "c9f7af4c",
   "metadata": {},
   "outputs": [],
   "source": [
    "def handle_status(status) : \n",
    "    match status : \n",
    "        case 200 : \n",
    "            return \"성공\"\n",
    "        case 404 : \n",
    "            return \"페이지를 찾을 수 없음\"\n",
    "        case 500 : \n",
    "            return \"서버 오류\"\n",
    "        case _ : \n",
    "            return \"알 수 없는 상태\"\n",
    "        \n",
    "print(handle_status(200)) # \"성공\"\n",
    "print(handle_status(999)) # \"알 수 없는 상태\""
   ]
  }
 ],
 "metadata": {
  "kernelspec": {
   "display_name": "Python 3",
   "language": "python",
   "name": "python3"
  },
  "language_info": {
   "codemirror_mode": {
    "name": "ipython",
    "version": 3
   },
   "file_extension": ".py",
   "mimetype": "text/x-python",
   "name": "python",
   "nbconvert_exporter": "python",
   "pygments_lexer": "ipython3",
   "version": "3.13.7"
  }
 },
 "nbformat": 4,
 "nbformat_minor": 5
}
