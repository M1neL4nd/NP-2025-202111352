{
 "cells": [
  {
   "cell_type": "markdown",
   "id": "318c6581",
   "metadata": {},
   "source": [
    "## 이름 : 정승희 학번 : 202111352"
   ]
  },
  {
   "cell_type": "markdown",
   "id": "a9a5615d",
   "metadata": {},
   "source": [
    "while 연습문제"
   ]
  },
  {
   "cell_type": "markdown",
   "id": "4932f953",
   "metadata": {},
   "source": [
    "><small>* 10진수를 입력 받아 2진수로 변환하여 출력하는 프로그램</small>"
   ]
  },
  {
   "cell_type": "code",
   "execution_count": 2,
   "id": "d57953e5",
   "metadata": {},
   "outputs": [
    {
     "name": "stdout",
     "output_type": "stream",
     "text": [
      "2진수 = 1010\n"
     ]
    }
   ],
   "source": [
    "n = int(input('숫자를 입력하시오 : '))\n",
    "a = ''\n",
    "\n",
    "while n != 0 : \n",
    "    m = n % 2\n",
    "    a = str(m) + a\n",
    "    n = n // 2\n",
    "\n",
    "print(\"2진수 =\", a)"
   ]
  }
 ],
 "metadata": {
  "kernelspec": {
   "display_name": "Python 3",
   "language": "python",
   "name": "python3"
  },
  "language_info": {
   "codemirror_mode": {
    "name": "ipython",
    "version": 3
   },
   "file_extension": ".py",
   "mimetype": "text/x-python",
   "name": "python",
   "nbconvert_exporter": "python",
   "pygments_lexer": "ipython3",
   "version": "3.13.7"
  }
 },
 "nbformat": 4,
 "nbformat_minor": 5
}
