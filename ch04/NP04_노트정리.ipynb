{
 "cells": [
  {
   "cell_type": "markdown",
   "id": "07b6709e",
   "metadata": {},
   "source": [
    "## 이름 : 정승희 학번 : 202111352"
   ]
  },
  {
   "cell_type": "markdown",
   "id": "ccd5c923",
   "metadata": {},
   "source": [
    "자료 구조(data structure)란?"
   ]
  },
  {
   "cell_type": "markdown",
   "id": "2e120856",
   "metadata": {},
   "source": [
    "><small>* 자료를 표현하고 처리하기 위해 사용되는 구조 <br>* 자료를 효율적으로 처리 하고 저장하는 데 사용<br>* 파이썬에서 사용되는 기본 자료 구조</small>\n",
    "<small>* 문자열(string) : str = ‘abcde’ 홑/겹 따옴표로 묶인 문자열<br>\n",
    "* 리스트(list) : list = [ 1, 2, 3, 4] 순서가 있는 원소(객체)의 목록<Br>\n",
    "* 튜플(tuple) tuple = (1,2,3) immutable 한 데이터의 쌍<br>\n",
    "* 딕셔너리(dictionary) dic = {‘a’:1, ‘b’:23, ‘c’: 32} 유일한 키로 이루어진 키:값의 집합<br>\n",
    "* 집합(set)  set = {1,5,3,2} 유일한 값들의 집합</small>"
   ]
  },
  {
   "cell_type": "markdown",
   "id": "46ad695d",
   "metadata": {},
   "source": [
    "문자열의 구조"
   ]
  },
  {
   "cell_type": "markdown",
   "id": "f71862b9",
   "metadata": {},
   "source": [
    "><small>다수의 문자를 표현하기 위한 자료구조</small>"
   ]
  },
  {
   "cell_type": "markdown",
   "id": "c8e35429",
   "metadata": {},
   "source": [
    "문자열 기본 구조\n",
    "<hr>\n",
    "문자열이름 = \"글씨들\" (또는 '글씨들')<br>\n",
    "(예) word = \"Python\" (word = 'Python)<br>\n",
    "<hr>\n",
    "문자열은 큰따옴표 또는 작은따옴표로 구분된다"
   ]
  },
  {
   "cell_type": "markdown",
   "id": "b71ccf54",
   "metadata": {},
   "source": [
    "><small>* '' 또는 \"\"로 둘러싼다: \"abc\", 'hello'<br>* '''(\"\"\") 부터 '''(\"\"\")까지 문자: 문자열이 두 줄 이상일 때 주로 사용</small>"
   ]
  },
  {
   "cell_type": "code",
   "execution_count": 2,
   "id": "2e78b391",
   "metadata": {},
   "outputs": [
    {
     "data": {
      "text/plain": [
       "'\\nHello\\nPython\\n'"
      ]
     },
     "execution_count": 2,
     "metadata": {},
     "output_type": "execute_result"
    }
   ],
   "source": [
    "'''\n",
    "Hello\n",
    "Python\n",
    "'''"
   ]
  },
  {
   "cell_type": "code",
   "execution_count": 3,
   "id": "3e160b07",
   "metadata": {},
   "outputs": [
    {
     "data": {
      "text/plain": [
       "'\\nHello\\nPython\\n'"
      ]
     },
     "execution_count": 3,
     "metadata": {},
     "output_type": "execute_result"
    }
   ],
   "source": [
    "\"\"\"\n",
    "Hello\n",
    "Python\n",
    "\"\"\""
   ]
  },
  {
   "cell_type": "markdown",
   "id": "da0cdbf8",
   "metadata": {},
   "source": [
    "문자열"
   ]
  },
  {
   "cell_type": "markdown",
   "id": "dec12853",
   "metadata": {},
   "source": [
    "><small>문자열 요소(문자)를 개별적으로 사용하기 -index</small>"
   ]
  },
  {
   "cell_type": "code",
   "execution_count": 4,
   "id": "4bd10771",
   "metadata": {},
   "outputs": [
    {
     "data": {
      "text/plain": [
       "'P'"
      ]
     },
     "execution_count": 4,
     "metadata": {},
     "output_type": "execute_result"
    }
   ],
   "source": [
    "word = 'Python'\n",
    "word[0]"
   ]
  },
  {
   "cell_type": "code",
   "execution_count": 5,
   "id": "00ec79de",
   "metadata": {},
   "outputs": [
    {
     "data": {
      "text/plain": [
       "'n'"
      ]
     },
     "execution_count": 5,
     "metadata": {},
     "output_type": "execute_result"
    }
   ],
   "source": [
    "word[5]"
   ]
  },
  {
   "cell_type": "code",
   "execution_count": 6,
   "id": "8d0d71cd",
   "metadata": {},
   "outputs": [
    {
     "data": {
      "text/plain": [
       "'n'"
      ]
     },
     "execution_count": 6,
     "metadata": {},
     "output_type": "execute_result"
    }
   ],
   "source": [
    "word = 'Python'\n",
    "word[-1]"
   ]
  },
  {
   "cell_type": "code",
   "execution_count": 7,
   "id": "75a4512f",
   "metadata": {},
   "outputs": [
    {
     "data": {
      "text/plain": [
       "'P'"
      ]
     },
     "execution_count": 7,
     "metadata": {},
     "output_type": "execute_result"
    }
   ],
   "source": [
    "word[-6]"
   ]
  },
  {
   "cell_type": "markdown",
   "id": "06c8febc",
   "metadata": {},
   "source": [
    "><small>문자열 슬라이싱(잘라내기)</small>"
   ]
  },
  {
   "cell_type": "code",
   "execution_count": 8,
   "id": "681dd3db",
   "metadata": {},
   "outputs": [
    {
     "data": {
      "text/plain": [
       "'Py'"
      ]
     },
     "execution_count": 8,
     "metadata": {},
     "output_type": "execute_result"
    }
   ],
   "source": [
    "word = 'Python'\n",
    "word[0:2]"
   ]
  },
  {
   "cell_type": "code",
   "execution_count": 9,
   "id": "6a56280e",
   "metadata": {},
   "outputs": [
    {
     "data": {
      "text/plain": [
       "'tho'"
      ]
     },
     "execution_count": 9,
     "metadata": {},
     "output_type": "execute_result"
    }
   ],
   "source": [
    "word[2:5]"
   ]
  },
  {
   "cell_type": "code",
   "execution_count": 10,
   "id": "7ff78a8b",
   "metadata": {},
   "outputs": [
    {
     "data": {
      "text/plain": [
       "'Py'"
      ]
     },
     "execution_count": 10,
     "metadata": {},
     "output_type": "execute_result"
    }
   ],
   "source": [
    "word[:2]"
   ]
  },
  {
   "cell_type": "code",
   "execution_count": 11,
   "id": "6cf248a5",
   "metadata": {},
   "outputs": [
    {
     "data": {
      "text/plain": [
       "'on'"
      ]
     },
     "execution_count": 11,
     "metadata": {},
     "output_type": "execute_result"
    }
   ],
   "source": [
    "word[4:]"
   ]
  },
  {
   "cell_type": "code",
   "execution_count": 12,
   "id": "872447e2",
   "metadata": {},
   "outputs": [
    {
     "data": {
      "text/plain": [
       "'on'"
      ]
     },
     "execution_count": 12,
     "metadata": {},
     "output_type": "execute_result"
    }
   ],
   "source": [
    "word[-2:]"
   ]
  },
  {
   "cell_type": "code",
   "execution_count": 13,
   "id": "48562a88",
   "metadata": {},
   "outputs": [
    {
     "data": {
      "text/plain": [
       "'Py'"
      ]
     },
     "execution_count": 13,
     "metadata": {},
     "output_type": "execute_result"
    }
   ],
   "source": [
    "word = 'Python'\n",
    "word[:2]"
   ]
  },
  {
   "cell_type": "code",
   "execution_count": 14,
   "id": "1c417e01",
   "metadata": {},
   "outputs": [
    {
     "data": {
      "text/plain": [
       "'thon'"
      ]
     },
     "execution_count": 14,
     "metadata": {},
     "output_type": "execute_result"
    }
   ],
   "source": [
    "word[2:]"
   ]
  },
  {
   "cell_type": "code",
   "execution_count": 15,
   "id": "877eabc6",
   "metadata": {},
   "outputs": [
    {
     "data": {
      "text/plain": [
       "'Python'"
      ]
     },
     "execution_count": 15,
     "metadata": {},
     "output_type": "execute_result"
    }
   ],
   "source": [
    "word[:2]+word[2:]"
   ]
  },
  {
   "cell_type": "markdown",
   "id": "90039e8d",
   "metadata": {},
   "source": [
    "><small>문자열 인덱싱과 슬라이싱 오류</small>"
   ]
  },
  {
   "cell_type": "code",
   "execution_count": 2,
   "id": "3dea60c7",
   "metadata": {},
   "outputs": [
    {
     "ename": "SyntaxError",
     "evalue": "invalid syntax. Perhaps you forgot a comma? (2743272266.py, line 3)",
     "output_type": "error",
     "traceback": [
      "  \u001b[36mCell\u001b[39m\u001b[36m \u001b[39m\u001b[32mIn[2]\u001b[39m\u001b[32m, line 3\u001b[39m\n\u001b[31m    \u001b[39m\u001b[31mTraceback (most recent call last):\u001b[39m\n               ^\n\u001b[31mSyntaxError\u001b[39m\u001b[31m:\u001b[39m invalid syntax. Perhaps you forgot a comma?\n"
     ]
    }
   ],
   "source": [
    "word = 'Python'\n",
    "word[42] #6개 문자로 구성되어 있을 때\n",
    "Traceback (most recent call last):\n",
    "File \"<stdin>\", line 1, in <module>"
   ]
  },
  {
   "cell_type": "code",
   "execution_count": 4,
   "id": "eccbc6a2",
   "metadata": {},
   "outputs": [
    {
     "data": {
      "text/plain": [
       "'on'"
      ]
     },
     "execution_count": 4,
     "metadata": {},
     "output_type": "execute_result"
    }
   ],
   "source": [
    "word = 'Python'\n",
    "word[4:42]"
   ]
  },
  {
   "cell_type": "code",
   "execution_count": 5,
   "id": "c83bc181",
   "metadata": {},
   "outputs": [
    {
     "data": {
      "text/plain": [
       "''"
      ]
     },
     "execution_count": 5,
     "metadata": {},
     "output_type": "execute_result"
    }
   ],
   "source": [
    "word[42:]"
   ]
  },
  {
   "cell_type": "markdown",
   "id": "453ed161",
   "metadata": {},
   "source": [
    "><small>문자열은 수정 불가-immutable</small>"
   ]
  },
  {
   "cell_type": "code",
   "execution_count": 6,
   "id": "bbead4fa",
   "metadata": {},
   "outputs": [
    {
     "ename": "TypeError",
     "evalue": "'str' object does not support item assignment",
     "output_type": "error",
     "traceback": [
      "\u001b[31m---------------------------------------------------------------------------\u001b[39m",
      "\u001b[31mTypeError\u001b[39m                                 Traceback (most recent call last)",
      "\u001b[36mCell\u001b[39m\u001b[36m \u001b[39m\u001b[32mIn[6]\u001b[39m\u001b[32m, line 1\u001b[39m\n\u001b[32m----> \u001b[39m\u001b[32m1\u001b[39m \u001b[43mword\u001b[49m\u001b[43m[\u001b[49m\u001b[32;43m0\u001b[39;49m\u001b[43m]\u001b[49m = \u001b[33m'\u001b[39m\u001b[33mJ\u001b[39m\u001b[33m'\u001b[39m\n",
      "\u001b[31mTypeError\u001b[39m: 'str' object does not support item assignment"
     ]
    }
   ],
   "source": [
    "word[0] = 'J'"
   ]
  },
  {
   "cell_type": "markdown",
   "id": "c4b22163",
   "metadata": {},
   "source": [
    "><small>슬라이싱을 이용하여 새로운 문자열 만들기</small>"
   ]
  },
  {
   "cell_type": "code",
   "execution_count": 7,
   "id": "4a9afd17",
   "metadata": {},
   "outputs": [
    {
     "data": {
      "text/plain": [
       "'Jython'"
      ]
     },
     "execution_count": 7,
     "metadata": {},
     "output_type": "execute_result"
    }
   ],
   "source": [
    "word = 'Python'\n",
    "word2 = 'J' + word[1:]\n",
    "word2"
   ]
  },
  {
   "cell_type": "markdown",
   "id": "05decc68",
   "metadata": {},
   "source": [
    "><small>문자열 길이 확인-len()</small>"
   ]
  },
  {
   "cell_type": "code",
   "execution_count": 8,
   "id": "30bcb5c3",
   "metadata": {},
   "outputs": [
    {
     "data": {
      "text/plain": [
       "6"
      ]
     },
     "execution_count": 8,
     "metadata": {},
     "output_type": "execute_result"
    }
   ],
   "source": [
    "s = 'smiles'\n",
    "len(s)"
   ]
  },
  {
   "cell_type": "markdown",
   "id": "217edddd",
   "metadata": {},
   "source": [
    "><small>index를 이용하여 문자열의 문자를 역순으로 만들기</small>"
   ]
  },
  {
   "cell_type": "code",
   "execution_count": null,
   "id": "f1c6fbc8",
   "metadata": {},
   "outputs": [],
   "source": [
    "## 변수 초기화 부분 ##\n",
    "outStr = \"\" #출력 문자열(빈 문자열)\n",
    "count, i = 0, 0\n",
    "\n",
    "##메인 코드 부분##\n",
    "inStr = input(\"Type string : \")\n",
    "count = len(inStr) #문자열 길이\n",
    "\n",
    "for i in range(0, count) : \n",
    "    outStr += inStr[count -(i + 1)]\n",
    "print(\"Reversed string : %s\" % outStr)"
   ]
  },
  {
   "cell_type": "markdown",
   "id": "7a663705",
   "metadata": {},
   "source": [
    "><small>문자열에서 문자 조사하기 - in/not in 연산자(멤버 연산자)</small>"
   ]
  },
  {
   "cell_type": "code",
   "execution_count": 10,
   "id": "4311f682",
   "metadata": {},
   "outputs": [
    {
     "data": {
      "text/plain": [
       "True"
      ]
     },
     "execution_count": 10,
     "metadata": {},
     "output_type": "execute_result"
    }
   ],
   "source": [
    "'a' in 'cat'"
   ]
  },
  {
   "cell_type": "code",
   "execution_count": 11,
   "id": "1ba3c49a",
   "metadata": {},
   "outputs": [
    {
     "data": {
      "text/plain": [
       "False"
      ]
     },
     "execution_count": 11,
     "metadata": {},
     "output_type": "execute_result"
    }
   ],
   "source": [
    "'a' not in 'can'"
   ]
  },
  {
   "cell_type": "markdown",
   "id": "bcca23e3",
   "metadata": {},
   "source": [
    "문자열 처리 메소드"
   ]
  },
  {
   "cell_type": "markdown",
   "id": "ff35dba4",
   "metadata": {},
   "source": [
    "><small>문자열과 메소드 -dir(str), help(str.method)</small><br>\n",
    "<small>\n",
    "* 파이썬은 객체지향 언어이므로 객체(object)가 많이 사용된다<br>\n",
    "* 객체는 변수와 함수를 묶은 것이다. 문자열도 객체다<br>\n",
    "* 객체와 관련된 함수를 메소드라 하며 객체 함수()로 호출한다</small>"
   ]
  },
  {
   "cell_type": "markdown",
   "id": "c0bb7760",
   "metadata": {},
   "source": [
    "><small>문자열 구성 파악하기</small>"
   ]
  },
  {
   "cell_type": "code",
   "execution_count": null,
   "id": "d96528ff",
   "metadata": {},
   "outputs": [],
   "source": [
    "'123'.isdigit()\n",
    "'abcABC'.isalpha()\n",
    "'Ab122'.isalnum()\n",
    "'AB'.isupper()\n",
    "'ab'.islower()\n",
    "' '.isspace() "
   ]
  },
  {
   "cell_type": "markdown",
   "id": "0c94fce7",
   "metadata": {},
   "source": [
    "><small>문자열을 대소문자로 변환하기</small>"
   ]
  },
  {
   "cell_type": "code",
   "execution_count": null,
   "id": "a4e5aaad",
   "metadata": {},
   "outputs": [],
   "source": [
    "str = 'Python programming is easy!'\n",
    "str.upper()\n",
    "str.lower()\n",
    "str.swapcase()\n",
    "str.title()"
   ]
  },
  {
   "cell_type": "markdown",
   "id": "9e6ec8ed",
   "metadata": {},
   "source": [
    "><small>문자열 찾기</small>"
   ]
  },
  {
   "cell_type": "code",
   "execution_count": 12,
   "id": "23d0adce",
   "metadata": {},
   "outputs": [
    {
     "data": {
      "text/plain": [
       "2"
      ]
     },
     "execution_count": 12,
     "metadata": {},
     "output_type": "execute_result"
    }
   ],
   "source": [
    "str = 'Python programming is easy!'\n",
    "str.count('i')"
   ]
  },
  {
   "cell_type": "code",
   "execution_count": 13,
   "id": "c306dc05",
   "metadata": {},
   "outputs": [
    {
     "data": {
      "text/plain": [
       "4"
      ]
     },
     "execution_count": 13,
     "metadata": {},
     "output_type": "execute_result"
    }
   ],
   "source": [
    "str.find('o')"
   ]
  },
  {
   "cell_type": "code",
   "execution_count": 14,
   "id": "0354afb9",
   "metadata": {},
   "outputs": [
    {
     "data": {
      "text/plain": [
       "9"
      ]
     },
     "execution_count": 14,
     "metadata": {},
     "output_type": "execute_result"
    }
   ],
   "source": [
    "str.rfind('o')"
   ]
  },
  {
   "cell_type": "code",
   "execution_count": 15,
   "id": "65e38fd5",
   "metadata": {},
   "outputs": [
    {
     "data": {
      "text/plain": [
       "4"
      ]
     },
     "execution_count": 15,
     "metadata": {},
     "output_type": "execute_result"
    }
   ],
   "source": [
    "str.index('on')"
   ]
  },
  {
   "cell_type": "markdown",
   "id": "d38fab72",
   "metadata": {},
   "source": [
    "><small>문자열 분리하기</small>"
   ]
  },
  {
   "cell_type": "code",
   "execution_count": 16,
   "id": "fed9f92b",
   "metadata": {},
   "outputs": [
    {
     "data": {
      "text/plain": [
       "['a', 'bc']"
      ]
     },
     "execution_count": 16,
     "metadata": {},
     "output_type": "execute_result"
    }
   ],
   "source": [
    "x = 'a bc'\n",
    "x.split()"
   ]
  },
  {
   "cell_type": "code",
   "execution_count": 17,
   "id": "a1f90779",
   "metadata": {},
   "outputs": [
    {
     "data": {
      "text/plain": [
       "['a ', 'c']"
      ]
     },
     "execution_count": 17,
     "metadata": {},
     "output_type": "execute_result"
    }
   ],
   "source": [
    "x.split('b')"
   ]
  },
  {
   "cell_type": "markdown",
   "id": "3accf173",
   "metadata": {},
   "source": [
    "><small>문자열에서 공백 제거하기</small>"
   ]
  },
  {
   "cell_type": "code",
   "execution_count": 18,
   "id": "84499f9b",
   "metadata": {},
   "outputs": [
    {
     "data": {
      "text/plain": [
       "'hello'"
      ]
     },
     "execution_count": 18,
     "metadata": {},
     "output_type": "execute_result"
    }
   ],
   "source": [
    "str = ' hello '\n",
    "str.strip()"
   ]
  },
  {
   "cell_type": "code",
   "execution_count": 19,
   "id": "9f372c7f",
   "metadata": {},
   "outputs": [
    {
     "data": {
      "text/plain": [
       "' hello '"
      ]
     },
     "execution_count": 19,
     "metadata": {},
     "output_type": "execute_result"
    }
   ],
   "source": [
    "str"
   ]
  },
  {
   "cell_type": "code",
   "execution_count": 20,
   "id": "cc8a875f",
   "metadata": {},
   "outputs": [
    {
     "data": {
      "text/plain": [
       "' hello'"
      ]
     },
     "execution_count": 20,
     "metadata": {},
     "output_type": "execute_result"
    }
   ],
   "source": [
    "str.rstrip()"
   ]
  },
  {
   "cell_type": "code",
   "execution_count": 21,
   "id": "4ca353e8",
   "metadata": {},
   "outputs": [
    {
     "data": {
      "text/plain": [
       "'hello '"
      ]
     },
     "execution_count": 21,
     "metadata": {},
     "output_type": "execute_result"
    }
   ],
   "source": [
    "str.lstrip()"
   ]
  },
  {
   "cell_type": "markdown",
   "id": "6af9d2a0",
   "metadata": {},
   "source": [
    "><small>문자열 결합하기</small>"
   ]
  },
  {
   "cell_type": "code",
   "execution_count": 22,
   "id": "7ec381d1",
   "metadata": {},
   "outputs": [
    {
     "data": {
      "text/plain": [
       "'h*e*l*l*o'"
      ]
     },
     "execution_count": 22,
     "metadata": {},
     "output_type": "execute_result"
    }
   ],
   "source": [
    "'*'.join('hello')"
   ]
  },
  {
   "cell_type": "markdown",
   "id": "5c0884de",
   "metadata": {},
   "source": [
    "><small>문자열 채우기</small>"
   ]
  },
  {
   "cell_type": "code",
   "execution_count": 23,
   "id": "9cb3fc6c",
   "metadata": {},
   "outputs": [
    {
     "data": {
      "text/plain": [
       "'00012'"
      ]
     },
     "execution_count": 23,
     "metadata": {},
     "output_type": "execute_result"
    }
   ],
   "source": [
    "'12'.zfill(5)"
   ]
  },
  {
   "cell_type": "markdown",
   "id": "0aafe185",
   "metadata": {},
   "source": [
    "><small>문자열 정렬하기</small>"
   ]
  },
  {
   "cell_type": "code",
   "execution_count": 24,
   "id": "ce3090db",
   "metadata": {},
   "outputs": [
    {
     "data": {
      "text/plain": [
       "'   he'"
      ]
     },
     "execution_count": 24,
     "metadata": {},
     "output_type": "execute_result"
    }
   ],
   "source": [
    "'he'.rjust(5)"
   ]
  },
  {
   "cell_type": "code",
   "execution_count": 25,
   "id": "1987971c",
   "metadata": {},
   "outputs": [
    {
     "data": {
      "text/plain": [
       "'he   '"
      ]
     },
     "execution_count": 25,
     "metadata": {},
     "output_type": "execute_result"
    }
   ],
   "source": [
    "'he'.ljust(5)"
   ]
  },
  {
   "cell_type": "code",
   "execution_count": 26,
   "id": "8db00bdb",
   "metadata": {},
   "outputs": [
    {
     "data": {
      "text/plain": [
       "'  he '"
      ]
     },
     "execution_count": 26,
     "metadata": {},
     "output_type": "execute_result"
    }
   ],
   "source": [
    "'he'.center(5)"
   ]
  },
  {
   "cell_type": "markdown",
   "id": "73eb5e76",
   "metadata": {},
   "source": [
    "리스트"
   ]
  },
  {
   "cell_type": "markdown",
   "id": "9895e31d",
   "metadata": {},
   "source": [
    "><small>리스트는 여러 개의 데이터를 하나의 이름으로 저장하는 자료 구조</small>"
   ]
  },
  {
   "cell_type": "markdown",
   "id": "5927c2b2",
   "metadata": {},
   "source": [
    "리스트 기본 구조\n",
    "<hr>\n",
    "리스트이름 = [항목1, 항목2, ...]"
   ]
  },
  {
   "cell_type": "code",
   "execution_count": 27,
   "id": "e499ba99",
   "metadata": {},
   "outputs": [
    {
     "data": {
      "text/plain": [
       "[1, 4, 9, 16, 25]"
      ]
     },
     "execution_count": 27,
     "metadata": {},
     "output_type": "execute_result"
    }
   ],
   "source": [
    "odd = [1, 3, 5, 7, 9]\n",
    "squares = [1, 4, 9, 16, 25]\n",
    "squares"
   ]
  },
  {
   "cell_type": "code",
   "execution_count": 28,
   "id": "8a8c1dfe",
   "metadata": {},
   "outputs": [
    {
     "data": {
      "text/plain": [
       "[]"
      ]
     },
     "execution_count": 28,
     "metadata": {},
     "output_type": "execute_result"
    }
   ],
   "source": [
    "empty = []\n",
    "empty"
   ]
  },
  {
   "cell_type": "code",
   "execution_count": 29,
   "id": "4b5845aa",
   "metadata": {},
   "outputs": [],
   "source": [
    "a = [1, 'hello', 2, 'world', 1.23]"
   ]
  },
  {
   "cell_type": "markdown",
   "id": "5259a9c1",
   "metadata": {},
   "source": [
    "><small>리스트의 인덱싱(요소 접근하기)과 슬라이싱(잘라내기)\n",
    "</small>"
   ]
  },
  {
   "cell_type": "code",
   "execution_count": 30,
   "id": "0921508b",
   "metadata": {},
   "outputs": [
    {
     "data": {
      "text/plain": [
       "1"
      ]
     },
     "execution_count": 30,
     "metadata": {},
     "output_type": "execute_result"
    }
   ],
   "source": [
    "squares = [1, 4, 9, 16, 25]\n",
    "squares[0] "
   ]
  },
  {
   "cell_type": "code",
   "execution_count": 31,
   "id": "58d2ccf8",
   "metadata": {},
   "outputs": [
    {
     "data": {
      "text/plain": [
       "25"
      ]
     },
     "execution_count": 31,
     "metadata": {},
     "output_type": "execute_result"
    }
   ],
   "source": [
    "squares[-1]"
   ]
  },
  {
   "cell_type": "code",
   "execution_count": 32,
   "id": "d2325e82",
   "metadata": {},
   "outputs": [
    {
     "data": {
      "text/plain": [
       "[1, 4, 9]"
      ]
     },
     "execution_count": 32,
     "metadata": {},
     "output_type": "execute_result"
    }
   ],
   "source": [
    "squares[0:3]"
   ]
  },
  {
   "cell_type": "code",
   "execution_count": 33,
   "id": "8d633307",
   "metadata": {},
   "outputs": [
    {
     "data": {
      "text/plain": [
       "[9, 16, 25]"
      ]
     },
     "execution_count": 33,
     "metadata": {},
     "output_type": "execute_result"
    }
   ],
   "source": [
    "squares[-3:]"
   ]
  },
  {
   "cell_type": "markdown",
   "id": "45dc4920",
   "metadata": {},
   "source": [
    "><small>리스트 합치기</small>"
   ]
  },
  {
   "cell_type": "code",
   "execution_count": 34,
   "id": "82be5258",
   "metadata": {},
   "outputs": [
    {
     "data": {
      "text/plain": [
       "[1, 4, 9, 16, 25, 36, 49, 64, 81, 100]"
      ]
     },
     "execution_count": 34,
     "metadata": {},
     "output_type": "execute_result"
    }
   ],
   "source": [
    "squares + [36, 49, 64, 81, 100] "
   ]
  },
  {
   "cell_type": "code",
   "execution_count": 35,
   "id": "41efc9dc",
   "metadata": {},
   "outputs": [
    {
     "data": {
      "text/plain": [
       "[1, 2, 3, 4, 5, 6]"
      ]
     },
     "execution_count": 35,
     "metadata": {},
     "output_type": "execute_result"
    }
   ],
   "source": [
    "a = [1, 2, 3]\n",
    "b = [4, 5, 6]\n",
    "a + b"
   ]
  },
  {
   "cell_type": "markdown",
   "id": "61937b05",
   "metadata": {},
   "source": [
    "><small>리스트의 요소 수정, 추가하기</small>"
   ]
  },
  {
   "cell_type": "code",
   "execution_count": null,
   "id": "93f16a24",
   "metadata": {},
   "outputs": [
    {
     "data": {
      "text/plain": [
       "64"
      ]
     },
     "execution_count": 36,
     "metadata": {},
     "output_type": "execute_result"
    }
   ],
   "source": [
    "cubes = [1, 8, 27, 65, 125] #세제곱수\n",
    "4 ** 3 # 4의 세제곱은 64!"
   ]
  },
  {
   "cell_type": "code",
   "execution_count": null,
   "id": "9878d7f7",
   "metadata": {},
   "outputs": [
    {
     "data": {
      "text/plain": [
       "[1, 8, 27, 64, 125]"
      ]
     },
     "execution_count": 37,
     "metadata": {},
     "output_type": "execute_result"
    }
   ],
   "source": [
    "cubes[3] = 64 # 리스트 요소 수정하기\n",
    "cubes #수정된 리스트"
   ]
  },
  {
   "cell_type": "code",
   "execution_count": null,
   "id": "80322cb4",
   "metadata": {},
   "outputs": [
    {
     "data": {
      "text/plain": [
       "[1, 8, 27, 64, 125, 216, 343]"
      ]
     },
     "execution_count": 38,
     "metadata": {},
     "output_type": "execute_result"
    }
   ],
   "source": [
    "cubes.append(216) # 마지막에 리스트 요소 추가하기\n",
    "cubes.append(7 ** 3) # 마지막에 리스트 요소 추가하기\n",
    "cubes"
   ]
  },
  {
   "cell_type": "markdown",
   "id": "c37fcdaf",
   "metadata": {},
   "source": [
    "><small>리스트의 요소 수정</small>"
   ]
  },
  {
   "cell_type": "code",
   "execution_count": 39,
   "id": "fe9586e1",
   "metadata": {},
   "outputs": [
    {
     "data": {
      "text/plain": [
       "['a', 'b', 'c', 'd', 'e', 'f', 'g']"
      ]
     },
     "execution_count": 39,
     "metadata": {},
     "output_type": "execute_result"
    }
   ],
   "source": [
    "letters = ['a', 'b', 'c', 'd', 'e', 'f', 'g']\n",
    "letters"
   ]
  },
  {
   "cell_type": "code",
   "execution_count": 40,
   "id": "1f2de253",
   "metadata": {},
   "outputs": [
    {
     "data": {
      "text/plain": [
       "['a', 'b', 'C', 'D', 'E', 'f', 'g']"
      ]
     },
     "execution_count": 40,
     "metadata": {},
     "output_type": "execute_result"
    }
   ],
   "source": [
    "letters[2:5] = ['C', 'D', 'E']\n",
    "letters"
   ]
  },
  {
   "cell_type": "code",
   "execution_count": 41,
   "id": "f3fd2042",
   "metadata": {},
   "outputs": [
    {
     "data": {
      "text/plain": [
       "['a', 'b', 'f', 'g']"
      ]
     },
     "execution_count": 41,
     "metadata": {},
     "output_type": "execute_result"
    }
   ],
   "source": [
    "letters[2:5] = []\n",
    "letters"
   ]
  },
  {
   "cell_type": "code",
   "execution_count": 42,
   "id": "76b4a276",
   "metadata": {},
   "outputs": [
    {
     "data": {
      "text/plain": [
       "[]"
      ]
     },
     "execution_count": 42,
     "metadata": {},
     "output_type": "execute_result"
    }
   ],
   "source": [
    "letters[:] = []\n",
    "letters"
   ]
  },
  {
   "cell_type": "markdown",
   "id": "da0a859a",
   "metadata": {},
   "source": [
    "><small>중첩 리스트</small>"
   ]
  },
  {
   "cell_type": "code",
   "execution_count": 43,
   "id": "ba0e13ea",
   "metadata": {},
   "outputs": [
    {
     "data": {
      "text/plain": [
       "[['a', 'b', 'c'], [1, 2, 3]]"
      ]
     },
     "execution_count": 43,
     "metadata": {},
     "output_type": "execute_result"
    }
   ],
   "source": [
    "a = ['a', 'b', 'c']\n",
    "n = [1, 2, 3]\n",
    "x = [a, n]\n",
    "x"
   ]
  },
  {
   "cell_type": "code",
   "execution_count": 44,
   "id": "be7f10ff",
   "metadata": {},
   "outputs": [
    {
     "data": {
      "text/plain": [
       "['a', 'b', 'c']"
      ]
     },
     "execution_count": 44,
     "metadata": {},
     "output_type": "execute_result"
    }
   ],
   "source": [
    "x[0]"
   ]
  },
  {
   "cell_type": "code",
   "execution_count": 45,
   "id": "bd4b38aa",
   "metadata": {},
   "outputs": [
    {
     "data": {
      "text/plain": [
       "'b'"
      ]
     },
     "execution_count": 45,
     "metadata": {},
     "output_type": "execute_result"
    }
   ],
   "source": [
    "x[0][1]"
   ]
  },
  {
   "cell_type": "markdown",
   "id": "4748202c",
   "metadata": {},
   "source": [
    "><small>2차원 리스트</small>"
   ]
  },
  {
   "cell_type": "code",
   "execution_count": 46,
   "id": "0b449fa8",
   "metadata": {},
   "outputs": [
    {
     "data": {
      "text/plain": [
       "1"
      ]
     },
     "execution_count": 46,
     "metadata": {},
     "output_type": "execute_result"
    }
   ],
   "source": [
    "list2d = [[1,2,3],\n",
    "[4,5,6],\n",
    "[7,8,9]]\n",
    "\n",
    "list2d[0][0]"
   ]
  },
  {
   "cell_type": "code",
   "execution_count": 47,
   "id": "7bbee8d6",
   "metadata": {},
   "outputs": [
    {
     "data": {
      "text/plain": [
       "9"
      ]
     },
     "execution_count": 47,
     "metadata": {},
     "output_type": "execute_result"
    }
   ],
   "source": [
    "list2d[2][2]"
   ]
  },
  {
   "cell_type": "markdown",
   "id": "baef31c2",
   "metadata": {},
   "source": [
    "><small>내장 함수를 이용한 리스트 다루기</small>"
   ]
  },
  {
   "cell_type": "code",
   "execution_count": 48,
   "id": "cc528cc9",
   "metadata": {},
   "outputs": [
    {
     "data": {
      "text/plain": [
       "4"
      ]
     },
     "execution_count": 48,
     "metadata": {},
     "output_type": "execute_result"
    }
   ],
   "source": [
    "letters = ['a', 'b', 'c', 'd']\n",
    "len(letters)"
   ]
  },
  {
   "cell_type": "code",
   "execution_count": 50,
   "id": "e258d9aa",
   "metadata": {},
   "outputs": [
    {
     "data": {
      "text/plain": [
       "15"
      ]
     },
     "execution_count": 50,
     "metadata": {},
     "output_type": "execute_result"
    }
   ],
   "source": [
    "num = [1, 2, 3, 4, 5]\n",
    "sum(num)"
   ]
  },
  {
   "cell_type": "code",
   "execution_count": 51,
   "id": "7a5c344c",
   "metadata": {},
   "outputs": [
    {
     "data": {
      "text/plain": [
       "1"
      ]
     },
     "execution_count": 51,
     "metadata": {},
     "output_type": "execute_result"
    }
   ],
   "source": [
    "min(num)"
   ]
  },
  {
   "cell_type": "code",
   "execution_count": 52,
   "id": "4b4b450c",
   "metadata": {},
   "outputs": [
    {
     "data": {
      "text/plain": [
       "5"
      ]
     },
     "execution_count": 52,
     "metadata": {},
     "output_type": "execute_result"
    }
   ],
   "source": [
    "max(num)"
   ]
  },
  {
   "cell_type": "markdown",
   "id": "498ce776",
   "metadata": {},
   "source": [
    "리스트 메소드"
   ]
  },
  {
   "cell_type": "markdown",
   "id": "7a29ad9d",
   "metadata": {},
   "source": [
    "><small>리스트 메소드(List.Method)</small>"
   ]
  },
  {
   "cell_type": "code",
   "execution_count": 53,
   "id": "75df0f9c",
   "metadata": {},
   "outputs": [
    {
     "name": "stdout",
     "output_type": "stream",
     "text": [
      "Help on method_descriptor:\n",
      "\n",
      "sort(self, /, *, key=None, reverse=False) unbound builtins.list method\n",
      "    Sort the list in ascending order and return None.\n",
      "\n",
      "    The sort is in-place (i.e. the list itself is modified) and stable (i.e. the\n",
      "    order of two equal elements is maintained).\n",
      "\n",
      "    If a key function is given, apply it once to each list item and sort them,\n",
      "    ascending or descending, according to their function values.\n",
      "\n",
      "    The reverse flag can be set to sort in descending order.\n",
      "\n"
     ]
    }
   ],
   "source": [
    "help(list.sort)"
   ]
  },
  {
   "cell_type": "markdown",
   "id": "128aa0a2",
   "metadata": {},
   "source": [
    "리스트 순서"
   ]
  },
  {
   "cell_type": "markdown",
   "id": "723c68d1",
   "metadata": {},
   "source": [
    "><small>리스트 요소 순서 나열</small>"
   ]
  },
  {
   "cell_type": "code",
   "execution_count": 54,
   "id": "f715bd0c",
   "metadata": {},
   "outputs": [
    {
     "name": "stdout",
     "output_type": "stream",
     "text": [
      "['bus', 'sedan', 'taxi', 'truck']\n"
     ]
    }
   ],
   "source": [
    "cars = ['taxi', 'sedan', 'bus', 'truck']\n",
    "cars.sort() #오름차순으로 배열\n",
    "print(cars)"
   ]
  },
  {
   "cell_type": "code",
   "execution_count": 55,
   "id": "817872b2",
   "metadata": {},
   "outputs": [
    {
     "name": "stdout",
     "output_type": "stream",
     "text": [
      "['truck', 'taxi', 'sedan', 'bus']\n"
     ]
    }
   ],
   "source": [
    "cars.sort(reverse=True) #역순 배열\n",
    "print(cars)"
   ]
  },
  {
   "cell_type": "code",
   "execution_count": 56,
   "id": "3ae1d2d2",
   "metadata": {},
   "outputs": [
    {
     "name": "stdout",
     "output_type": "stream",
     "text": [
      "Here is the original list:\n",
      "['truck', 'taxi', 'sedan', 'bus']\n"
     ]
    }
   ],
   "source": [
    "print(\"Here is the original list:\")\n",
    "print(cars)"
   ]
  },
  {
   "cell_type": "code",
   "execution_count": 57,
   "id": "b68172b3",
   "metadata": {},
   "outputs": [
    {
     "name": "stdout",
     "output_type": "stream",
     "text": [
      "\n",
      "Here is the sorted list:\n",
      "['bus', 'sedan', 'taxi', 'truck']\n"
     ]
    }
   ],
   "source": [
    "print(\"\\nHere is the sorted list:\")\n",
    "print(sorted(cars))"
   ]
  },
  {
   "cell_type": "code",
   "execution_count": 58,
   "id": "3ec14a39",
   "metadata": {},
   "outputs": [
    {
     "name": "stdout",
     "output_type": "stream",
     "text": [
      "\n",
      "Here is the original list again:\n",
      "['truck', 'taxi', 'sedan', 'bus']\n"
     ]
    }
   ],
   "source": [
    "print(\"\\nHere is the original list again:\")\n",
    "print(cars)"
   ]
  },
  {
   "cell_type": "markdown",
   "id": "9811c206",
   "metadata": {},
   "source": [
    "><small>리스트 역순으로 출력하기</small>"
   ]
  },
  {
   "cell_type": "code",
   "execution_count": 59,
   "id": "d2c75376",
   "metadata": {},
   "outputs": [
    {
     "name": "stdout",
     "output_type": "stream",
     "text": [
      "['taxi', 'sedan', 'bus', 'truck ']\n"
     ]
    }
   ],
   "source": [
    "cars = ['taxi', 'sedan', 'bus', 'truck ']\n",
    "print(cars)"
   ]
  },
  {
   "cell_type": "code",
   "execution_count": 60,
   "id": "489e2ed5",
   "metadata": {},
   "outputs": [
    {
     "name": "stdout",
     "output_type": "stream",
     "text": [
      "['truck ', 'bus', 'sedan', 'taxi']\n"
     ]
    }
   ],
   "source": [
    "cars.reverse() #원래 리스트의 요소 순서를 거꾸로 배열\n",
    "print(cars)"
   ]
  },
  {
   "cell_type": "markdown",
   "id": "b96e4d34",
   "metadata": {},
   "source": [
    "><small>리스트 관련 에러</small>"
   ]
  },
  {
   "cell_type": "code",
   "execution_count": 61,
   "id": "c25ce0d8",
   "metadata": {},
   "outputs": [
    {
     "ename": "IndexError",
     "evalue": "list index out of range",
     "output_type": "error",
     "traceback": [
      "\u001b[31m---------------------------------------------------------------------------\u001b[39m",
      "\u001b[31mIndexError\u001b[39m                                Traceback (most recent call last)",
      "\u001b[36mCell\u001b[39m\u001b[36m \u001b[39m\u001b[32mIn[61]\u001b[39m\u001b[32m, line 2\u001b[39m\n\u001b[32m      1\u001b[39m motorcycles = [\u001b[33m'\u001b[39m\u001b[33mhonda\u001b[39m\u001b[33m'\u001b[39m, \u001b[33m'\u001b[39m\u001b[33myamaha\u001b[39m\u001b[33m'\u001b[39m, \u001b[33m'\u001b[39m\u001b[33msuzuki\u001b[39m\u001b[33m'\u001b[39m]\n\u001b[32m----> \u001b[39m\u001b[32m2\u001b[39m \u001b[38;5;28mprint\u001b[39m(\u001b[43mmotorcycles\u001b[49m\u001b[43m[\u001b[49m\u001b[32;43m3\u001b[39;49m\u001b[43m]\u001b[49m)\n",
      "\u001b[31mIndexError\u001b[39m: list index out of range"
     ]
    }
   ],
   "source": [
    "motorcycles = ['honda', 'yamaha', 'suzuki']\n",
    "print(motorcycles[3])"
   ]
  },
  {
   "cell_type": "markdown",
   "id": "70f79830",
   "metadata": {},
   "source": [
    "리스트 내포(list comprehension)"
   ]
  },
  {
   "cell_type": "markdown",
   "id": "7e08f51c",
   "metadata": {},
   "source": [
    "><small>리스트 내포란?</small><br>\n",
    "* 리스트 안에 for문을 포함하여 한 줄로 리스트를 만드는 방법<br>\n",
    "* [표현식 for 항목 in 반복객체] <br>\n",
    "* [표현식 for 항목 in 반복객체 if 조건문]<br>\n",
    "* [표현식 if 조건문 else 문장 for 항목 in 반복객체]\n"
   ]
  },
  {
   "cell_type": "code",
   "execution_count": null,
   "id": "200e8c1e",
   "metadata": {},
   "outputs": [],
   "source": [
    "#a 원소의 3배수로 구성되는 리스트 생성\n",
    "a = [1, 2, 3, 4]\n",
    "result = [num*3 for num in a]"
   ]
  },
  {
   "cell_type": "code",
   "execution_count": null,
   "id": "59d45562",
   "metadata": {},
   "outputs": [],
   "source": [
    "#a의 원소 중 짝수인 원소의 3배수로 구성되는 리스트 생성\n",
    "result = [num*3 for num in a if num % 2 == 0]"
   ]
  },
  {
   "cell_type": "code",
   "execution_count": 64,
   "id": "16f5e41a",
   "metadata": {},
   "outputs": [
    {
     "data": {
      "text/plain": [
       "[0, 1, 4, 9, 8, 25, 12, 49, 16, 81]"
      ]
     },
     "execution_count": 64,
     "metadata": {},
     "output_type": "execute_result"
    }
   ],
   "source": [
    "#짝수의 2배수나 홀수의 제곱을 원소로 갖는 리스트 생성\n",
    "[i*2 if i%2 == 0 else i**2 for i in range(10) ]"
   ]
  },
  {
   "cell_type": "markdown",
   "id": "05368047",
   "metadata": {},
   "source": [
    "튜플(tuple)"
   ]
  },
  {
   "cell_type": "markdown",
   "id": "323becfa",
   "metadata": {},
   "source": [
    "><small>튜플은 리스트와 비슷한 자료구조이나 요소 값을 변경 할 수 없다(immutable)</small><br>\n",
    "><small>튜플 만들기</small>"
   ]
  },
  {
   "cell_type": "code",
   "execution_count": 65,
   "id": "517ad37c",
   "metadata": {},
   "outputs": [
    {
     "data": {
      "text/plain": [
       "(1, 2, 3)"
      ]
     },
     "execution_count": 65,
     "metadata": {},
     "output_type": "execute_result"
    }
   ],
   "source": [
    "t1 = (1, 2, 3)\n",
    "t1"
   ]
  },
  {
   "cell_type": "code",
   "execution_count": 66,
   "id": "ebf89a15",
   "metadata": {},
   "outputs": [
    {
     "data": {
      "text/plain": [
       "(1, 2, 3)"
      ]
     },
     "execution_count": 66,
     "metadata": {},
     "output_type": "execute_result"
    }
   ],
   "source": [
    "t2 = 1, 2, 3\n",
    "t2"
   ]
  },
  {
   "cell_type": "code",
   "execution_count": 67,
   "id": "08b755d2",
   "metadata": {},
   "outputs": [
    {
     "data": {
      "text/plain": [
       "(1,)"
      ]
     },
     "execution_count": 67,
     "metadata": {},
     "output_type": "execute_result"
    }
   ],
   "source": [
    "t3 = 1, \n",
    "t3"
   ]
  },
  {
   "cell_type": "code",
   "execution_count": 68,
   "id": "bb041308",
   "metadata": {},
   "outputs": [],
   "source": [
    "t4 = tuple()"
   ]
  },
  {
   "cell_type": "markdown",
   "id": "b2f85f58",
   "metadata": {},
   "source": [
    "><small>튜플 요소 접근하기(인덱싱과 슬라이싱)</small>"
   ]
  },
  {
   "cell_type": "code",
   "execution_count": 69,
   "id": "30f196f0",
   "metadata": {},
   "outputs": [
    {
     "data": {
      "text/plain": [
       "2"
      ]
     },
     "execution_count": 69,
     "metadata": {},
     "output_type": "execute_result"
    }
   ],
   "source": [
    "t1 = (1, 2, 3)\n",
    "t1[1]"
   ]
  },
  {
   "cell_type": "code",
   "execution_count": 70,
   "id": "798304c1",
   "metadata": {},
   "outputs": [
    {
     "data": {
      "text/plain": [
       "(2, 3)"
      ]
     },
     "execution_count": 70,
     "metadata": {},
     "output_type": "execute_result"
    }
   ],
   "source": [
    "t1[1:3]"
   ]
  },
  {
   "cell_type": "markdown",
   "id": "8890e0c9",
   "metadata": {},
   "source": [
    "><small>튜플 연산</small>"
   ]
  },
  {
   "cell_type": "code",
   "execution_count": 71,
   "id": "bca0a9a6",
   "metadata": {},
   "outputs": [
    {
     "data": {
      "text/plain": [
       "(1, 2, 3, 'a', 'b')"
      ]
     },
     "execution_count": 71,
     "metadata": {},
     "output_type": "execute_result"
    }
   ],
   "source": [
    "t1 = (1, 2, 3)\n",
    "t2 = ('a', 'b')\n",
    "t1 + t2"
   ]
  },
  {
   "cell_type": "code",
   "execution_count": 72,
   "id": "d8b861b5",
   "metadata": {},
   "outputs": [
    {
     "data": {
      "text/plain": [
       "(1, 2, 3, 1, 2, 3)"
      ]
     },
     "execution_count": 72,
     "metadata": {},
     "output_type": "execute_result"
    }
   ],
   "source": [
    "t1 * 2"
   ]
  },
  {
   "cell_type": "markdown",
   "id": "f106d00e",
   "metadata": {},
   "source": [
    "><small>튜플과 리스트 상호 변환</small>"
   ]
  },
  {
   "cell_type": "code",
   "execution_count": 73,
   "id": "3570b45a",
   "metadata": {},
   "outputs": [
    {
     "data": {
      "text/plain": [
       "(1, 2, 3, 4)"
      ]
     },
     "execution_count": 73,
     "metadata": {},
     "output_type": "execute_result"
    }
   ],
   "source": [
    "T1 = (1, 2, 3)\n",
    "L1 = list(T1)\n",
    "L1.append(4)\n",
    "T1 = tuple(L1)\n",
    "T1"
   ]
  },
  {
   "cell_type": "markdown",
   "id": "2ef2ec7e",
   "metadata": {},
   "source": [
    "><small>튜플 언패킹</small>"
   ]
  },
  {
   "cell_type": "code",
   "execution_count": 74,
   "id": "d6db3c33",
   "metadata": {},
   "outputs": [],
   "source": [
    "a, b, c = (1, 2, 3)"
   ]
  },
  {
   "cell_type": "code",
   "execution_count": 75,
   "id": "60b9376b",
   "metadata": {},
   "outputs": [
    {
     "data": {
      "text/plain": [
       "1"
      ]
     },
     "execution_count": 75,
     "metadata": {},
     "output_type": "execute_result"
    }
   ],
   "source": [
    "a"
   ]
  },
  {
   "cell_type": "code",
   "execution_count": 76,
   "id": "db5098eb",
   "metadata": {},
   "outputs": [
    {
     "data": {
      "text/plain": [
       "2"
      ]
     },
     "execution_count": 76,
     "metadata": {},
     "output_type": "execute_result"
    }
   ],
   "source": [
    "b"
   ]
  },
  {
   "cell_type": "code",
   "execution_count": 77,
   "id": "d3ec06e3",
   "metadata": {},
   "outputs": [
    {
     "data": {
      "text/plain": [
       "3"
      ]
     },
     "execution_count": 77,
     "metadata": {},
     "output_type": "execute_result"
    }
   ],
   "source": [
    "c"
   ]
  },
  {
   "cell_type": "markdown",
   "id": "06d80f55",
   "metadata": {},
   "source": [
    "딕셔너리(dictionary)"
   ]
  },
  {
   "cell_type": "markdown",
   "id": "e4bf2c39",
   "metadata": {},
   "source": [
    "><small>* 키(key):값(value)로 구성되는 자료 구조</small><br>\n",
    "* {key1: value1, key2: value2}<br>\n",
    "><small>* 키는 정수, 실수, 문자형, 튜플</small>\n",
    "><small>* 값은 임의의 데이터형</small><br>\n",
    "><small>* 딕셔너리 생성</small>"
   ]
  },
  {
   "cell_type": "code",
   "execution_count": 78,
   "id": "a2df8582",
   "metadata": {},
   "outputs": [
    {
     "data": {
      "text/plain": [
       "{'Jun': 174, 'Kim': 170, 'Lee': 165}"
      ]
     },
     "execution_count": 78,
     "metadata": {},
     "output_type": "execute_result"
    }
   ],
   "source": [
    "height = {'Jun':174, 'Kim':170, 'Lee':165} \n",
    "height"
   ]
  },
  {
   "cell_type": "code",
   "execution_count": 79,
   "id": "693c21b7",
   "metadata": {},
   "outputs": [
    {
     "data": {
      "text/plain": [
       "{}"
      ]
     },
     "execution_count": 79,
     "metadata": {},
     "output_type": "execute_result"
    }
   ],
   "source": [
    "test = dict()\n",
    "test"
   ]
  },
  {
   "cell_type": "markdown",
   "id": "52e596eb",
   "metadata": {},
   "source": [
    "><small>딕셔너리 key 값 조사하기</small>"
   ]
  },
  {
   "cell_type": "code",
   "execution_count": 80,
   "id": "de1a5b90",
   "metadata": {},
   "outputs": [
    {
     "data": {
      "text/plain": [
       "170"
      ]
     },
     "execution_count": 80,
     "metadata": {},
     "output_type": "execute_result"
    }
   ],
   "source": [
    " height['Kim']"
   ]
  },
  {
   "cell_type": "markdown",
   "id": "22dae027",
   "metadata": {},
   "source": [
    "><small>딕셔너리 키 조사</small>"
   ]
  },
  {
   "cell_type": "code",
   "execution_count": 81,
   "id": "a70bfb75",
   "metadata": {},
   "outputs": [
    {
     "data": {
      "text/plain": [
       "True"
      ]
     },
     "execution_count": 81,
     "metadata": {},
     "output_type": "execute_result"
    }
   ],
   "source": [
    "height = {'Jun':174, 'Kim':170, 'Lee':165}\n",
    "'Kim' in height"
   ]
  },
  {
   "cell_type": "markdown",
   "id": "f5950f53",
   "metadata": {},
   "source": [
    "><small>딕셔너리 요소 수정, 추가하기</small>"
   ]
  },
  {
   "cell_type": "code",
   "execution_count": 82,
   "id": "25a48c02",
   "metadata": {},
   "outputs": [
    {
     "data": {
      "text/plain": [
       "{'Jun': 174, 'Kim': 170, 'Lee': 180}"
      ]
     },
     "execution_count": 82,
     "metadata": {},
     "output_type": "execute_result"
    }
   ],
   "source": [
    "height['Lee'] = 180\n",
    "height"
   ]
  },
  {
   "cell_type": "code",
   "execution_count": 85,
   "id": "be1f1a75",
   "metadata": {},
   "outputs": [
    {
     "data": {
      "text/plain": [
       "{'Jun': 174, 'Kim': 170, 'Lee': 180, 'Ihm': 168}"
      ]
     },
     "execution_count": 85,
     "metadata": {},
     "output_type": "execute_result"
    }
   ],
   "source": [
    "height['Ihm'] = 168\n",
    "height"
   ]
  },
  {
   "cell_type": "markdown",
   "id": "421f15d6",
   "metadata": {},
   "source": [
    "><small>딕셔너리의 키, 값, 요소를 뽑아내기</small>"
   ]
  },
  {
   "cell_type": "code",
   "execution_count": 87,
   "id": "66b47bb0",
   "metadata": {},
   "outputs": [
    {
     "data": {
      "text/plain": [
       "dict_keys(['Jun', 'Kim', 'Lee', 'Ihm'])"
      ]
     },
     "execution_count": 87,
     "metadata": {},
     "output_type": "execute_result"
    }
   ],
   "source": [
    "height.keys()"
   ]
  },
  {
   "cell_type": "code",
   "execution_count": 88,
   "id": "93b6ec79",
   "metadata": {},
   "outputs": [
    {
     "data": {
      "text/plain": [
       "dict_values([174, 170, 180, 168])"
      ]
     },
     "execution_count": 88,
     "metadata": {},
     "output_type": "execute_result"
    }
   ],
   "source": [
    "height.values()"
   ]
  },
  {
   "cell_type": "code",
   "execution_count": 89,
   "id": "916f929f",
   "metadata": {},
   "outputs": [
    {
     "data": {
      "text/plain": [
       "dict_items([('Jun', 174), ('Kim', 170), ('Lee', 180), ('Ihm', 168)])"
      ]
     },
     "execution_count": 89,
     "metadata": {},
     "output_type": "execute_result"
    }
   ],
   "source": [
    "height.items()"
   ]
  },
  {
   "cell_type": "code",
   "execution_count": 90,
   "id": "910e6ab6",
   "metadata": {},
   "outputs": [
    {
     "data": {
      "text/plain": [
       "['Jun', 'Kim', 'Lee', 'Ihm']"
      ]
     },
     "execution_count": 90,
     "metadata": {},
     "output_type": "execute_result"
    }
   ],
   "source": [
    "dict_keys = height.keys()\n",
    "keys_list = list(dict_keys)\n",
    "keys_list"
   ]
  },
  {
   "cell_type": "markdown",
   "id": "d56a2ee7",
   "metadata": {},
   "source": [
    "><small>딕셔너리 요소 제거하기</small>"
   ]
  },
  {
   "cell_type": "code",
   "execution_count": 91,
   "id": "2ff6cf57",
   "metadata": {},
   "outputs": [
    {
     "data": {
      "text/plain": [
       "168"
      ]
     },
     "execution_count": 91,
     "metadata": {},
     "output_type": "execute_result"
    }
   ],
   "source": [
    "height.pop('Ihm')"
   ]
  },
  {
   "cell_type": "code",
   "execution_count": 92,
   "id": "74b22d76",
   "metadata": {},
   "outputs": [
    {
     "data": {
      "text/plain": [
       "{'Jun': 174, 'Kim': 170, 'Lee': 180}"
      ]
     },
     "execution_count": 92,
     "metadata": {},
     "output_type": "execute_result"
    }
   ],
   "source": [
    "height"
   ]
  },
  {
   "cell_type": "markdown",
   "id": "e0bed9d8",
   "metadata": {},
   "source": [
    "><small>딕셔너리 지우기</small>"
   ]
  },
  {
   "cell_type": "code",
   "execution_count": 93,
   "id": "75539a0a",
   "metadata": {},
   "outputs": [
    {
     "data": {
      "text/plain": [
       "{}"
      ]
     },
     "execution_count": 93,
     "metadata": {},
     "output_type": "execute_result"
    }
   ],
   "source": [
    "height.clear() \n",
    "height"
   ]
  },
  {
   "cell_type": "markdown",
   "id": "1ba69ad3",
   "metadata": {},
   "source": [
    "집합(set)"
   ]
  },
  {
   "cell_type": "markdown",
   "id": "76f31b2b",
   "metadata": {},
   "source": [
    "><small>{} 속에 요소들을 중복되지 않고 순서없이 모아놓은 자료 구조<br>\n",
    "집합의 생성</small>\n"
   ]
  },
  {
   "cell_type": "code",
   "execution_count": 94,
   "id": "27db2cb3",
   "metadata": {},
   "outputs": [],
   "source": [
    "numbers = {1,2,3}\n",
    "name = set(['Kim', 'Lee', 'Park'])"
   ]
  },
  {
   "cell_type": "code",
   "execution_count": null,
   "id": "1d4cce0e",
   "metadata": {},
   "outputs": [
    {
     "data": {
      "text/plain": [
       "3"
      ]
     },
     "execution_count": 95,
     "metadata": {},
     "output_type": "execute_result"
    }
   ],
   "source": [
    "empty = set() #빈 집합 생성\n",
    "numbers = {1,2,3}\n",
    "len(numbers)"
   ]
  },
  {
   "cell_type": "code",
   "execution_count": 96,
   "id": "576f972a",
   "metadata": {},
   "outputs": [
    {
     "data": {
      "text/plain": [
       "{1, 2, 3, 4}"
      ]
     },
     "execution_count": 96,
     "metadata": {},
     "output_type": "execute_result"
    }
   ],
   "source": [
    "numbers.add(4) #요소 추가\n",
    "numbers"
   ]
  },
  {
   "cell_type": "code",
   "execution_count": 97,
   "id": "c29c1c2b",
   "metadata": {},
   "outputs": [
    {
     "data": {
      "text/plain": [
       "{1, 2, 3}"
      ]
     },
     "execution_count": 97,
     "metadata": {},
     "output_type": "execute_result"
    }
   ],
   "source": [
    "numbers.remove(4) #요소 제거\n",
    "numbers\n"
   ]
  },
  {
   "cell_type": "markdown",
   "id": "f12516c0",
   "metadata": {},
   "source": [
    "><small>집합의 연산</small>"
   ]
  },
  {
   "cell_type": "code",
   "execution_count": 99,
   "id": "28c1da6b",
   "metadata": {},
   "outputs": [
    {
     "data": {
      "text/plain": [
       "{2, 3}"
      ]
     },
     "execution_count": 99,
     "metadata": {},
     "output_type": "execute_result"
    }
   ],
   "source": [
    "setA = {1,2,3}\n",
    "setB = {2,3,4}\n",
    "setA & setB "
   ]
  },
  {
   "cell_type": "code",
   "execution_count": 100,
   "id": "0e198d71",
   "metadata": {},
   "outputs": [
    {
     "data": {
      "text/plain": [
       "{1, 2, 3, 4}"
      ]
     },
     "execution_count": 100,
     "metadata": {},
     "output_type": "execute_result"
    }
   ],
   "source": [
    "setA | setB"
   ]
  },
  {
   "cell_type": "code",
   "execution_count": 101,
   "id": "8c5902c3",
   "metadata": {},
   "outputs": [
    {
     "data": {
      "text/plain": [
       "{1}"
      ]
     },
     "execution_count": 101,
     "metadata": {},
     "output_type": "execute_result"
    }
   ],
   "source": [
    "setA - setB"
   ]
  },
  {
   "cell_type": "markdown",
   "id": "ece62fdb",
   "metadata": {},
   "source": [
    "><small>부분 집합 연산</small>"
   ]
  },
  {
   "cell_type": "code",
   "execution_count": 102,
   "id": "5519ecc7",
   "metadata": {},
   "outputs": [
    {
     "data": {
      "text/plain": [
       "True"
      ]
     },
     "execution_count": 102,
     "metadata": {},
     "output_type": "execute_result"
    }
   ],
   "source": [
    "setA = {1, 2, 3}\n",
    "setB = {1, 2, 3}\n",
    "setA == setB"
   ]
  },
  {
   "cell_type": "code",
   "execution_count": 103,
   "id": "92040d47",
   "metadata": {},
   "outputs": [
    {
     "data": {
      "text/plain": [
       "True"
      ]
     },
     "execution_count": 103,
     "metadata": {},
     "output_type": "execute_result"
    }
   ],
   "source": [
    "setA = {1, 2, 3, 4, 5, 6}\n",
    "setB = {1, 2, 3}\n",
    "setB < setA"
   ]
  },
  {
   "cell_type": "code",
   "execution_count": 104,
   "id": "e08988fd",
   "metadata": {},
   "outputs": [
    {
     "data": {
      "text/plain": [
       "True"
      ]
     },
     "execution_count": 104,
     "metadata": {},
     "output_type": "execute_result"
    }
   ],
   "source": [
    "setB.issubset(setA)"
   ]
  }
 ],
 "metadata": {
  "kernelspec": {
   "display_name": "Python 3",
   "language": "python",
   "name": "python3"
  },
  "language_info": {
   "codemirror_mode": {
    "name": "ipython",
    "version": 3
   },
   "file_extension": ".py",
   "mimetype": "text/x-python",
   "name": "python",
   "nbconvert_exporter": "python",
   "pygments_lexer": "ipython3",
   "version": "3.13.7"
  }
 },
 "nbformat": 4,
 "nbformat_minor": 5
}
