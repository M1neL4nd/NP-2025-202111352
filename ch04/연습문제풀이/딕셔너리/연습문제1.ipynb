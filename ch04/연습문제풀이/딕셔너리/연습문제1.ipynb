{
 "cells": [
  {
   "cell_type": "markdown",
   "id": "81b0a0f4",
   "metadata": {},
   "source": [
    "## 이름 : 정승희 학번 : 202111352"
   ]
  },
  {
   "cell_type": "markdown",
   "id": "ee775223",
   "metadata": {},
   "source": [
    "다음 딕셔너리에 대해 물음에 답하라.\n",
    " days = {'January':31, 'February':28, 'March':31' 'April':30,'May':31, 'June':30, 'July':31, 'August':31,\n",
    " 'September':30, 'October':31, 'November':30' 'December':31}"
   ]
  },
  {
   "cell_type": "markdown",
   "id": "4bad0239",
   "metadata": {},
   "source": [
    "><small>* 사용자가 월을 입력하면 해당 월에 일 수를 출력하라<br></small>\n",
    "><small>* 알파벳 순서로 모든 월을 출력하라 일수가 31인 월을 모두 출력하라<Br></small>\n",
    "><small>* 월의 일수를 기준으로 오름차순으로(key-value) 쌍을 출력하라 <br></small>\n",
    "><small>* 사용자가 월을 3자리만 입력하면 월의 일수를 출력하라.(Jan, Feb 등)</small>"
   ]
  },
  {
   "cell_type": "code",
   "execution_count": 7,
   "id": "c1f9552b",
   "metadata": {},
   "outputs": [
    {
     "name": "stdout",
     "output_type": "stream",
     "text": [
      "May의 일수는: \n",
      "\n",
      "알파벳 순서로 정렬된 월 목록:\n",
      "April\n",
      "August\n",
      "December\n",
      "February\n",
      "January\n",
      "July\n",
      "June\n",
      "March\n",
      "May\n",
      "November\n",
      "October\n",
      "September\n",
      "\n",
      "일수가 31일인 월:\n",
      "January\n",
      "March\n",
      "May\n",
      "July\n",
      "August\n",
      "October\n",
      "December\n",
      "\n",
      "일수 기준 오름차순 정렬된 월:\n",
      "February: 28\n",
      "April: 30\n",
      "June: 30\n",
      "September: 30\n",
      "November: 30\n",
      "January: 31\n",
      "March: 31\n",
      "May: 31\n",
      "July: 31\n",
      "August: 31\n",
      "October: 31\n",
      "December: 31\n",
      "May의 일수는: 31\n"
     ]
    }
   ],
   "source": [
    "months = {\n",
    "    'January': 31, 'February': 28, 'March': 31, 'April': 30,\n",
    "    'May': 31, 'June': 30, 'July': 31, 'August': 31,\n",
    "    'September': 30, 'October': 31, 'November': 30, 'December': 31\n",
    "}\n",
    "\n",
    "month = input(\"월 이름을 입력하세요 (예: March): \")\n",
    "print(f\"{month}의 일수는: \")\n",
    "\n",
    "print(\"\\n알파벳 순서로 정렬된 월 목록:\")\n",
    "for m in sorted(months.keys()):\n",
    "    print(m)\n",
    "\n",
    "print(\"\\n일수가 31일인 월:\")\n",
    "for m, d in months.items():\n",
    "    if d == 31:\n",
    "        print(m)\n",
    "\n",
    "print(\"\\n일수 기준 오름차순 정렬된 월:\")\n",
    "for m, d in sorted(months.items(), key=lambda x: x[1]):\n",
    "    print(f\"{m}: {d}\")\n",
    "\n",
    "abbr = input(\"\\n3자리 월 이름을 입력하세요 (예: Jan): \")\n",
    "abbr_map = {m[:3].capitalize(): m for m in months.keys()}\n",
    "\n",
    "full_month = abbr_map.get(abbr.capitalize())\n",
    "print(f\"{full_month}의 일수는: {months[full_month]}\")"
   ]
  }
 ],
 "metadata": {
  "kernelspec": {
   "display_name": "Python 3",
   "language": "python",
   "name": "python3"
  },
  "language_info": {
   "codemirror_mode": {
    "name": "ipython",
    "version": 3
   },
   "file_extension": ".py",
   "mimetype": "text/x-python",
   "name": "python",
   "nbconvert_exporter": "python",
   "pygments_lexer": "ipython3",
   "version": "3.13.7"
  }
 },
 "nbformat": 4,
 "nbformat_minor": 5
}
