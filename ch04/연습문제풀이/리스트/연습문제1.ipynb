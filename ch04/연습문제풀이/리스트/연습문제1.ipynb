{
 "cells": [
  {
   "cell_type": "markdown",
   "id": "81b0a0f4",
   "metadata": {},
   "source": [
    "## 이름 : 정승희 학번 : 202111352"
   ]
  },
  {
   "cell_type": "markdown",
   "id": "93853121",
   "metadata": {},
   "source": [
    "><small>3명 이상 친구 이름 리스트를 작성하고 다음 내용을 프로그램 하시오</small>"
   ]
  },
  {
   "cell_type": "code",
   "execution_count": 1,
   "id": "044f3f04",
   "metadata": {},
   "outputs": [
    {
     "name": "stdout",
     "output_type": "stream",
     "text": [
      "친구 리스트:  ['라', '가', '마', '나', '다', '바']\n"
     ]
    }
   ],
   "source": [
    "friend = [\"가\", \"나\", \"다\"]\n",
    "\n",
    "friend.insert(0, \"라\")\n",
    "friend.insert(2, \"마\")\n",
    "friend.append(\"바\")\n",
    "\n",
    "print(\"친구 리스트: \", friend)"
   ]
  },
  {
   "cell_type": "markdown",
   "id": "8b0b9d39",
   "metadata": {},
   "source": [
    "><small>리스트[1, 2, 3]에 대해 다음과 같은 처리를 하라.</small>"
   ]
  },
  {
   "cell_type": "code",
   "execution_count": 5,
   "id": "eb67d0a1",
   "metadata": {},
   "outputs": [
    {
     "name": "stdout",
     "output_type": "stream",
     "text": [
      "[0, 1, 3, 25, 5, 6]\n"
     ]
    }
   ],
   "source": [
    "n = [1, 2, 3]\n",
    "\n",
    "n[1] = [17]\n",
    "n.extend([4, 5, 6])\n",
    "n[1] = 0\n",
    "\n",
    "n.sort()\n",
    "n[3] = 25\n",
    "\n",
    "print(n)"
   ]
  }
 ],
 "metadata": {
  "kernelspec": {
   "display_name": "Python 3",
   "language": "python",
   "name": "python3"
  },
  "language_info": {
   "codemirror_mode": {
    "name": "ipython",
    "version": 3
   },
   "file_extension": ".py",
   "mimetype": "text/x-python",
   "name": "python",
   "nbconvert_exporter": "python",
   "pygments_lexer": "ipython3",
   "version": "3.13.7"
  }
 },
 "nbformat": 4,
 "nbformat_minor": 5
}
