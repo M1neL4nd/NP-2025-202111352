{
 "cells": [
  {
   "cell_type": "markdown",
   "id": "81b0a0f4",
   "metadata": {},
   "source": [
    "## 이름 : 정승희 학번 : 202111352"
   ]
  },
  {
   "cell_type": "markdown",
   "id": "93853121",
   "metadata": {},
   "source": [
    "1. for 루프를 이용하여 다음과 같은 리스트를 생성하라."
   ]
  },
  {
   "cell_type": "markdown",
   "id": "b7bb729d",
   "metadata": {},
   "source": [
    "><small>* 0~49까지의 수로 구성되는 리스트<br></small>\n",
    "<small>* 1~50까지의 수의 제곱으로 구성되는 리스트</small>"
   ]
  },
  {
   "cell_type": "code",
   "execution_count": 1,
   "id": "077af00c",
   "metadata": {},
   "outputs": [
    {
     "name": "stdout",
     "output_type": "stream",
     "text": [
      "0~49까지의 리스트:  [0, 1, 2, 3, 4, 5, 6, 7, 8, 9, 10, 11, 12, 13, 14, 15, 16, 17, 18, 19, 20, 21, 22, 23, 24, 25, 26, 27, 28, 29, 30, 31, 32, 33, 34, 35, 36, 37, 38, 39, 40, 41, 42, 43, 44, 45, 46, 47, 48, 49]\n"
     ]
    }
   ],
   "source": [
    "n = []\n",
    "for a in range(50):\n",
    "    n.append(a)\n",
    "\n",
    "print(\"0~49까지의 리스트: \", n)"
   ]
  },
  {
   "cell_type": "code",
   "execution_count": 3,
   "id": "45667f34",
   "metadata": {},
   "outputs": [
    {
     "name": "stdout",
     "output_type": "stream",
     "text": [
      "1~50사이의 수의 제곱으로 구성된 리스트:  [1, 4, 9, 16, 25, 36, 49, 64, 81, 100, 121, 144, 169, 196, 225, 256, 289, 324, 361, 400, 441, 484, 529, 576, 625, 676, 729, 784, 841, 900, 961, 1024, 1089, 1156, 1225, 1296, 1369, 1444, 1521, 1600, 1681, 1764, 1849, 1936, 2025, 2116, 2209, 2304, 2401, 2500]\n"
     ]
    }
   ],
   "source": [
    "m = []\n",
    "for b in range(1, 51):\n",
    "    m.append(b ** 2)\n",
    "\n",
    "print(\"1~50사이의 수의 제곱으로 구성된 리스트: \", m)"
   ]
  },
  {
   "cell_type": "markdown",
   "id": "363128f3",
   "metadata": {},
   "source": [
    "2. 크기가 같은 두 개의 리스트L, M을 생성 하고 두 리스트의 각 요소 합으로 구성 되는 새로운 리스트를 생성하라. 예를 들어 L = [1,2,3]이고 M = [4,5,6]이면 [5,7,9]인 리스트 생성"
   ]
  },
  {
   "cell_type": "code",
   "execution_count": 6,
   "id": "40b4924e",
   "metadata": {},
   "outputs": [
    {
     "name": "stdout",
     "output_type": "stream",
     "text": [
      "두 리스트의 요소 합:  [5, 7, 9]\n"
     ]
    }
   ],
   "source": [
    "L = [1, 2, 3]\n",
    "M = [4, 5, 6]\n",
    "\n",
    "result = []\n",
    "for a in range(len(L)):\n",
    "    result.append(L[a] + M[a])  \n",
    "\n",
    "print(\"두 리스트의 요소 합: \", result)"
   ]
  }
 ],
 "metadata": {
  "kernelspec": {
   "display_name": "Python 3",
   "language": "python",
   "name": "python3"
  },
  "language_info": {
   "codemirror_mode": {
    "name": "ipython",
    "version": 3
   },
   "file_extension": ".py",
   "mimetype": "text/x-python",
   "name": "python",
   "nbconvert_exporter": "python",
   "pygments_lexer": "ipython3",
   "version": "3.13.7"
  }
 },
 "nbformat": 4,
 "nbformat_minor": 5
}
