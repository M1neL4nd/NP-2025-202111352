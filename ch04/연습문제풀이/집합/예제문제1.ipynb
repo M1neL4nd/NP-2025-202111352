{
 "cells": [
  {
   "cell_type": "markdown",
   "id": "2e1068f5",
   "metadata": {},
   "source": [
    "## 이름 : 정승희 학번 : 202111352"
   ]
  },
  {
   "cell_type": "markdown",
   "id": "fcd11fa9",
   "metadata": {},
   "source": [
    "><small>1부터 45까지의 수 중에서 6개를 선택하여 로또 번호를 만드는 프로그램</small>"
   ]
  },
  {
   "cell_type": "code",
   "execution_count": null,
   "id": "a1b89f15",
   "metadata": {},
   "outputs": [],
   "source": [
    "import random\n",
    "pick = set()\n",
    "while len(pick) < 6:\n",
    "    n = random.randint(1,45) \n",
    "    if n not in pick:\n",
    "        pick.add(n) \n",
    "print(pick)\n",
    "print(sorted(pick)) "
   ]
  }
 ],
 "metadata": {
  "kernelspec": {
   "display_name": "Python 3",
   "language": "python",
   "name": "python3"
  },
  "language_info": {
   "name": "python",
   "version": "3.13.7"
  }
 },
 "nbformat": 4,
 "nbformat_minor": 5
}
