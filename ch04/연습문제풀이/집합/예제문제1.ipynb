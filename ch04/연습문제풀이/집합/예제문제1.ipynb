{
 "cells": [
  {
   "cell_type": "markdown",
   "id": "4e368e96",
   "metadata": {},
   "source": [
    "## 이름 : 정승희 학번 : 202111352"
   ]
  },
  {
   "cell_type": "markdown",
   "id": "edfff52a",
   "metadata": {},
   "source": [
    "><small>1부터 45까지의 수 중에서 6개를 선택하여 로또 번호를 만드는 프로그램</small>"
   ]
  },
  {
   "cell_type": "code",
   "execution_count": 1,
   "id": "96f9424f",
   "metadata": {},
   "outputs": [
    {
     "name": "stdout",
     "output_type": "stream",
     "text": [
      "{33, 2, 35, 37, 10, 31}\n",
      "[2, 10, 31, 33, 35, 37]\n"
     ]
    }
   ],
   "source": [
    "import random\n",
    "pick = set()\n",
    "while len(pick) < 6:\n",
    "    n = random.randint(1, 45)\n",
    "    if n not in pick:\n",
    "        pick.add(n)\n",
    "print(pick)\n",
    "print(sorted(pick))"
   ]
  }
 ],
 "metadata": {
  "kernelspec": {
   "display_name": "Python 3",
   "language": "python",
   "name": "python3"
  },
  "language_info": {
   "codemirror_mode": {
    "name": "ipython",
    "version": 3
   },
   "file_extension": ".py",
   "mimetype": "text/x-python",
   "name": "python",
   "nbconvert_exporter": "python",
   "pygments_lexer": "ipython3",
   "version": "3.13.7"
  }
 },
 "nbformat": 4,
 "nbformat_minor": 5
}
