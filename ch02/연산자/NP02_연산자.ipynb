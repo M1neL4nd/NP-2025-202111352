{
 "cells": [
  {
   "cell_type": "markdown",
   "id": "f5af9965",
   "metadata": {},
   "source": [
    "## 이름 : 정승희 학번 : 202111352"
   ]
  },
  {
   "cell_type": "markdown",
   "id": "6ed2f279",
   "metadata": {},
   "source": [
    "지정 연산자(assignment operator); 할당 연산자"
   ]
  },
  {
   "cell_type": "code",
   "execution_count": 3,
   "id": "36905b3a",
   "metadata": {},
   "outputs": [],
   "source": [
    "i = 3\n",
    "i = i + 2"
   ]
  },
  {
   "cell_type": "markdown",
   "id": "44fc67b1",
   "metadata": {},
   "source": [
    "><small>변수의 값을 지정하기 위해 사용(=)</small>"
   ]
  },
  {
   "cell_type": "markdown",
   "id": "ba66aba9",
   "metadata": {},
   "source": [
    "산술 연산자(arithmetic operator)"
   ]
  },
  {
   "cell_type": "markdown",
   "id": "2d8058d6",
   "metadata": {},
   "source": [
    "><small>* 사칙연산자: +, -, *, /\n",
    "<br>* 정수나눗셈: // \n",
    "<br>* 나머지 연산: %</small>"
   ]
  },
  {
   "cell_type": "code",
   "execution_count": 9,
   "id": "380d7e3f",
   "metadata": {},
   "outputs": [],
   "source": [
    "a = 10\n",
    "b = 3\n",
    "c = a % b\n",
    "d = a // b\n",
    "e = a / b"
   ]
  },
  {
   "cell_type": "markdown",
   "id": "12ca8ae7",
   "metadata": {},
   "source": [
    "관계 연산자(relation operator)"
   ]
  },
  {
   "cell_type": "markdown",
   "id": "8858a90a",
   "metadata": {},
   "source": [
    "><small>* 비교연산자<br>* 항의 대소관계 또는 동등관계 판정<br>* 연산결과는 True(참) 또는 False(거짓)</small>"
   ]
  },
  {
   "cell_type": "code",
   "execution_count": 10,
   "id": "586408d1",
   "metadata": {},
   "outputs": [
    {
     "name": "stdout",
     "output_type": "stream",
     "text": [
      "True\n",
      "False\n",
      "False\n",
      "True\n"
     ]
    }
   ],
   "source": [
    "score = 95\n",
    "print(score >= 90)\n",
    "print(score < 80)\n",
    "print(score == 90)\n",
    "print(score != 80)"
   ]
  },
  {
   "cell_type": "markdown",
   "id": "767d0350",
   "metadata": {},
   "source": [
    "논리 연산자(logical operator)"
   ]
  },
  {
   "cell_type": "markdown",
   "id": "c3c60b07",
   "metadata": {},
   "source": [
    "><small>* 논리곱(and), 논리합(or), 논리부정(not)<br>* 논리 연산의 대상은 True 또는 False. 결과도 True 또는 False</small>"
   ]
  },
  {
   "cell_type": "code",
   "execution_count": 12,
   "id": "052899e0",
   "metadata": {},
   "outputs": [
    {
     "data": {
      "text/plain": [
       "True"
      ]
     },
     "execution_count": 12,
     "metadata": {},
     "output_type": "execute_result"
    }
   ],
   "source": [
    "exam = 85\n",
    "report = 85\n",
    "exam >= 80 and report >= 80"
   ]
  },
  {
   "cell_type": "code",
   "execution_count": 13,
   "id": "0e276492",
   "metadata": {},
   "outputs": [
    {
     "data": {
      "text/plain": [
       "False"
      ]
     },
     "execution_count": 13,
     "metadata": {},
     "output_type": "execute_result"
    }
   ],
   "source": [
    "exam >= 90 or report >= 90"
   ]
  },
  {
   "cell_type": "code",
   "execution_count": 14,
   "id": "4db7b982",
   "metadata": {},
   "outputs": [
    {
     "data": {
      "text/plain": [
       "False"
      ]
     },
     "execution_count": 14,
     "metadata": {},
     "output_type": "execute_result"
    }
   ],
   "source": [
    "not(exam < 90)"
   ]
  },
  {
   "cell_type": "markdown",
   "id": "fb324c84",
   "metadata": {},
   "source": [
    "멤버 연산자(membership operator)"
   ]
  },
  {
   "cell_type": "markdown",
   "id": "9426a2c7",
   "metadata": {},
   "source": [
    "><small>* in<Br>* 특정 문자열 또는 값이 문자열 또는 리스트(반복객체)에 속해 있는지 판별하는 연산자</small>"
   ]
  },
  {
   "cell_type": "code",
   "execution_count": 15,
   "id": "40eef36c",
   "metadata": {},
   "outputs": [
    {
     "data": {
      "text/plain": [
       "True"
      ]
     },
     "execution_count": 15,
     "metadata": {},
     "output_type": "execute_result"
    }
   ],
   "source": [
    "'py' in 'python'"
   ]
  },
  {
   "cell_type": "code",
   "execution_count": 16,
   "id": "3f61dc9d",
   "metadata": {},
   "outputs": [
    {
     "data": {
      "text/plain": [
       "True"
      ]
     },
     "execution_count": 16,
     "metadata": {},
     "output_type": "execute_result"
    }
   ],
   "source": [
    "'ty' not in 'python'"
   ]
  },
  {
   "cell_type": "markdown",
   "id": "81784862",
   "metadata": {},
   "source": [
    "식별 연산자(identity operator)"
   ]
  },
  {
   "cell_type": "markdown",
   "id": "6346cf2c",
   "metadata": {},
   "source": [
    "><small>* is : 양쪽 변수의 주소가 같은지 판단. if id(a) == id(b)<br>* is not : 양쪽 변수의 주소가 다른지 판단. if id(a) != id(b)</small>"
   ]
  },
  {
   "cell_type": "code",
   "execution_count": null,
   "id": "3d1a04da",
   "metadata": {},
   "outputs": [],
   "source": [
    "a = 2\n",
    "b = 2"
   ]
  },
  {
   "cell_type": "code",
   "execution_count": 18,
   "id": "c9fd190b",
   "metadata": {},
   "outputs": [
    {
     "data": {
      "text/plain": [
       "140705257386952"
      ]
     },
     "execution_count": 18,
     "metadata": {},
     "output_type": "execute_result"
    }
   ],
   "source": [
    "id(a)\n",
    "id(b)"
   ]
  },
  {
   "cell_type": "code",
   "execution_count": 19,
   "id": "8943e196",
   "metadata": {},
   "outputs": [
    {
     "data": {
      "text/plain": [
       "True"
      ]
     },
     "execution_count": 19,
     "metadata": {},
     "output_type": "execute_result"
    }
   ],
   "source": [
    "id(a) == id(b)"
   ]
  },
  {
   "cell_type": "code",
   "execution_count": 20,
   "id": "4c2dac67",
   "metadata": {},
   "outputs": [
    {
     "data": {
      "text/plain": [
       "True"
      ]
     },
     "execution_count": 20,
     "metadata": {},
     "output_type": "execute_result"
    }
   ],
   "source": [
    "a is b"
   ]
  },
  {
   "cell_type": "code",
   "execution_count": 21,
   "id": "443e1f93",
   "metadata": {},
   "outputs": [
    {
     "data": {
      "text/plain": [
       "False"
      ]
     },
     "execution_count": 21,
     "metadata": {},
     "output_type": "execute_result"
    }
   ],
   "source": [
    "a is not b"
   ]
  },
  {
   "cell_type": "markdown",
   "id": "82a8a78d",
   "metadata": {},
   "source": [
    "타입 에러(type error)"
   ]
  },
  {
   "cell_type": "markdown",
   "id": "a9d0da9a",
   "metadata": {},
   "source": [
    "><small>연산할 수 없는 자료형을 연산하면 타입 에러 발생</small>"
   ]
  },
  {
   "cell_type": "code",
   "execution_count": 22,
   "id": "6bb23b84",
   "metadata": {},
   "outputs": [
    {
     "ename": "TypeError",
     "evalue": "can only concatenate str (not \"int\") to str",
     "output_type": "error",
     "traceback": [
      "\u001b[31m---------------------------------------------------------------------------\u001b[39m",
      "\u001b[31mTypeError\u001b[39m                                 Traceback (most recent call last)",
      "\u001b[36mCell\u001b[39m\u001b[36m \u001b[39m\u001b[32mIn[22]\u001b[39m\u001b[32m, line 2\u001b[39m\n\u001b[32m      1\u001b[39m age = \u001b[32m23\u001b[39m\n\u001b[32m----> \u001b[39m\u001b[32m2\u001b[39m message = \u001b[33;43m\"\u001b[39;49m\u001b[33;43mHappy\u001b[39;49m\u001b[33;43m\"\u001b[39;49m\u001b[43m \u001b[49m\u001b[43m+\u001b[49m\u001b[43m \u001b[49m\u001b[43mage\u001b[49m + \u001b[33m\"\u001b[39m\u001b[33mrd Birthday!\u001b[39m\u001b[33m\"\u001b[39m\n\u001b[32m      3\u001b[39m \u001b[38;5;28mprint\u001b[39m(message)\n",
      "\u001b[31mTypeError\u001b[39m: can only concatenate str (not \"int\") to str"
     ]
    }
   ],
   "source": [
    "age = 23\n",
    "message = \"Happy\" + age + \"rd Birthday!\"\n",
    "print(message)"
   ]
  },
  {
   "cell_type": "markdown",
   "id": "394884ab",
   "metadata": {},
   "source": [
    "><small>1. 에러 발생 위치<br>2. 에러 내용; int 형을 암시적으로 문자열로 변환할 수 없음</small>"
   ]
  }
 ],
 "metadata": {
  "kernelspec": {
   "display_name": "Python 3",
   "language": "python",
   "name": "python3"
  },
  "language_info": {
   "codemirror_mode": {
    "name": "ipython",
    "version": 3
   },
   "file_extension": ".py",
   "mimetype": "text/x-python",
   "name": "python",
   "nbconvert_exporter": "python",
   "pygments_lexer": "ipython3",
   "version": "3.13.7"
  }
 },
 "nbformat": 4,
 "nbformat_minor": 5
}
