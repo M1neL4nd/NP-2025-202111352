{
 "cells": [
  {
   "cell_type": "markdown",
   "id": "5121b2f9",
   "metadata": {},
   "source": [
    "## 이름 : 정승희 학번 : 202111352"
   ]
  },
  {
   "cell_type": "markdown",
   "id": "c15c8f61",
   "metadata": {},
   "source": [
    "부울형(Boolean)"
   ]
  },
  {
   "cell_type": "markdown",
   "id": "bdc7db31",
   "metadata": {},
   "source": [
    "><small>* 참(True) 또는 거짓(False) 중 하나의 값을 갖는 자료형(True, False)\n",
    "<br>* 비교 결과를 저장할 때 사용</small>"
   ]
  },
  {
   "cell_type": "code",
   "execution_count": 1,
   "id": "6a57935b",
   "metadata": {},
   "outputs": [
    {
     "data": {
      "text/plain": [
       "bool"
      ]
     },
     "execution_count": 1,
     "metadata": {},
     "output_type": "execute_result"
    }
   ],
   "source": [
    "aVar = True\n",
    "bVar = False\n",
    "type(aVar)"
   ]
  },
  {
   "cell_type": "code",
   "execution_count": 2,
   "id": "53fc7c68",
   "metadata": {},
   "outputs": [
    {
     "data": {
      "text/plain": [
       "False"
      ]
     },
     "execution_count": 2,
     "metadata": {},
     "output_type": "execute_result"
    }
   ],
   "source": [
    "a = 1\n",
    "b = 2\n",
    "c = a > b\n",
    "c"
   ]
  },
  {
   "cell_type": "code",
   "execution_count": 3,
   "id": "f8ac77c8",
   "metadata": {},
   "outputs": [
    {
     "data": {
      "text/plain": [
       "True"
      ]
     },
     "execution_count": 3,
     "metadata": {},
     "output_type": "execute_result"
    }
   ],
   "source": [
    "d = a < b\n",
    "d"
   ]
  },
  {
   "cell_type": "markdown",
   "id": "0cbcd879",
   "metadata": {},
   "source": [
    "정수(integer)형"
   ]
  },
  {
   "cell_type": "markdown",
   "id": "aaa72649",
   "metadata": {},
   "source": [
    "><small>소수점 없는 숫자 표현</small>"
   ]
  },
  {
   "cell_type": "code",
   "execution_count": 4,
   "id": "1e3d6f04",
   "metadata": {},
   "outputs": [
    {
     "data": {
      "text/plain": [
       "int"
      ]
     },
     "execution_count": 4,
     "metadata": {},
     "output_type": "execute_result"
    }
   ],
   "source": [
    "intVar = 5\n",
    "type(intVar)"
   ]
  },
  {
   "cell_type": "markdown",
   "id": "87f6f337",
   "metadata": {},
   "source": [
    "><small>여러 가지 정수 표현</small>"
   ]
  },
  {
   "cell_type": "code",
   "execution_count": null,
   "id": "1988cfcb",
   "metadata": {},
   "outputs": [],
   "source": [
    "1, 23, 3493 # 10진수\n",
    "0b010101, 0b110010 # 2진수\n",
    "0o1, 0o27, 0o6645 # 8진수\n",
    "0x1, 0x17, 0xDA5 # 16진수"
   ]
  },
  {
   "cell_type": "markdown",
   "id": "0a2ab784",
   "metadata": {},
   "source": [
    "실수(float)형"
   ]
  },
  {
   "cell_type": "code",
   "execution_count": 10,
   "id": "a5419177",
   "metadata": {},
   "outputs": [
    {
     "data": {
      "text/plain": [
       "float"
      ]
     },
     "execution_count": 10,
     "metadata": {},
     "output_type": "execute_result"
    }
   ],
   "source": [
    "fVar = 1.0\n",
    "type(fVar)\n",
    "\n",
    "#여러 가지 실수 표현\n",
    "#0., 0.0, .0, 1., 1.0, 1e0, 1.e0, 1.0e2"
   ]
  },
  {
   "cell_type": "markdown",
   "id": "d51e5ae1",
   "metadata": {},
   "source": [
    "쉽게 식별할 수 있도록 _를 사용한 숫자의 표현(파이썬 3.6부터 적용)"
   ]
  },
  {
   "cell_type": "code",
   "execution_count": 11,
   "id": "c1004ea5",
   "metadata": {},
   "outputs": [
    {
     "data": {
      "text/plain": [
       "0.001027"
      ]
     },
     "execution_count": 11,
     "metadata": {},
     "output_type": "execute_result"
    }
   ],
   "source": [
    "100_000.000_0001, 0x_FF_FF, 0o7_777, 0b_1010_1010\n",
    "(100000.0000001, 65535, 4095, 170)\n",
    "0.00_10_27"
   ]
  },
  {
   "cell_type": "markdown",
   "id": "4fc303c6",
   "metadata": {},
   "source": [
    "문자열(string)"
   ]
  },
  {
   "cell_type": "markdown",
   "id": "1c05bf03",
   "metadata": {},
   "source": [
    "><small>* 나열된 문자들<br>* ' ' 또는 \" \"로 둘러 쌈</small>"
   ]
  },
  {
   "cell_type": "code",
   "execution_count": 12,
   "id": "5e340435",
   "metadata": {},
   "outputs": [
    {
     "data": {
      "text/plain": [
       "str"
      ]
     },
     "execution_count": 12,
     "metadata": {},
     "output_type": "execute_result"
    }
   ],
   "source": [
    "strVar = \"test\"\n",
    "type(strVar)"
   ]
  },
  {
   "cell_type": "code",
   "execution_count": null,
   "id": "2d3377b8",
   "metadata": {},
   "outputs": [],
   "source": [
    "'This is a literal string'\n",
    "\"This is another string\"\n",
    "\n",
    "\"I'm a Python fanatic\" # \"\"속에 작은 따옴표를 사용할 경우\n",
    "'I\"m a Pyton fanatic' #\"' 속에 큰 따옴표를 사용할 경우\n",
    "\n",
    "'A not very long string \\ that spans two lines'\n",
    "#문장을 두줄 이상으로 표시할 경우"
   ]
  }
 ],
 "metadata": {
  "kernelspec": {
   "display_name": "Python 3",
   "language": "python",
   "name": "python3"
  },
  "language_info": {
   "codemirror_mode": {
    "name": "ipython",
    "version": 3
   },
   "file_extension": ".py",
   "mimetype": "text/x-python",
   "name": "python",
   "nbconvert_exporter": "python",
   "pygments_lexer": "ipython3",
   "version": "3.13.7"
  }
 },
 "nbformat": 4,
 "nbformat_minor": 5
}
