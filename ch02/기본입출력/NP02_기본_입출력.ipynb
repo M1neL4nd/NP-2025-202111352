{
 "cells": [
  {
   "cell_type": "markdown",
   "id": "a7d1c5f8",
   "metadata": {},
   "source": [
    "## 이름 : 정승희 학번 : 202111352"
   ]
  },
  {
   "cell_type": "markdown",
   "id": "7de846b4",
   "metadata": {},
   "source": [
    "print() 함수"
   ]
  },
  {
   "cell_type": "markdown",
   "id": "7dfcd12e",
   "metadata": {},
   "source": [
    "><small>숫자나 문자열 등의 데이터나 수식을 화면에 출력할 때 사용</small>"
   ]
  },
  {
   "cell_type": "code",
   "execution_count": 4,
   "id": "dc8a710f",
   "metadata": {},
   "outputs": [
    {
     "name": "stdout",
     "output_type": "stream",
     "text": [
      "30\n"
     ]
    }
   ],
   "source": [
    "print(10+20) #() 속의 연산 결과 출력"
   ]
  },
  {
   "cell_type": "code",
   "execution_count": 5,
   "id": "b122af90",
   "metadata": {},
   "outputs": [
    {
     "name": "stdout",
     "output_type": "stream",
     "text": [
      "서원대학교\n"
     ]
    }
   ],
   "source": [
    "print(\"서원대학교\") #문자열 출력"
   ]
  },
  {
   "cell_type": "code",
   "execution_count": 7,
   "id": "be51fec8",
   "metadata": {},
   "outputs": [
    {
     "name": "stdout",
     "output_type": "stream",
     "text": [
      "abc abc abc \n"
     ]
    }
   ],
   "source": [
    "print(\"abc \" * 3) #문자열 3번 출력"
   ]
  },
  {
   "cell_type": "code",
   "execution_count": 8,
   "id": "ff431fea",
   "metadata": {},
   "outputs": [
    {
     "name": "stdout",
     "output_type": "stream",
     "text": [
      "25 32\n"
     ]
    }
   ],
   "source": [
    "x = 25\n",
    "y = 32\n",
    "z = x + y\n",
    "print(x, y) #변수 x, y 값 출력"
   ]
  },
  {
   "cell_type": "code",
   "execution_count": 9,
   "id": "5ac79754",
   "metadata": {},
   "outputs": [
    {
     "name": "stdout",
     "output_type": "stream",
     "text": [
      "25 + 32 = 57\n"
     ]
    }
   ],
   "source": [
    "print(x, '+', y, '=', z) #문자열과 변수의 조합 출력"
   ]
  },
  {
   "cell_type": "markdown",
   "id": "65623e29",
   "metadata": {},
   "source": [
    "print() 함수-서식 지정"
   ]
  },
  {
   "cell_type": "markdown",
   "id": "c443dc7b",
   "metadata": {},
   "source": [
    "><small>숫자나 문자열 등의 데이터를 서식을 지정하여 화면에 출력할 때 사용</small>"
   ]
  },
  {
   "cell_type": "code",
   "execution_count": 10,
   "id": "3da34032",
   "metadata": {},
   "outputs": [
    {
     "name": "stdout",
     "output_type": "stream",
     "text": [
      "30\n"
     ]
    }
   ],
   "source": [
    "print(10+20)"
   ]
  },
  {
   "cell_type": "code",
   "execution_count": 11,
   "id": "a387d3b7",
   "metadata": {},
   "outputs": [
    {
     "name": "stdout",
     "output_type": "stream",
     "text": [
      "1020\n"
     ]
    }
   ],
   "source": [
    "print(\"10\"+\"20\")"
   ]
  },
  {
   "cell_type": "code",
   "execution_count": 12,
   "id": "5ff12506",
   "metadata": {},
   "outputs": [
    {
     "name": "stdout",
     "output_type": "stream",
     "text": [
      "abc abc abc \n"
     ]
    }
   ],
   "source": [
    "print(\"abc \" * 3)"
   ]
  },
  {
   "cell_type": "code",
   "execution_count": 13,
   "id": "2674fcea",
   "metadata": {},
   "outputs": [
    {
     "name": "stdout",
     "output_type": "stream",
     "text": [
      "n = 10\n"
     ]
    }
   ],
   "source": [
    "n = 10\n",
    "print(\"n = %d\" %n)"
   ]
  },
  {
   "cell_type": "code",
   "execution_count": 14,
   "id": "92d0586c",
   "metadata": {},
   "outputs": [
    {
     "name": "stdout",
     "output_type": "stream",
     "text": [
      "m = 5.2, n = 10\n"
     ]
    }
   ],
   "source": [
    "m = 5.2\n",
    "print(\"m = %.1f, n = %d\" % (m, n))"
   ]
  },
  {
   "cell_type": "markdown",
   "id": "a0066adf",
   "metadata": {},
   "source": [
    "input() 함수"
   ]
  },
  {
   "cell_type": "markdown",
   "id": "ee9d5364",
   "metadata": {},
   "source": [
    "><small>* 키보드를 이용하여 숫자나 문자열 등의 데이터를 입력받을 때 사용</small>\n",
    "<br><small>* 입력된 정보는 문자열</small>"
   ]
  },
  {
   "cell_type": "code",
   "execution_count": 17,
   "id": "2f28f045",
   "metadata": {},
   "outputs": [],
   "source": [
    "n = input('type a number : ')"
   ]
  },
  {
   "cell_type": "code",
   "execution_count": 18,
   "id": "9997ad52",
   "metadata": {},
   "outputs": [
    {
     "data": {
      "text/plain": [
       "'3'"
      ]
     },
     "execution_count": 18,
     "metadata": {},
     "output_type": "execute_result"
    }
   ],
   "source": [
    "n #문자열로 입력된다"
   ]
  },
  {
   "cell_type": "code",
   "execution_count": 19,
   "id": "c11a3913",
   "metadata": {},
   "outputs": [
    {
     "data": {
      "text/plain": [
       "3"
      ]
     },
     "execution_count": 19,
     "metadata": {},
     "output_type": "execute_result"
    }
   ],
   "source": [
    "int(n) #문자열로 정수로 변환"
   ]
  },
  {
   "cell_type": "code",
   "execution_count": 20,
   "id": "c0da7353",
   "metadata": {},
   "outputs": [
    {
     "data": {
      "text/plain": [
       "3.0"
      ]
     },
     "execution_count": 20,
     "metadata": {},
     "output_type": "execute_result"
    }
   ],
   "source": [
    "float(n) #문자열을 실수형으로 변환"
   ]
  },
  {
   "cell_type": "code",
   "execution_count": 21,
   "id": "4697b619",
   "metadata": {},
   "outputs": [],
   "source": [
    "n = str(3) #정수를 문자열로 변환"
   ]
  },
  {
   "cell_type": "code",
   "execution_count": 22,
   "id": "48292a2f",
   "metadata": {},
   "outputs": [
    {
     "data": {
      "text/plain": [
       "'3'"
      ]
     },
     "execution_count": 22,
     "metadata": {},
     "output_type": "execute_result"
    }
   ],
   "source": [
    "n"
   ]
  },
  {
   "cell_type": "markdown",
   "id": "78641a28",
   "metadata": {},
   "source": [
    "입출력 함수의 사용 예"
   ]
  },
  {
   "cell_type": "markdown",
   "id": "ea990d3e",
   "metadata": {},
   "source": [
    "><small>문자열을 입력 받아 다른 문자열과 결합하여 출력</small>"
   ]
  },
  {
   "cell_type": "code",
   "execution_count": 24,
   "id": "52004a3b",
   "metadata": {},
   "outputs": [
    {
     "name": "stdout",
     "output_type": "stream",
     "text": [
      "Hello,정승희\n"
     ]
    }
   ],
   "source": [
    "name = input('Name: ')\n",
    "print(\"Hello,\" + name)"
   ]
  },
  {
   "cell_type": "markdown",
   "id": "e1797c6b",
   "metadata": {},
   "source": [
    "><small>두 정수를 입력 받아 곱셈 결과 출력</small>"
   ]
  },
  {
   "cell_type": "code",
   "execution_count": 25,
   "id": "2c8a1c86",
   "metadata": {},
   "outputs": [
    {
     "name": "stdout",
     "output_type": "stream",
     "text": [
      "3\n"
     ]
    }
   ],
   "source": [
    "a = int(input('Number 1: '))\n",
    "b = int(input('Number 2: '))\n",
    "print(a * b)"
   ]
  },
  {
   "cell_type": "markdown",
   "id": "6248af04",
   "metadata": {},
   "source": [
    "><small>섭씨온도(C)를 입력 받아 화씨온도(F)로 바꾸어 출력</small>"
   ]
  },
  {
   "cell_type": "code",
   "execution_count": 26,
   "id": "72988699",
   "metadata": {},
   "outputs": [
    {
     "name": "stdout",
     "output_type": "stream",
     "text": [
      "화씨온도는 86.0\n"
     ]
    }
   ],
   "source": [
    "C = float(input(\"Type 섭씨온도 : \"))\n",
    "F = C * 9/5 + 32 #온도 변환\n",
    "print(\"화씨온도는\", F)"
   ]
  }
 ],
 "metadata": {
  "kernelspec": {
   "display_name": "Python 3",
   "language": "python",
   "name": "python3"
  },
  "language_info": {
   "codemirror_mode": {
    "name": "ipython",
    "version": 3
   },
   "file_extension": ".py",
   "mimetype": "text/x-python",
   "name": "python",
   "nbconvert_exporter": "python",
   "pygments_lexer": "ipython3",
   "version": "3.13.7"
  }
 },
 "nbformat": 4,
 "nbformat_minor": 5
}
