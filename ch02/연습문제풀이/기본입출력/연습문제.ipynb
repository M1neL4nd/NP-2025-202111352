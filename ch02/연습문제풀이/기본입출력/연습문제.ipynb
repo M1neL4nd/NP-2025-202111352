{
 "cells": [
  {
   "cell_type": "markdown",
   "id": "96354ac5",
   "metadata": {},
   "source": [
    "## 이름 : 정승희 학번 : 202111352"
   ]
  },
  {
   "cell_type": "markdown",
   "id": "d6ba2e65",
   "metadata": {},
   "source": [
    "연습문제 1"
   ]
  },
  {
   "cell_type": "markdown",
   "id": "595d17d0",
   "metadata": {},
   "source": [
    "><small>1. 키보드에서 임의의 두 실수를 입력 받아 곱한 후 그 결과를 출력하는 프로그램을 작성하고 실행하라</small>"
   ]
  },
  {
   "cell_type": "code",
   "execution_count": 1,
   "id": "0cb150cd",
   "metadata": {},
   "outputs": [
    {
     "name": "stdout",
     "output_type": "stream",
     "text": [
      "12.0\n"
     ]
    }
   ],
   "source": [
    "x = float(input('type the first number : '))\n",
    "y = float(input('type the second number : '))\n",
    "print(x * y)"
   ]
  },
  {
   "cell_type": "markdown",
   "id": "3be0f47f",
   "metadata": {},
   "source": [
    "><small>2. 1마일은 1.609km이다. 키보드에서 마일(정수)을 입력 받아 km로 변환해 출력하는 프로그램을 작성하고 실행하라</small>"
   ]
  },
  {
   "cell_type": "code",
   "execution_count": 3,
   "id": "f76f7ef4",
   "metadata": {},
   "outputs": [
    {
     "name": "stdout",
     "output_type": "stream",
     "text": [
      "4.827 km 입니다\n"
     ]
    }
   ],
   "source": [
    "a = float(input('몇 마일인지 입력하세요 : '))\n",
    "print(a * 1.609, \"km 입니다\")"
   ]
  },
  {
   "cell_type": "markdown",
   "id": "3ae6fae2",
   "metadata": {},
   "source": [
    "><small>3. 원의 반지름을 입력 받아 원의 둘레와 원의 면적을 출력하는 프로그램을 작성하라</small>"
   ]
  },
  {
   "cell_type": "code",
   "execution_count": 8,
   "id": "dd859bc7",
   "metadata": {},
   "outputs": [
    {
     "name": "stdout",
     "output_type": "stream",
     "text": [
      "원의 둘레는 a 31.400000000000002\n",
      "원의 면적은 b 78.5\n"
     ]
    }
   ],
   "source": [
    "c = int(input('원의 반지름을 입력하시오 : '))\n",
    "print(\"원의 둘레는 a\", 2 * 3.14 * c)\n",
    "print(\"원의 면적은 b\", c ** 2 * 3.14)"
   ]
  }
 ],
 "metadata": {
  "kernelspec": {
   "display_name": "Python 3",
   "language": "python",
   "name": "python3"
  },
  "language_info": {
   "codemirror_mode": {
    "name": "ipython",
    "version": 3
   },
   "file_extension": ".py",
   "mimetype": "text/x-python",
   "name": "python",
   "nbconvert_exporter": "python",
   "pygments_lexer": "ipython3",
   "version": "3.13.7"
  }
 },
 "nbformat": 4,
 "nbformat_minor": 5
}
