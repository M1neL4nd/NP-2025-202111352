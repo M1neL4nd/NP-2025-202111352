{
 "cells": [
  {
   "cell_type": "markdown",
   "id": "1188956d",
   "metadata": {},
   "source": [
    "## 이름 : 정승희 학번 : 202111352"
   ]
  },
  {
   "cell_type": "markdown",
   "id": "6ed63fc1",
   "metadata": {},
   "source": [
    "산술 및 관계 연산자 연습문제"
   ]
  },
  {
   "cell_type": "markdown",
   "id": "313b5150",
   "metadata": {},
   "source": [
    "><small>1. 5와 3을 더한 값을 출력하는 프로그램을 작성하라.</small>"
   ]
  },
  {
   "cell_type": "code",
   "execution_count": 10,
   "id": "a1f6b0ac",
   "metadata": {},
   "outputs": [
    {
     "name": "stdout",
     "output_type": "stream",
     "text": [
      "8\n"
     ]
    }
   ],
   "source": [
    "a = 5 + 3\n",
    "print(a)"
   ]
  },
  {
   "cell_type": "markdown",
   "id": "722db5f6",
   "metadata": {},
   "source": [
    "><small>2. 7에서 3을 뺀 값을 출력하는 프로그램을 작성하라.</small>"
   ]
  },
  {
   "cell_type": "code",
   "execution_count": 11,
   "id": "6dc96242",
   "metadata": {},
   "outputs": [
    {
     "name": "stdout",
     "output_type": "stream",
     "text": [
      "4\n"
     ]
    }
   ],
   "source": [
    "a = 7 - 3\n",
    "print(a)"
   ]
  },
  {
   "cell_type": "markdown",
   "id": "62703ab4",
   "metadata": {},
   "source": [
    "><small>3. 4를 2로 나눈 값을 출력하는 프로그램을 작성하라.</small>"
   ]
  },
  {
   "cell_type": "code",
   "execution_count": 12,
   "id": "a2a05360",
   "metadata": {},
   "outputs": [
    {
     "name": "stdout",
     "output_type": "stream",
     "text": [
      "2.0\n"
     ]
    }
   ],
   "source": [
    "a = 4 / 2\n",
    "print(a)"
   ]
  },
  {
   "cell_type": "markdown",
   "id": "e198a1ba",
   "metadata": {},
   "source": [
    "><small>4. 8을 3으로 나눈 몫과 나머지를 출력하는 프로그램을 작성하라.</small>"
   ]
  },
  {
   "cell_type": "code",
   "execution_count": 13,
   "id": "22fcdfdb",
   "metadata": {},
   "outputs": [
    {
     "name": "stdout",
     "output_type": "stream",
     "text": [
      "몫은 2 나머지는 2\n"
     ]
    }
   ],
   "source": [
    "a = 8 // 3\n",
    "b = 8 % 3\n",
    "print(\"몫은\", a, \"나머지는\", b)"
   ]
  },
  {
   "cell_type": "markdown",
   "id": "8a0c8e7c",
   "metadata": {},
   "source": [
    "><small>5. 2의 5제곱을 출력하는 프로그램을 작성하라.</small>"
   ]
  },
  {
   "cell_type": "code",
   "execution_count": 14,
   "id": "e83d18e9",
   "metadata": {},
   "outputs": [
    {
     "name": "stdout",
     "output_type": "stream",
     "text": [
      "32\n"
     ]
    }
   ],
   "source": [
    "a = 2 * 2 * 2 * 2 * 2\n",
    "print(a)"
   ]
  },
  {
   "cell_type": "markdown",
   "id": "87454a0e",
   "metadata": {},
   "source": [
    "><small>6. 입력된 정수가 10보다 크고 20보다 작은지 검사하는 프로그램을 작성하라.</small>"
   ]
  },
  {
   "cell_type": "code",
   "execution_count": 19,
   "id": "6faf2751",
   "metadata": {},
   "outputs": [
    {
     "name": "stdout",
     "output_type": "stream",
     "text": [
      "True\n"
     ]
    }
   ],
   "source": [
    "a = int(input('정수를 입력하시오 : '))\n",
    "print(10 < a < 20)"
   ]
  },
  {
   "cell_type": "markdown",
   "id": "473ee2e0",
   "metadata": {},
   "source": [
    "><small>7. 문자열 \"hello\"와 문자열 \"world\"를 이어 붙인 결과를 출력하는 프로그램을 작성하라.</small>"
   ]
  },
  {
   "cell_type": "code",
   "execution_count": 21,
   "id": "3c1927d0",
   "metadata": {},
   "outputs": [
    {
     "name": "stdout",
     "output_type": "stream",
     "text": [
      "helloworld\n"
     ]
    }
   ],
   "source": [
    "print(\"hello\" + \"world\")"
   ]
  },
  {
   "cell_type": "markdown",
   "id": "8eadd414",
   "metadata": {},
   "source": [
    "><small>8. 7을 2로 나눈 결과가 3보다 작은지 검사하는 프로그램을 작성하라.</small>"
   ]
  },
  {
   "cell_type": "code",
   "execution_count": 26,
   "id": "35686c83",
   "metadata": {},
   "outputs": [
    {
     "name": "stdout",
     "output_type": "stream",
     "text": [
      "False\n"
     ]
    }
   ],
   "source": [
    "a = 7 // 2\n",
    "print(a < 3)"
   ]
  },
  {
   "cell_type": "markdown",
   "id": "a9262b43",
   "metadata": {},
   "source": [
    "><small>9. 변수 x의 값이 5와 같지 않은지 검사하는 프로그램을 작성하라.</small>"
   ]
  },
  {
   "cell_type": "code",
   "execution_count": null,
   "id": "3c8f5f08",
   "metadata": {},
   "outputs": [],
   "source": [
    "print(x != 5)"
   ]
  },
  {
   "cell_type": "markdown",
   "id": "57c2b089",
   "metadata": {},
   "source": [
    "><small>10. 변수 y의 값이 10에서 20 사이의 값인지 검사하는 프로그램을 작성하라.</small>"
   ]
  },
  {
   "cell_type": "code",
   "execution_count": null,
   "id": "e0a3d534",
   "metadata": {},
   "outputs": [],
   "source": [
    "print(10 < y < 20)"
   ]
  },
  {
   "cell_type": "markdown",
   "id": "df74b287",
   "metadata": {},
   "source": [
    "논리 연산자 연습문제"
   ]
  },
  {
   "cell_type": "markdown",
   "id": "b0634bbb",
   "metadata": {},
   "source": [
    "><small>1. 5가 3보다 크고 7보다 작은지 검사하는 프로그램을 작성하라.</small>"
   ]
  },
  {
   "cell_type": "code",
   "execution_count": null,
   "id": "882e31c6",
   "metadata": {},
   "outputs": [],
   "source": [
    "print(a > 3 and a < 7)"
   ]
  },
  {
   "cell_type": "markdown",
   "id": "21322985",
   "metadata": {},
   "source": [
    "><small>2. 변수 x가 10 이상이고 20 이하인지 검사하는 프로그램을 작성하라.</small>"
   ]
  },
  {
   "cell_type": "code",
   "execution_count": null,
   "id": "7db66fc5",
   "metadata": {},
   "outputs": [],
   "source": [
    "print(a >= 10 and a <= 20)"
   ]
  },
  {
   "cell_type": "markdown",
   "id": "3dc69a3b",
   "metadata": {},
   "source": [
    "><small>3. 변수 y가 5의 배수이거나 7의 배수인지 검사하는 프로그램을 작성하라.</small>"
   ]
  },
  {
   "cell_type": "code",
   "execution_count": null,
   "id": "20fdee88",
   "metadata": {},
   "outputs": [],
   "source": [
    "print(y % 5 == 0 or y % 7 == 0)"
   ]
  },
  {
   "cell_type": "markdown",
   "id": "7ebfff0f",
   "metadata": {},
   "source": [
    "><small>4. 변수 z가 양수이면서 짝수인지 검사하는 프로그램을 작성하라.</small>"
   ]
  },
  {
   "cell_type": "code",
   "execution_count": null,
   "id": "aa2347c6",
   "metadata": {},
   "outputs": [],
   "source": [
    "print(z > 0 and z % 2 == 0)"
   ]
  },
  {
   "cell_type": "markdown",
   "id": "6cd92758",
   "metadata": {},
   "source": [
    "><small>5. 변수 a가 문자열 \"hello\" 나 문자열 \"world\" 중 하나인지 검사하는 프로그램을 작성하라.</small>"
   ]
  },
  {
   "cell_type": "code",
   "execution_count": null,
   "id": "c795f664",
   "metadata": {},
   "outputs": [],
   "source": [
    "print(a == \"hello\" or a == \"world\")"
   ]
  },
  {
   "cell_type": "markdown",
   "id": "8c387115",
   "metadata": {},
   "source": [
    "멤버 연산자 연습문제"
   ]
  },
  {
   "cell_type": "markdown",
   "id": "703dac3a",
   "metadata": {},
   "source": [
    "><small>1. 숫자 7이 리스트 [1, 2, 3, 4, 5]에 포합되어 있는지 검사하는 프로그램을 작성하라.</small>"
   ]
  },
  {
   "cell_type": "code",
   "execution_count": 48,
   "id": "8cb8d19a",
   "metadata": {},
   "outputs": [
    {
     "name": "stdout",
     "output_type": "stream",
     "text": [
      "False\n"
     ]
    }
   ],
   "source": [
    "print(7 in [1, 2, 3, 4, 5])"
   ]
  },
  {
   "cell_type": "markdown",
   "id": "f4dc6a79",
   "metadata": {},
   "source": [
    "><small>2. 문자열 \"apple\"이 세트 {\"orange\", \"banana\", \"kiwi\"}에 포함되어 있는지 검사하는 프로그램을 작성하라.</small>"
   ]
  },
  {
   "cell_type": "code",
   "execution_count": 49,
   "id": "8465796b",
   "metadata": {},
   "outputs": [
    {
     "name": "stdout",
     "output_type": "stream",
     "text": [
      "False\n"
     ]
    }
   ],
   "source": [
    "print(\"apple\" in [\"orange\", \"banana\", \"kiwi\"])"
   ]
  },
  {
   "cell_type": "markdown",
   "id": "cfa237f6",
   "metadata": {},
   "source": [
    "><small>3. 숫자 6이 딕셔너리 {\"a\" : 1, \"b\" : 2, \"c\" : 3, \"d\" : 4}의 값들 중 하나인지 검사하는 프로그램을 작성하라.</small>"
   ]
  },
  {
   "cell_type": "code",
   "execution_count": 52,
   "id": "4f5f19ef",
   "metadata": {},
   "outputs": [
    {
     "name": "stdout",
     "output_type": "stream",
     "text": [
      "False\n"
     ]
    }
   ],
   "source": [
    "data = {\"a\" : 1, \"b\" : 2, \"c\" : 3, \"d\" : 4}\n",
    "print(6 in data.values())"
   ]
  },
  {
   "cell_type": "markdown",
   "id": "d8aba92a",
   "metadata": {},
   "source": [
    "><small>4. 문자열 \"cat\"이 튜플 (\"dog\", \"cat\", \"bird\", \"hamster\")에 포합되어 있는지 검사하는 프로그램을 작성하라,</small>"
   ]
  },
  {
   "cell_type": "code",
   "execution_count": 54,
   "id": "9e0b0577",
   "metadata": {},
   "outputs": [
    {
     "name": "stdout",
     "output_type": "stream",
     "text": [
      "True\n"
     ]
    }
   ],
   "source": [
    "a = (\"dog\", \"cat\", \"bird\", \"hamster\")\n",
    "print(\"cat\" in a)"
   ]
  },
  {
   "cell_type": "markdown",
   "id": "4a838503",
   "metadata": {},
   "source": [
    "><small>5. 숫자 10이 세트 {2, 4, 6, 8, 10}에 포함되어 있는지 검사하는 프로그램을 작성하라.</small>"
   ]
  },
  {
   "cell_type": "code",
   "execution_count": 55,
   "id": "ec5fb55b",
   "metadata": {},
   "outputs": [
    {
     "name": "stdout",
     "output_type": "stream",
     "text": [
      "True\n"
     ]
    }
   ],
   "source": [
    "n = {2, 4, 6, 8, 10}\n",
    "print(10 in n)"
   ]
  },
  {
   "cell_type": "markdown",
   "id": "2a7d3b8a",
   "metadata": {},
   "source": [
    "연습문제 2"
   ]
  },
  {
   "cell_type": "markdown",
   "id": "9bdd6877",
   "metadata": {},
   "source": [
    "><small>1. 초를 입력하면 분과 초로 표시하는 프로그램. 예를들어, 200초를 입력하면 3분 20초로 표현하라</small>"
   ]
  },
  {
   "cell_type": "code",
   "execution_count": 61,
   "id": "00f3f4bf",
   "metadata": {},
   "outputs": [
    {
     "name": "stdout",
     "output_type": "stream",
     "text": [
      "5000 초는  83 분 20 초 입니다.\n"
     ]
    }
   ],
   "source": [
    "a = int(input(\"몇 초인지 입력하시오 : \"))\n",
    "print(a, \"초는 \", a  // 60, \"분\", a % 60, \"초 입니다.\")"
   ]
  },
  {
   "cell_type": "markdown",
   "id": "db0d3bd5",
   "metadata": {},
   "source": [
    "><small>2. 분(min)을 입력 하면, 일, 시간, 분으로 출력하는 프로그램을 만들어라. (예: 1550분은 1일 1시간 50분)</small>"
   ]
  },
  {
   "cell_type": "code",
   "execution_count": 63,
   "id": "f51ba113",
   "metadata": {},
   "outputs": [
    {
     "name": "stdout",
     "output_type": "stream",
     "text": [
      "5000 분은 3 일 11 시간 20 분입니다.\n"
     ]
    }
   ],
   "source": [
    "a = int(input(\"몇 분인지 입력하시오 : \"))\n",
    "print(a, \"분은\", a // 1440, \"일\", (a % 1440) // 60, \"시간\", a % 60, \"분입니다.\")"
   ]
  },
  {
   "cell_type": "markdown",
   "id": "d4cac26b",
   "metadata": {},
   "source": [
    "><small> 3. 500만원을 년이율 5%로 복리 저금했을 때 5년 후의 원리금의 합계를 출력하는 프로그램</small>"
   ]
  },
  {
   "cell_type": "code",
   "execution_count": 65,
   "id": "f3cfd183",
   "metadata": {},
   "outputs": [
    {
     "name": "stdout",
     "output_type": "stream",
     "text": [
      "5년 후의 원리금의 합계는 6381407 원 입니다.\n"
     ]
    }
   ],
   "source": [
    "a = 5000000 * (1 + 0.05) ** 5\n",
    "print(\"5년 후의 원리금의 합계는\", int(a), \"원 입니다.\")"
   ]
  },
  {
   "cell_type": "markdown",
   "id": "40da93a4",
   "metadata": {},
   "source": [
    "><small>4. 1부터 n까지의 합은 n(n+1)/2로 주어진다. 1부터 100까지의 합을 구하여 출력하는 프로그램을 작성하고 실행하라.</small>"
   ]
  },
  {
   "cell_type": "code",
   "execution_count": 68,
   "id": "143a2013",
   "metadata": {},
   "outputs": [
    {
     "name": "stdout",
     "output_type": "stream",
     "text": [
      "1부터 100까지의 합은 5050 입니다.\n"
     ]
    }
   ],
   "source": [
    "print(\"1부터 100까지의 합은\", 100 * (100+1)//2, \"입니다.\")"
   ]
  },
  {
   "cell_type": "markdown",
   "id": "e9ee7bcf",
   "metadata": {},
   "source": [
    "><small>5. 판매자가 딸기와 포도를 판매하고 있다. 포도 한 알의 무게는 75g이고 딸기한알의무게는\n",
    "113.5g이다. 사용자로부터 포도 알의 개수와 딸기의 개수를 입력 받아 총 무게를 계산하여 출력하는 프로그램을 작성하고 실행하라.</small>"
   ]
  },
  {
   "cell_type": "code",
   "execution_count": null,
   "id": "003bfb53",
   "metadata": {},
   "outputs": [
    {
     "name": "stdout",
     "output_type": "stream",
     "text": [
      "딸기와 포도의 총 무개는 942.5 g입니다.\n"
     ]
    }
   ],
   "source": [
    "a = int(input(\"딸기의 개수를 입력하시오 : \"))\n",
    "b = int(input(\"포도 알의 개수를 입력하시오 : \"))\n",
    "print(\"딸기와 포도의 총 무개는\", a * 75 + b * 113.5, \"g입니다.\")"
   ]
  }
 ],
 "metadata": {
  "kernelspec": {
   "display_name": "Python 3",
   "language": "python",
   "name": "python3"
  },
  "language_info": {
   "codemirror_mode": {
    "name": "ipython",
    "version": 3
   },
   "file_extension": ".py",
   "mimetype": "text/x-python",
   "name": "python",
   "nbconvert_exporter": "python",
   "pygments_lexer": "ipython3",
   "version": "3.13.7"
  }
 },
 "nbformat": 4,
 "nbformat_minor": 5
}
