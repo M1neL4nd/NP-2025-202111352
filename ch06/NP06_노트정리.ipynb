{
 "cells": [
  {
   "cell_type": "markdown",
   "id": "cbaf2bc1",
   "metadata": {},
   "source": [
    "## 이름 : 정승희 학번 : 202111352"
   ]
  },
  {
   "cell_type": "markdown",
   "id": "60252b94",
   "metadata": {},
   "source": [
    "##### 객체지향 프로그래밍"
   ]
  },
  {
   "cell_type": "markdown",
   "id": "a795ac00",
   "metadata": {},
   "source": [
    "><small>* 객체지향 프로그램은 객체(object)의 속성(변수)과 동작(함수)을 나타내는 클래스를 정의하고, 이로부터 객체를 생성(인스턴스화; Instantation)하여 작성한 프로그램<br>* 클래스와 객체는 풀빵틀과 풀빵의 관계<br>* 클래스의 동작을 나타내는 함수를 메소드(method)라 한다.<br>* 클래스는 다른 클래스로부터 상속 받을 수 있다. 상속 클래스는 부모 클래스가 갖지 않는 속성과 메소드를 가질 수 있다.<br>* 객체는 클래스의 속성과 메소드를 갖는다.<br>* 객체는 일반 변수처럼 사용된다. 함수의 인자로 사용되고, 함수에서 객체를 반환할 수도 있다. 튜플이나 딕셔너리의 요소로 사용될 수 있다.</small>"
   ]
  },
  {
   "cell_type": "markdown",
   "id": "206b1dcc",
   "metadata": {},
   "source": [
    "##### 클래스 정의와 객체 생성"
   ]
  },
  {
   "cell_type": "markdown",
   "id": "d8876a24",
   "metadata": {},
   "source": [
    "클래스 정의"
   ]
  },
  {
   "cell_type": "code",
   "execution_count": null,
   "id": "5f72d349",
   "metadata": {},
   "outputs": [],
   "source": [
    "class 클래스이름(부모 클래스) : \n",
    "    클래스 몸체\n",
    "\n",
    "* 클래스는 class 키워드로 정의된다. 부모 클래스는 없으면 생략\n",
    "* 클래스 몸체는 변수와 메소드로 구성"
   ]
  },
  {
   "cell_type": "markdown",
   "id": "cd8f0366",
   "metadata": {},
   "source": [
    "클래스 객체<br>\n",
    "\n",
    "><small>* 클래스를 인스턴스화(instantiation)하여 만들어진 것을 객체(object)라 한다.<Br>* 객체는 클래스의 변수와 메소드에 접근할 수 있다.</small>"
   ]
  },
  {
   "cell_type": "code",
   "execution_count": 6,
   "id": "dabbf39f",
   "metadata": {},
   "outputs": [
    {
     "name": "stdout",
     "output_type": "stream",
     "text": [
      "홍길동\n"
     ]
    }
   ],
   "source": [
    "class Test: #클래스 정의\n",
    "    name = \"홍길동\"\n",
    "t = Test()\n",
    "print(t.name)"
   ]
  },
  {
   "cell_type": "markdown",
   "id": "a2e79ee3",
   "metadata": {},
   "source": [
    "##### 클래스 정의"
   ]
  },
  {
   "cell_type": "markdown",
   "id": "a5b7e7db",
   "metadata": {},
   "source": [
    "클래스의 예"
   ]
  },
  {
   "cell_type": "code",
   "execution_count": 7,
   "id": "ecf154d5",
   "metadata": {},
   "outputs": [],
   "source": [
    "class Car : \n",
    "    def __init__(self, color, speed) : \n",
    "        self.color = color\n",
    "        self.speed = speed\n",
    "    \n",
    "    def speedUp(self, v) : \n",
    "        self.speed = self.speed + v\n",
    "        return self.speed\n",
    "    \n",
    "    def speedDown(self, v) : \n",
    "        self.speed = self.speed - v\n",
    "        return self.speed"
   ]
  },
  {
   "cell_type": "markdown",
   "id": "68186afa",
   "metadata": {},
   "source": [
    "><small>* self.variable로 정의된 변수(인스턴스 변수)는 클래스 전체에서 유효하다. 클래스 속성은 인스턴스 변수로 정의한다.<br>* self.가 없는 변수는 메소드 내에서만 유효한 지역변수 이다.</small>"
   ]
  },
  {
   "cell_type": "markdown",
   "id": "769b397a",
   "metadata": {},
   "source": [
    "##### 클래스 초기화 함수"
   ]
  },
  {
   "cell_type": "markdown",
   "id": "3ccb31e3",
   "metadata": {},
   "source": [
    "초기화 함수(_init_()) <br>\n",
    "><small>* 객체를 생성할 때 자동실행 메소드<Br>* 인스턴스 변수(self.var)를 초기화할 때 사용(초기화 필요가 없으면 생략 가능)<br>* self를 첫 번째 매개변수로 가지며, self는 클래스 객체를 나타낸다.<br>* 인스턴스 변수는 클래스 내부의 모든 메소드에서 사용할 수 있다.</small>"
   ]
  },
  {
   "cell_type": "code",
   "execution_count": 8,
   "id": "2ceb41c5",
   "metadata": {},
   "outputs": [],
   "source": [
    "class Car : \n",
    "    def __init__(self, color, sppeed) : \n",
    "        self.color = color\n",
    "        self.speed = speed"
   ]
  },
  {
   "cell_type": "markdown",
   "id": "43c8e8c3",
   "metadata": {},
   "source": [
    "##### 클래스 객체"
   ]
  },
  {
   "cell_type": "markdown",
   "id": "c1300a18",
   "metadata": {},
   "source": [
    "Car 클래스 객체를 이용한 프로그램<br>\n",
    "><small>* Car 클래스 객체 mycar 생성<br>* Car 클래스의 color와 speed 속성 접근<br>* Car 클래스의 speedup()과 speeddown() 메소드 호출</small>"
   ]
  },
  {
   "cell_type": "code",
   "execution_count": null,
   "id": "476cc6a5",
   "metadata": {},
   "outputs": [],
   "source": [
    "mycar = Car('Black', 60) #Car class 객체 생성\n",
    "print('색상: ', mycar.color, '속도: ', mycar.speed) # 속성 접근\n",
    "mycar.color = \"Red\" # 속성 변경도 가능\n",
    "print('색상: ', mycar.color)\n",
    "mycar.speedup(10) # speedup() method 호출\n",
    "print('속도: ', mycar.speed)\n",
    "mycar.speeddown(20) # speeddown() method 호출\n",
    "print('속도: ', mycar.speed)"
   ]
  },
  {
   "cell_type": "markdown",
   "id": "154c063b",
   "metadata": {},
   "source": [
    "##### 클래스 속성(attribute)"
   ]
  },
  {
   "cell_type": "markdown",
   "id": "f00e12e1",
   "metadata": {},
   "source": [
    "클래스 속성: 클래스 변수와 인스턴스 변수"
   ]
  },
  {
   "cell_type": "code",
   "execution_count": null,
   "id": "52e2fe94",
   "metadata": {},
   "outputs": [],
   "source": [
    "class Calc: \n",
    "    count = 0\n",
    "    def add(self, a=0, b=0) : \n",
    "        self.a = a\n",
    "        self.b = b\n",
    "        self.count += 1\n",
    "        return self.a + self.b\n",
    "    def.minus(self, a, b) : \n",
    "        if a == 0 or b == 0 : \n",
    "            return a - b, self.count\n",
    "        else : \n",
    "            return a - b\n",
    "    \n",
    "    obj = Calc()\n",
    "    print(obj.minus(3, 0)) #count 속성 출력\n",
    "    print(obj.minus(3, 1))\n",
    "    print(obj.add(1, 2)) #count 속성 증가\n",
    "    print(obj.count, Calc.count) # 인스턴스 변수(obj.count)는 변하지만 클래스 변수(Calc.count)는 변하지 않음"
   ]
  },
  {
   "cell_type": "markdown",
   "id": "96969a6b",
   "metadata": {},
   "source": [
    "##### 클래스 상속(inheritance)"
   ]
  },
  {
   "cell_type": "markdown",
   "id": "1f97c6e4",
   "metadata": {},
   "source": [
    "클래스 상속<br>\n",
    "><small>* 상속은 기존에 만들어진 클래스로부터 속성과 메소드를 이어받고 자신이 필요한 기능을 추가하는 기법이다.<br>* 상위 클래스 = 부모 클래스 또는 super class<Br>* 하위 클래스 = 자식 클래스 또는 sub class<br>* 상속의 구현</small>"
   ]
  },
  {
   "cell_type": "code",
   "execution_count": null,
   "id": "3550daf7",
   "metadata": {},
   "outputs": [],
   "source": [
    "class subclass(superclass) : "
   ]
  },
  {
   "cell_type": "markdown",
   "id": "701b6eea",
   "metadata": {},
   "source": [
    "><small>* 파이썬 프로그램의 모듈은 대부분 클래스로 구현되어 있고 자신의 프로그램에서는 모듈에 포함된 부모 클래스를 상속받아 구현된다.</small>"
   ]
  },
  {
   "cell_type": "code",
   "execution_count": null,
   "id": "071e3000",
   "metadata": {},
   "outputs": [],
   "source": [
    "class Handler(serversocket.BaseRequestHandler)"
   ]
  },
  {
   "cell_type": "markdown",
   "id": "f8632272",
   "metadata": {},
   "source": [
    "<small>- serversocket 모듈의 BaserequestHandler 클래스를 상속받아 Handler 클래스 구현</small>"
   ]
  },
  {
   "cell_type": "markdown",
   "id": "1e530ad6",
   "metadata": {},
   "source": [
    "클래스 상속 예제<br>\n",
    "><small>* People 클래스에서 상속 받아 Teacher 클래스 정의<br>* 부모 클래스 호출 : super().method(args)/People.method(self, args)</small>"
   ]
  },
  {
   "cell_type": "code",
   "execution_count": null,
   "id": "f2a9f00c",
   "metadata": {},
   "outputs": [],
   "source": [
    "class People : \n",
    "    def __init__(self, age = 0, name = None) : \n",
    "        self.__age = age\n",
    "        self.__name = name\n",
    "\n",
    "    def introMe(self) : \n",
    "        print(\"Name : \", self.__name, \"age : \", str(self.__age))\n",
    "\n",
    "class Teacher(People) : \n",
    "    def __init__(self, age = 0, name = None, school = None) : \n",
    "        super().__init__(age, name)\n",
    "        self.school = school\n",
    "    \n",
    "    def showSchool(self) : \n",
    "        print(\"My School is\", self.school)"
   ]
  },
  {
   "cell_type": "markdown",
   "id": "a8904522",
   "metadata": {},
   "source": [
    "클래스 상속 예제<br>\n",
    "\n",
    "><small>* 상속 메소드 호출</small>"
   ]
  },
  {
   "cell_type": "code",
   "execution_count": null,
   "id": "d13f2ccf",
   "metadata": {},
   "outputs": [
    {
     "name": "stdout",
     "output_type": "stream",
     "text": [
      "Name :  Lee age :  29\n"
     ]
    }
   ],
   "source": [
    "p1 = People(29, \"Lee\")\n",
    "p1.introMe()"
   ]
  },
  {
   "cell_type": "code",
   "execution_count": null,
   "id": "b3d3daef",
   "metadata": {},
   "outputs": [
    {
     "name": "stdout",
     "output_type": "stream",
     "text": [
      "Name :  Kim age :  48\n"
     ]
    }
   ],
   "source": [
    "t1 = Teacher(48, \"Kim\", \"HighSchool\")\n",
    "t1.introMe()"
   ]
  },
  {
   "cell_type": "code",
   "execution_count": null,
   "id": "96ce7ba3",
   "metadata": {},
   "outputs": [
    {
     "name": "stdout",
     "output_type": "stream",
     "text": [
      "My School is HighSchool\n"
     ]
    }
   ],
   "source": [
    "t1.showSchool()"
   ]
  },
  {
   "cell_type": "markdown",
   "id": "927b890b",
   "metadata": {},
   "source": [
    "##### 메소드 오버라이딩"
   ]
  },
  {
   "cell_type": "markdown",
   "id": "e23cce23",
   "metadata": {},
   "source": [
    "메소드 오버라이딩(Method Overriding) <Br>\n",
    "><small>* 자식클래스에서 부모클래스의 메소드를 수정해 다시 정의하는 것<br>* Student 클래스에서 People 클래스의 introMe()메소드를 재정의하여 사용</small>"
   ]
  },
  {
   "cell_type": "code",
   "execution_count": null,
   "id": "8bbb4d77",
   "metadata": {},
   "outputs": [],
   "source": [
    "class People : #부모 클래스\n",
    "    def __init__(self, age=0, name=None) :\n",
    "        self.__age = age\n",
    "        self.__name = name\n",
    "    def introMe(self) : \n",
    "        print(\"Name : \", self.__name, \"age : \", str(self.__age))\n",
    "\n",
    "class Student(People) : #자식 클래스\n",
    "    def __init__(self, age=0, name=None, grade=None):\n",
    "        super().__init__(age, name)\n",
    "        self.__grade = grade # 자식 클래스의 변수\n",
    "    def IntroMe(self) : \n",
    "        super().introMe()\n",
    "        print(\"Grade : \", self.__grade)"
   ]
  },
  {
   "cell_type": "markdown",
   "id": "65e6d122",
   "metadata": {},
   "source": [
    "오버라이딩 메소드 호출"
   ]
  },
  {
   "cell_type": "code",
   "execution_count": null,
   "id": "cbb7e56b",
   "metadata": {},
   "outputs": [
    {
     "name": "stdout",
     "output_type": "stream",
     "text": [
      "Name :  Lee age :  29\n",
      "Name :  Park age :  17\n"
     ]
    }
   ],
   "source": [
    "p1 = People(29, \"Lee\")\n",
    "p1.introMe()\n",
    "\n",
    "s1 = Student(17, \"Park\", 2)\n",
    "s1.introMe()"
   ]
  },
  {
   "cell_type": "markdown",
   "id": "b54a91aa",
   "metadata": {},
   "source": [
    "##### 다형성(polymorphism)"
   ]
  },
  {
   "cell_type": "markdown",
   "id": "749ae1f0",
   "metadata": {},
   "source": [
    "전달된 인자에 따라 함수 또는 연산의 기능이 달라지는 기능<br>\n",
    "><small>* 2 + 3 → 5<br>* '2' + '3' → '23'<br>* 'Hello' + 'World' → 'Hello World'</small>"
   ]
  },
  {
   "cell_type": "code",
   "execution_count": null,
   "id": "b8e83d79",
   "metadata": {},
   "outputs": [
    {
     "name": "stdout",
     "output_type": "stream",
     "text": [
      "안녕하세요\n",
      "Hello\n"
     ]
    }
   ],
   "source": [
    "class Korean(object) : \n",
    "    def greeting(self) :\n",
    "        print(\"안녕하세요\")\n",
    "class American(object) : \n",
    "    def greeting(self) : \n",
    "        print(\"Hello\")\n",
    "def sayhello(people) : \n",
    "    people.greeting()\n",
    "\n",
    "Kim = Korean()\n",
    "John = American()\n",
    "sayhello(Kim)\n",
    "sayhello(John)"
   ]
  },
  {
   "cell_type": "markdown",
   "id": "5af7ef1a",
   "metadata": {},
   "source": [
    "##### 가시성"
   ]
  },
  {
   "cell_type": "markdown",
   "id": "6cfcad50",
   "metadata": {},
   "source": [
    "파이썬은 C++/자바와 달리 접근 제어자(public, protected, private)가 엄격하게 적용되지 않습니다. 하지만 관례적으로 다음과 같이 가시성을 표현<br>\n",
    "><small>* public: 이름 앞에 밑줄 없음 (예: value)<br> → 어디서나 접근 가능<br>* protected: 이름 앞에 밑줄 1개 (예: _value)<Br> → 하위 클래스에서 접근 권장, 외부에서 직접 접근은 권장하지 않음<br>* private: 이름 앞에 밑줄 2개 (예: __value)<br> → 클래스 내부에서만 접근, 이름이 맹글링(name manggling)되어 외부/하위 클래스에서 직접 접근 어렵게 만듦</small>"
   ]
  },
  {
   "cell_type": "markdown",
   "id": "f95238c5",
   "metadata": {},
   "source": [
    "##### 가시성 예제"
   ]
  },
  {
   "cell_type": "code",
   "execution_count": null,
   "id": "06d0d96a",
   "metadata": {},
   "outputs": [],
   "source": [
    "class Base: \n",
    "    def __init__(self):\n",
    "        self.public_value = 1 # public\n",
    "        self._protected_value = 2 # protected\n",
    "        self.__private_value = 3 # private\n",
    "\n",
    "class Child(Base) : \n",
    "    def show(self) : \n",
    "        print(self)\n",
    "        print(self.public_value) # 가능\n",
    "        print(self._protected_value) # 가능\n",
    "        # print(self.__private_value) # 불가    (AttributeError)\n",
    "\n",
    "class Other : \n",
    "    def show(self, obj: Base) : \n",
    "        print(obj.public_value) # 가능\n",
    "        print(obj._protected_value) # 가능 (하지만 권장되지 않음)\n",
    "        # print(obj.__private_value) # 불가 (AttributeError)"
   ]
  },
  {
   "cell_type": "markdown",
   "id": "ff95a43e",
   "metadata": {},
   "source": [
    "##### 추상 함수(abstract methods)"
   ]
  },
  {
   "cell_type": "markdown",
   "id": "5daf1f05",
   "metadata": {},
   "source": [
    "파이썬에서 추상 메서드(abstract method)<br>\n",
    "><small>* abc 모듈의 ABC(Abstract Base Class)와 @abstractmethod 데코레이터 (java 의 annotation)를 사용해 정의<br>* 추상 메서드는 반드시 하위 클래스에서 구현해야 하며, 직접 인스턴스화 할 수 없음</small>"
   ]
  },
  {
   "cell_type": "markdown",
   "id": "93d22f4d",
   "metadata": {},
   "source": [
    "##### 추상함수 예제"
   ]
  },
  {
   "cell_type": "code",
   "execution_count": null,
   "id": "68d31df5",
   "metadata": {},
   "outputs": [],
   "source": [
    "from abc import ABC, abstractmethod\n",
    "\n",
    "class Animal(ABC) : \n",
    "    @abstractmethod\n",
    "    def sound(self) : \n",
    "        pass\n",
    "\n",
    "class Dog(Animal) : \n",
    "    def sound(self) : \n",
    "        return \"멍멍\"\n",
    "    \n",
    "# a = Animal() # 에러: 추상 클래스는 인스턴스화 불가\n",
    "d = Dog()\n",
    "print(d.sound()) # \"멍멍\""
   ]
  },
  {
   "cell_type": "markdown",
   "id": "97fa5191",
   "metadata": {},
   "source": [
    "##### 정적 멤버 (static variable, static methods)"
   ]
  },
  {
   "cell_type": "markdown",
   "id": "ebd2f4f5",
   "metadata": {},
   "source": [
    "파이썬에서 정적 메서드<br>\n",
    "><small>* 파이썬에서 static member(정적 멤버, 클래스 변수)는 클래스 전체에서 공유되는 변수<br> * 클래스 변수, 클래스 메소드라고 함<br>* 메서드의 경우 @staticmethod 데코레이터를 사용해 정적 메서드를 정의<br>* 정적 변수는 클래스 안에 self가 아닌 일반 변수로 선언하고 클래스.변수 형태로 접근</small>"
   ]
  },
  {
   "cell_type": "markdown",
   "id": "49587216",
   "metadata": {},
   "source": [
    "##### 정적 멤버 예제"
   ]
  },
  {
   "cell_type": "code",
   "execution_count": null,
   "id": "9c70be2c",
   "metadata": {},
   "outputs": [],
   "source": [
    "class Counter : \n",
    "    count = 0 # 클래스 변수 (정적 멤버)\n",
    "\n",
    "    def __init__(self):\n",
    "        self.__object_counter = 1 # public\n",
    "\n",
    "    @staticmethod\n",
    "    def increment_class() : \n",
    "        Counter.count += 1\n",
    "\n",
    "    def increment_object(self) : \n",
    "        self.__object_counter += 1 # private\n",
    "\n",
    "if __name__ == \"__main__\" : \n",
    "    Counter.increment_class()\n",
    "    print(Counter.count)            # 1\n",
    "\n",
    "    c = Counter()                   # 인스턴스 생성\n",
    "    print(c.object_counter) # 1\n",
    "    c.increment_object()\n",
    "    print(c.__object_counter) # private 접근 불가"
   ]
  },
  {
   "cell_type": "markdown",
   "id": "0efd1864",
   "metadata": {},
   "source": [
    "##### Dunder methods"
   ]
  },
  {
   "cell_type": "markdown",
   "id": "f687eb06",
   "metadata": {},
   "source": [
    "Dunder<Br>\n",
    "><small>* Double Underlines 의 약자<br>* 파이썬에서는 UnderLine은 특별한의미로 사용할 때가 많음<br>* __ XXX __ 메소드는 자동으로 호출되는 경우가 많음<br>* 이러한 메소드를 재정의 하여 사용자 코드를 수행하도록 할 수 있음<br></small>\n",
    "\n",
    "Dunder Methods 예 : dir(object)\n",
    "><small>* __ init __(self,...) : 크랠스 생성함수, 객체 만들어질 때 자동 실행<br>* __ str __(self) : 클래스 객체를 문자열로 형병변환 할 때 자동 실행<br>* __ eq __(self, other) : 이 객체와 다른 객체를 같은지 여부<br>* __ gt __(self, other) : 이 객체가 다른 객체보다 큰지 여부</small>\n",
    "\n",
    "dir(object)"
   ]
  },
  {
   "cell_type": "code",
   "execution_count": 1,
   "id": "893dc80f",
   "metadata": {},
   "outputs": [
    {
     "data": {
      "text/plain": [
       "['__class__',\n",
       " '__delattr__',\n",
       " '__dir__',\n",
       " '__doc__',\n",
       " '__eq__',\n",
       " '__format__',\n",
       " '__ge__',\n",
       " '__getattribute__',\n",
       " '__getstate__',\n",
       " '__gt__',\n",
       " '__hash__',\n",
       " '__init__',\n",
       " '__init_subclass__',\n",
       " '__le__',\n",
       " '__lt__',\n",
       " '__ne__',\n",
       " '__new__',\n",
       " '__reduce__',\n",
       " '__reduce_ex__',\n",
       " '__repr__',\n",
       " '__setattr__',\n",
       " '__sizeof__',\n",
       " '__str__',\n",
       " '__subclasshook__']"
      ]
     },
     "execution_count": 1,
     "metadata": {},
     "output_type": "execute_result"
    }
   ],
   "source": [
    "dir(object)"
   ]
  },
  {
   "cell_type": "markdown",
   "id": "c682bd4d",
   "metadata": {},
   "source": [
    "##### Dunder methods : 예제"
   ]
  },
  {
   "cell_type": "code",
   "execution_count": null,
   "id": "2c87b991",
   "metadata": {},
   "outputs": [],
   "source": [
    "class Student : \n",
    "    def __init__(self, name, age) : \n",
    "        self.name = name\n",
    "        self.age = age\n",
    "    \n",
    "    def __str__(self):\n",
    "        return f\"Student(name={self.name}, age={self.age})\"\n",
    "    \n",
    "    def __eq__(self, other):\n",
    "        if isinstance(other, Student) : \n",
    "            return self.name == other.name and self.age == other.age\n",
    "        return False\n",
    "    \n",
    "    def __del__(self) : \n",
    "        print(f\"Student {self.name} is being deleted\")\n",
    "\n",
    "if __name__ == \"__main__\" : \n",
    "    student1 = Student(\"Alice\", 20)\n",
    "    student2 = Student(\"Bob\", 22)\n",
    "    student3 = Student(\"Alice\", 20)\n",
    "\n",
    "    print(student1) # Calls __str__\n",
    "    print(student2) # Calls __str__\n",
    "\n",
    "    print(student1 == student2) # Calls __eq__\n",
    "    print(student1 == student3) # Calls __eq__\n",
    "\n",
    "    del student1    # Calls __del__"
   ]
  },
  {
   "cell_type": "markdown",
   "id": "e063a332",
   "metadata": {},
   "source": [
    "##### 파이썬 데코레이터"
   ]
  },
  {
   "cell_type": "markdown",
   "id": "14825fb0",
   "metadata": {},
   "source": [
    "파이썬 데코레이터(decorator)는 함수나 클래스의 동작을 수정하거나 확장할 때 사용하는 문법<br>\n",
    "><small>*  함수(또는 메서드) 정의 위에 @데코레이터이름 형태로 사용<br>* 해당 함수가 호출될 때 데코레이터 함수 내에서 해당 함수가 실행<br>* 데코레이터 함수의 정의는 다음 형식을 따라 wrapper 이름의 멤버 메소드를 정의<br></small>\n",
    "\n",
    "- def deco_func(func) : <br>\n",
    "        def wrapper(*args, **kwargs) : <br>\n",
    "        ...<br>\n",
    "        result = func(*args, **kwargs)<br>\n",
    "        ...<br>\n",
    "        return result<br>\n",
    "    return wrapper<br>"
   ]
  },
  {
   "cell_type": "markdown",
   "id": "09cbba9c",
   "metadata": {},
   "source": [
    "##### 파이썬 데코레이터(annotation) 예제"
   ]
  },
  {
   "cell_type": "code",
   "execution_count": null,
   "id": "316acc0d",
   "metadata": {},
   "outputs": [],
   "source": [
    "def simple_decorator(func) : \n",
    "    def wrapper() : \n",
    "        print(\"함수 실행 전\")\n",
    "        result = func()\n",
    "        print(\"함수 실행 후\")\n",
    "        return result\n",
    "    return wrapper\n",
    "\n",
    "@simple_decorator\n",
    "def say_hello() : \n",
    "    print(\"Hello, World!\")\n",
    "\n",
    "if __name__ == \"__main__\" : \n",
    "    print(\"=== 예제 1 : 기본 데코레이터 ===\")\n",
    "    say_hello()\n",
    "#함수 실행 전\n",
    "#Hello, World!\n",
    "#함수 실행 후"
   ]
  },
  {
   "cell_type": "markdown",
   "id": "56c62bb5",
   "metadata": {},
   "source": [
    "##### 기존 함수를 확장(데코레이터를 통한)하기 위한 방법2"
   ]
  },
  {
   "cell_type": "markdown",
   "id": "f7c3a851",
   "metadata": {},
   "source": [
    "이미 작성된 함수의 기능을 확장할 때 2가지 방법<br>\n",
    "<small>\n",
    ">1. 함수 재할당<br>\n",
    "- 장식이 된 함수명을 기존 함수명으로 그대로 사용하게 하고 싶을 때 : 기존 클라이언트 코드 변경 없이<br>\n",
    "- 원본 함수명 = decorator(원본 함수명)<br>\n",
    ">2. 다른 함수명<br>\n",
    "- 장식이 된 함수명을 새로운 함수명으로 명명하여 사용해도 좋을 때 : 새롭게 클라이언트 함수를 짤 때<br>\n",
    "- 신규 함수명 = decorator(원본 함수명)</small>"
   ]
  },
  {
   "cell_type": "code",
   "execution_count": null,
   "id": "135648f2",
   "metadata": {},
   "outputs": [],
   "source": [
    "def say_hello() : \n",
    "    print(\"Hello, World!\")\n",
    "\n",
    "def simple_decorator(func) : \n",
    "    def wrapper() : \n",
    "        print(\"함수 실행 전\")\n",
    "        result = func()\n",
    "        print(\"함수 실행 후\")\n",
    "        return result\n",
    "    return wrapper\n",
    "\n",
    "original_hello = say_hello                                  # 원본 백업\n",
    "say_hello = simple_decorator(original_say_hello)            # 1. 함수 재할당\n",
    "decorated_say_hello = simple_decorator(original_say_hello)  # 2. 다른 함수명이름\n",
    "\n",
    "if __name__ == \"__main__\" : \n",
    "    say_hello()\n",
    "    decorated_say_hello()\n",
    "\n",
    "# 함수 실행 전\n",
    "# Hello, World!\n",
    "# 함수 실행 후"
   ]
  }
 ],
 "metadata": {
  "kernelspec": {
   "display_name": "Python 3",
   "language": "python",
   "name": "python3"
  },
  "language_info": {
   "codemirror_mode": {
    "name": "ipython",
    "version": 3
   },
   "file_extension": ".py",
   "mimetype": "text/x-python",
   "name": "python",
   "nbconvert_exporter": "python",
   "pygments_lexer": "ipython3",
   "version": "3.13.7"
  }
 },
 "nbformat": 4,
 "nbformat_minor": 5
}
