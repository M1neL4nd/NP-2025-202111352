{
 "cells": [
  {
   "cell_type": "markdown",
   "id": "420df1ad",
   "metadata": {},
   "source": [
    "## 이름 : 정승희 학번 : 202111352"
   ]
  },
  {
   "cell_type": "markdown",
   "id": "fe7cec4f",
   "metadata": {},
   "source": [
    "##### 6-3 연습문제"
   ]
  },
  {
   "cell_type": "markdown",
   "id": "ea683f3d",
   "metadata": {},
   "source": [
    "* Moneybox 클래스를 작성하라. 이 클래스는 저축한 총액을 저장하는 인스턴스 변수가 있다. deposit(money) 메서드는 인수로 주어진 금액만큼 저축하고 총액을 출력한다,extract(money) 메소드는 money를 인출하고 총액을 출력한다. get_total() 메소드는 총액을 알려준다. <br>\n",
    "* my_money = Moneybox() 객체를 생성하고 1000원을 저축하고, 200원을 인출한다음, 총액을 출력하라 <br>"
   ]
  },
  {
   "cell_type": "code",
   "execution_count": 5,
   "id": "729b3976",
   "metadata": {},
   "outputs": [
    {
     "name": "stdout",
     "output_type": "stream",
     "text": [
      "1000원만큼 저축하여 총액1000원 입니다.\n",
      "총액 1000원에서 200원 만큼 인출하였습니다.\n",
      "현재 총액은 800원 입니다.\n"
     ]
    }
   ],
   "source": [
    "class Moneybox : \n",
    "    def __init__(self) :\n",
    "        self.total = 0\n",
    "\n",
    "    def deposit(self, money) : \n",
    "        self.total += money\n",
    "        print(f\"{money}원만큼 저축하여 총액{self.total}원 입니다.\")\n",
    "\n",
    "    def extract(self, money) : \n",
    "        self.total -= money\n",
    "        print(f\"총액 {self.total + money}원에서 {money}원 만큼 인출하였습니다.\")\n",
    "\n",
    "    def get_total(self) : \n",
    "        print(f\"현재 총액은 {self.total}원 입니다.\")\n",
    "\n",
    "my_money = Moneybox()\n",
    "my_money.deposit(1000)\n",
    "my_money.extract(200)\n",
    "my_money.get_total()"
   ]
  },
  {
   "cell_type": "markdown",
   "id": "f9b22438",
   "metadata": {},
   "source": [
    "##### 6-4 연습문제"
   ]
  },
  {
   "cell_type": "markdown",
   "id": "6ff20ffb",
   "metadata": {},
   "source": [
    "* Password_manager 클래스를 작성하라. 이 클래스는 사용자의 모든과거 패스워드를 저장하는 old_passwords 리스트 변수를 갖는다. 리스트의 마지막 요소는 현재 패스워드이다. 현재 패스워드를 알려주는 get_password와 새로운 패스워드를 설정하는 set_password 메소드를 정의하라. set_password는 과거에 사용하지 않은 새로운 패스워드를 설정할 때만 유효하다. 문자열을 입력받아 현재 패스워드와 같은지 True  또는 False를 반환하는 is_correct 메소드를 정의하라."
   ]
  },
  {
   "cell_type": "code",
   "execution_count": 10,
   "id": "afd9ee04",
   "metadata": {},
   "outputs": [
    {
     "name": "stdout",
     "output_type": "stream",
     "text": [
      "새로운 패스워드가 설정되었습니다: 123\n",
      "새로운 패스워드가 설정되었습니다: 789\n",
      "['123', '789']\n",
      "True\n",
      "False\n"
     ]
    }
   ],
   "source": [
    "class Password_manager : \n",
    "    def __init__(self):\n",
    "        self.old_passwords = []\n",
    "\n",
    "    def get_password(self) : \n",
    "        if self.old_passwords : \n",
    "            return self.old_passwords[-1]   \n",
    "        return None\n",
    "    \n",
    "    def set_password(self, new_password) : \n",
    "        if new_password not in self.old_passwords : \n",
    "            self.old_passwords.append(new_password)\n",
    "            print(f\"새로운 패스워드가 설정되었습니다: {new_password}\")\n",
    "        else:\n",
    "            print(\"이전에 사용한 패스워드는 다시 사용할 수 없습니다.\")\n",
    "\n",
    "    def is_correct(self, password):\n",
    "        return password == self.get_password()\n",
    "    \n",
    "password = Password_manager()\n",
    "password.set_password(\"123\")\n",
    "password.set_password(\"789\")\n",
    "\n",
    "print(password.old_passwords)\n",
    "print(password.is_correct(\"789\"))\n",
    "print(password.is_correct(\"123\"))"
   ]
  },
  {
   "cell_type": "markdown",
   "id": "aced8168",
   "metadata": {},
   "source": [
    "##### 6-5 연습문제"
   ]
  },
  {
   "cell_type": "markdown",
   "id": "5704c3fe",
   "metadata": {},
   "source": [
    "* Articles 클래스를 작성하라. 이 클래스는 각각 제품의 이름, 재고수량, 단가를 나타내는 name, stock, price 인스턴스 변수를 가지고 있다. offer_price() 메소드는 구매 수량을 인수\n",
    "로 전달 받아 총 가격을 반환한다. 구매 수량이 1~10개 이하 이면 정상가격을 반환하고, 11~50개 이면5% 할인된 가격을 반환한다. 또 51개 이상이면 10% 할인해준다. purchase() 메소드는 구매수량을 인수로 전달받아 재고 수량을 구매수량만큼 감소한다.<br>\n",
    "* 이 클래스를 이용하여 단가 1000원인 ”mask“를 10,000장으로 설정하고, 40장 구매가격과\n",
    " 구매 후 재고를 출력하라."
   ]
  },
  {
   "cell_type": "code",
   "execution_count": 1,
   "id": "152bf58e",
   "metadata": {},
   "outputs": [
    {
     "name": "stdout",
     "output_type": "stream",
     "text": [
      "40장 구매 가격 : 38000원\n",
      "남은 재고 : 9960장\n"
     ]
    }
   ],
   "source": [
    "class Articles :\n",
    "    def __init__(self, name, stock, price):\n",
    "        self.name = name\n",
    "        self.stock = stock\n",
    "        self.price = price\n",
    "    \n",
    "    def offer_price(self, offer) : \n",
    "        if 1 <= offer <= 10 : \n",
    "            return self.price * offer\n",
    "        elif 11 <= offer <= 50 : \n",
    "            return self.price * offer * 0.95\n",
    "        elif offer >= 51 : \n",
    "            return self.price * offer * 0.9\n",
    "        else :\n",
    "            return 0\n",
    "        \n",
    "    def purchase(self, offer) : \n",
    "        if offer <= self.stock :\n",
    "            self.stock -= offer\n",
    "        else : \n",
    "            raise ValueError(\"재고가 부족합니다.\")\n",
    "        \n",
    "mask = Articles(\"mask\", 10000, 1000)\n",
    "price40 = mask.offer_price(40)\n",
    "mask.purchase(40)\n",
    "print(f\"40장 구매 가격 : {int(price40)}원\")\n",
    "print(f\"남은 재고 : {mask.stock}장\")"
   ]
  },
  {
   "cell_type": "markdown",
   "id": "b325cebf",
   "metadata": {},
   "source": [
    "##### 6-6 연습문제"
   ]
  },
  {
   "cell_type": "markdown",
   "id": "99e8d212",
   "metadata": {},
   "source": [
    "* 다음 프로그램을 실행했을 때 아래 내용이 출력되도록 클래스를 정의하라. 학번(id) 앞 4자리가 2018보다 작으면 grade() 메소드에 의해 \"3학년입니다\"가 출력되고 아니면 \"3학년이 아닙니다\"가 출력된다."
   ]
  },
  {
   "cell_type": "code",
   "execution_count": 4,
   "id": "72f4bc5c",
   "metadata": {},
   "outputs": [
    {
     "name": "stdout",
     "output_type": "stream",
     "text": [
      "이름 : 홍길동, 학번 : 20150001, 학과 : 로봇공학과\n",
      "3학년 입니다.\n"
     ]
    }
   ],
   "source": [
    "class not3grade : \n",
    "    def __init__(self, name, id, dept) :\n",
    "        self.name = name\n",
    "        self.id = id\n",
    "        self.dept = dept\n",
    "\n",
    "    def grade(self) : \n",
    "        year = int(str(self.id)[:4])\n",
    "        if year < 2018 : \n",
    "            print(\"3학년 입니다.\")\n",
    "        else :\n",
    "            print(\"3학년이 아닙니다.\")\n",
    "\n",
    "man = not3grade(name = \"홍길동\", id = 20150001, dept = \"로봇공학과\")\n",
    "print(\"이름 : {}, 학번 : {}, 학과 : {}\".format(man.name, man.id, man.dept))\n",
    "man.grade()"
   ]
  },
  {
   "cell_type": "markdown",
   "id": "fa7ef4e9",
   "metadata": {},
   "source": [
    "##### 6-7 연습문제"
   ]
  },
  {
   "cell_type": "markdown",
   "id": "34f35cac",
   "metadata": {},
   "source": [
    "* 다음 Person 클래스를 상속 받는 Employee 클래스를 정의하라. Employee 클래스에 employeeID 속성을 추가하고 getID() 메소드를 정의하라. getID() 메소드는 employeeID를 반환하는메소드이다.<br>\n",
    "Employee 클래스를 이용하여 Employee(\"동양\", 65, 2019)로 생성된 객체의이름, 나이, ID를 출력하라."
   ]
  },
  {
   "cell_type": "code",
   "execution_count": 7,
   "id": "dbd509e4",
   "metadata": {},
   "outputs": [
    {
     "name": "stdout",
     "output_type": "stream",
     "text": [
      "동양\n",
      "65\n",
      "2019\n"
     ]
    }
   ],
   "source": [
    "class Person : \n",
    "    def __init__(self, name, age) : \n",
    "        self.name = name\n",
    "        self.age = age\n",
    "\n",
    "    def getName(self) : \n",
    "        print(self.name)\n",
    "    \n",
    "    def getAge(self) : \n",
    "        print(self.age)\n",
    "\n",
    "class Employee(Person) : \n",
    "    def __init__(self, name, age, id):\n",
    "        super().__init__(name, age)\n",
    "        self.id = id\n",
    "\n",
    "    def getID(self) : \n",
    "        print(self.id)\n",
    "\n",
    "emp = Employee(\"동양\", 65, 2019)\n",
    "emp.getName()\n",
    "emp.getAge()\n",
    "emp.getID()"
   ]
  },
  {
   "cell_type": "markdown",
   "id": "5514390c",
   "metadata": {},
   "source": [
    "##### 6-8 연습문제"
   ]
  },
  {
   "cell_type": "markdown",
   "id": "e57fa8a6",
   "metadata": {},
   "source": [
    "* 앞의 Person클래스에서 새로운 Person 객체가 생성될 때 ID를 1001번지부터 순차적으로 자동으로 부여할 수 있도록 Employee 클래스를 포함해서 변경하시오.<br> 새로운 Employee객체를 만들어 getId()를 호출할 때 Id가 중복되면 안된다."
   ]
  },
  {
   "cell_type": "code",
   "execution_count": 27,
   "id": "0268f8ce",
   "metadata": {},
   "outputs": [
    {
     "name": "stdout",
     "output_type": "stream",
     "text": [
      "1001\n",
      "1002\n"
     ]
    }
   ],
   "source": [
    "count = 1000\n",
    "\n",
    "class Person : \n",
    "    def __init__(self, name, age):\n",
    "        global count\n",
    "        count += 1  #\n",
    "        self.name = name\n",
    "        self.age = age\n",
    "        self.__id = count \n",
    "\n",
    "    def getId(self) :\n",
    "        print(self.__id)\n",
    "\n",
    "    def getAge(self) : \n",
    "        print(self.age)\n",
    "\n",
    "class Employee(Person):\n",
    "    def __init__(self, name, age):\n",
    "        super().__init__(name, age)    \n",
    "\n",
    "e1 = Employee(\"홍길동\", 30)\n",
    "e2 = Employee(\"이순신\", 40)\n",
    "\n",
    "e1.getId()\n",
    "e2.getId()\n"
   ]
  },
  {
   "cell_type": "markdown",
   "id": "cdbf59e2",
   "metadata": {},
   "source": [
    "##### 6-9 연습문제"
   ]
  },
  {
   "cell_type": "markdown",
   "id": "6cc6a27c",
   "metadata": {},
   "source": [
    "파이썬 언어에서 다음에 대해 조사하고 예제코드를 실행하여 보라<br>\n",
    "><small>1. 파이썬으로 싱글톤 패턴을 구현하는 방법들<br>2. 파이썬에서 멀티쓰레드 구현하는 기법<br>3. 멀티쓰레드에서 공유 변수에 대한 Critical Section을 보호하는 기법</small>"
   ]
  },
  {
   "cell_type": "markdown",
   "id": "ca1a2f6a",
   "metadata": {},
   "source": [
    "><small>1. 파이썬으로 싱글톤 패턴 구현</small>"
   ]
  },
  {
   "cell_type": "code",
   "execution_count": 28,
   "id": "d18a01b3",
   "metadata": {},
   "outputs": [
    {
     "name": "stdout",
     "output_type": "stream",
     "text": [
      "True\n"
     ]
    }
   ],
   "source": [
    "class Singleton:\n",
    "    _instance = None\n",
    "\n",
    "    def __new__(cls):\n",
    "        if cls._instance is None:\n",
    "            cls._instance = super(Singleton, cls).__new__(cls)\n",
    "        return cls._instance\n",
    "\n",
    "# 테스트\n",
    "a = Singleton()\n",
    "b = Singleton()\n",
    "print(a is b)  # True\n"
   ]
  },
  {
   "cell_type": "markdown",
   "id": "36671787",
   "metadata": {},
   "source": [
    "><small>2. 파이썬에서 멀티쓰레드 구현</small>"
   ]
  },
  {
   "cell_type": "code",
   "execution_count": 29,
   "id": "3aa7d6df",
   "metadata": {},
   "outputs": [
    {
     "name": "stdout",
     "output_type": "stream",
     "text": [
      "Number: 0\n",
      "Number: 1\n",
      "Number: 2\n",
      "Number: 3\n",
      "Number: 4\n",
      "Letter: A\n",
      "Letter: B\n",
      "Letter: C\n",
      "Letter: D\n",
      "Letter: E\n"
     ]
    }
   ],
   "source": [
    "import threading\n",
    "\n",
    "def print_numbers():\n",
    "    for i in range(5):\n",
    "        print(f\"Number: {i}\")\n",
    "\n",
    "def print_letters():\n",
    "    for ch in 'ABCDE':\n",
    "        print(f\"Letter: {ch}\")\n",
    "\n",
    "t1 = threading.Thread(target=print_numbers)\n",
    "t2 = threading.Thread(target=print_letters)\n",
    "\n",
    "t1.start()\n",
    "t2.start()\n",
    "\n",
    "t1.join()\n",
    "t2.join()\n"
   ]
  },
  {
   "cell_type": "markdown",
   "id": "fb1f7ad6",
   "metadata": {},
   "source": [
    "><small>3. 멀티쓰레드에서 공유 변수에 대한 Critical SEction을 보호</small>"
   ]
  },
  {
   "cell_type": "code",
   "execution_count": 30,
   "id": "90aa6395",
   "metadata": {},
   "outputs": [
    {
     "name": "stdout",
     "output_type": "stream",
     "text": [
      "최종 카운터 값: 200000\n"
     ]
    }
   ],
   "source": [
    "import threading\n",
    "\n",
    "counter = 0\n",
    "lock = threading.Lock()\n",
    "\n",
    "def increment():\n",
    "    global counter\n",
    "    for _ in range(100000):\n",
    "        with lock:  # 크리티컬 섹션 보호\n",
    "            counter += 1\n",
    "\n",
    "threads = [threading.Thread(target=increment) for _ in range(2)]\n",
    "\n",
    "for t in threads:\n",
    "    t.start()\n",
    "for t in threads:\n",
    "    t.join()\n",
    "\n",
    "print(\"최종 카운터 값:\", counter)\n"
   ]
  },
  {
   "cell_type": "markdown",
   "id": "067c9b94",
   "metadata": {},
   "source": [
    "##### 6-10 연습문제"
   ]
  },
  {
   "cell_type": "code",
   "execution_count": 31,
   "id": "d3346178",
   "metadata": {},
   "outputs": [
    {
     "name": "stdout",
     "output_type": "stream",
     "text": [
      "춘식이이 멍멍하고 울어요\n",
      "야옹이이 야옹하고 울어요\n",
      "현재 동물 수:  2\n",
      "바둑이이 멍멍하고 울어요\n",
      "현재 동물 수:  3\n",
      "토리이 멍멍하고 울어요\n",
      "나비이 야옹하고 울어요\n",
      "멍멍이이 멍멍하고 울어요\n",
      "나비이 야옹하고 울어요\n"
     ]
    }
   ],
   "source": [
    "from abc import ABC, abstractmethod\n",
    "\n",
    "class Animal(ABC) : \n",
    "    animal_count = 0\n",
    "\n",
    "    def __init__(self) :\n",
    "        Animal.animal_count += 1\n",
    "\n",
    "    @abstractmethod\n",
    "    def sound(self) : \n",
    "        pass\n",
    "\n",
    "    @staticmethod\n",
    "    def get_animal_count() : \n",
    "        return Animal.animal_count\n",
    "    \n",
    "class Dog(Animal) : \n",
    "    def __init__(self, name):\n",
    "        super().__init__()\n",
    "        self.name = name\n",
    "\n",
    "    def sound(self) : \n",
    "        return f\"{self.name}이 멍멍하고 울어요\"\n",
    "\n",
    "class Cat(Animal) : \n",
    "    def __init__(self, name):\n",
    "        super().__init__()\n",
    "        self.__name = name\n",
    "    \n",
    "    def sound(self) : \n",
    "        return f\"{self.__name}이 야옹하고 울어요\"\n",
    "    \n",
    "\n",
    "if __name__ == \"__main__\" : \n",
    "    mydog : Dog = Dog(\"춘식이\")\n",
    "    mycat : Cat = Cat(\"야옹이\")\n",
    "    print(mydog.sound())\n",
    "    print(mycat.sound())\n",
    "    print(\"현재 동물 수: \", Animal.get_animal_count())\n",
    "\n",
    "    anymal : Animal = Dog(\"바둑이\")\n",
    "    print(anymal.sound())\n",
    "    print(\"현재 동물 수: \", Animal.get_animal_count())\n",
    "\n",
    "    anymalList = [Dog(\"토리\"), Cat(\"나비\"), Dog(\"멍멍이\"), Cat(\"나비\")]\n",
    "    for animal in anymalList :\n",
    "        print(animal.sound())\n",
    "\n",
    "    def make_sound(animals: list[Animal]) : \n",
    "        for animal in animals : \n",
    "            print(animal.sound())"
   ]
  }
 ],
 "metadata": {
  "kernelspec": {
   "display_name": "Python 3",
   "language": "python",
   "name": "python3"
  },
  "language_info": {
   "codemirror_mode": {
    "name": "ipython",
    "version": 3
   },
   "file_extension": ".py",
   "mimetype": "text/x-python",
   "name": "python",
   "nbconvert_exporter": "python",
   "pygments_lexer": "ipython3",
   "version": "3.13.7"
  }
 },
 "nbformat": 4,
 "nbformat_minor": 5
}
