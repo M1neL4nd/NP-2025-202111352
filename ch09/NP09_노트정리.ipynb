{
 "cells": [
  {
   "cell_type": "markdown",
   "id": "d2cad216",
   "metadata": {},
   "source": [
    "## 이름 : 정승희 학번 : 202111352"
   ]
  },
  {
   "cell_type": "markdown",
   "id": "fd9d64e6",
   "metadata": {},
   "source": [
    "##### 파이썬 가상환경 (virtual environment)"
   ]
  },
  {
   "cell_type": "markdown",
   "id": "1e6a03ca",
   "metadata": {},
   "source": [
    "가상환경이란?<br>\n",
    "><small>* 프로젝트별로 독립된 파이썬 환경을 만드는 도구<br>* 각 프로젝트가 서로 다른 패키지 버전을 사용할 수 있게 함<br>* 시스템 파이썬 호나경을 오염시키지 않음<br></small>\n",
    "\n",
    "만드는 방법<br>\n",
    "><small>* 1. venv (파이썬 3.3+ 내장 모듈)<br>* 2. conda (anaconda)<Br>* 3. virtualenv (써드 파티 도구)</small>"
   ]
  },
  {
   "cell_type": "markdown",
   "id": "44d30e11",
   "metadata": {},
   "source": [
    "##### 1. venv (파이썬 3.3+ 내장 모듈)"
   ]
  },
  {
   "cell_type": "markdown",
   "id": "5c186a44",
   "metadata": {},
   "source": [
    "Venv 가상환경 → 간단히 사용하고 싶을 경우에 사용<br>\n",
    "><small>* 파이썬 3.3 이후부터 내장됨</small>"
   ]
  },
  {
   "cell_type": "code",
   "execution_count": null,
   "id": "589e6bca",
   "metadata": {},
   "outputs": [],
   "source": [
    "# 가상환경 생성 (.venv 폴더 생성되고 그 아래 모든 정보가 저장됨)\n",
    "python -m venv .myvenv (python -m venv --help, --copies, --clear, --upgrade, --prompt)\n",
    "\n",
    "# Windows에서 활성화\n",
    ".\\.venv\\Scripts\\activate # → (.venv) 프롬포트 생김\n",
    "\n",
    "# 활성화 시 오류가 발생하면 현재 실행 정책 확인\n",
    "Get-ExecutionPolicy\n",
    "\n",
    "#현재 사용자에 대해서만 실행 정책 변경 (최초 1번)\n",
    "Set-ExecutionPolicy -ExecutionPolicy RemoteSigned -Scope HKEY_CURRENT_USER\n",
    "\n",
    "# macOs/Linux에서 활성화\n",
    "# source myenv/bin/activate\n",
    "\n",
    "# 비활성화 (모든 os 공통)\n",
    "deactivate"
   ]
  },
  {
   "cell_type": "markdown",
   "id": "f8d56a81",
   "metadata": {},
   "source": [
    "##### 2. conda"
   ]
  },
  {
   "cell_type": "markdown",
   "id": "b7fab951",
   "metadata": {},
   "source": [
    "Anaconda 설치 후 사용 가능 → AI 등에는 필수적인 패키지 관리도구<br>\n",
    "\n",
    "><small>* Download Anaconda Distribution | Anaconda <br>* Minimal package : Download Success | Anaconda <br>* Anaconda : AI 등 수많은 패키지 관리 도구 (cf. pip)</small>"
   ]
  },
  {
   "cell_type": "code",
   "execution_count": null,
   "id": "c7229b36",
   "metadata": {},
   "outputs": [],
   "source": [
    "# 가상 환경 생성\n",
    "conda create -n myenv python=3.9\n",
    "\n",
    "# 활성화\n",
    "conda activate myenv\n",
    "\n",
    "# 비활성화\n",
    "conda deactivate\n",
    "\n",
    "# 환경 목록 보기\n",
    "conda env list\n",
    "\n",
    "#환경 삭제\n",
    "conda env remove -n myenv"
   ]
  },
  {
   "cell_type": "markdown",
   "id": "1b836529",
   "metadata": {},
   "source": [
    "##### 3. virualenv (써드 파티 도구)"
   ]
  },
  {
   "cell_type": "markdown",
   "id": "c43f58e2",
   "metadata": {},
   "source": [
    "Virtualenv 패키지 가상환경<br>\n",
    "\n",
    "><small>* 모듈 설치 후 사용가능</small>"
   ]
  },
  {
   "cell_type": "code",
   "execution_count": null,
   "id": "d8aeb99c",
   "metadata": {},
   "outputs": [],
   "source": [
    "# 설치\n",
    "pip install virtualenv\n",
    "\n",
    "# 가상환경 생성\n",
    "virtualenv myenv\n",
    "\n",
    "# 특정 파이썬 버전으로 생성\n",
    "virtualenv -p python3.9 myenv   # 특정 파이썬 버전으로 생성\n",
    "virtualenv --python=python3.8 myenv # 긴 옵션 형태\n",
    "virtualenv -p /usr/bin/python3 myenv    # 절대 경로로 지정"
   ]
  },
  {
   "cell_type": "markdown",
   "id": "6a649c9b",
   "metadata": {},
   "source": [
    "##### 가상환경 및 모듈 자동 설치"
   ]
  },
  {
   "cell_type": "markdown",
   "id": "88ce9388",
   "metadata": {},
   "source": [
    "파이썬 가상환경<br>\n",
    "\n",
    "><small>* 모듈, 모듈의 버전 등을 보존하여 버전 변경으로 인한 소스코드의 오류를 방지<br>* 가상환경을 만들고 설치한 이후에 해당 모듈은 해당 가상환경에 저장됨<bR>* 설치된 모듈의 목록은 pip freeze > requirements.txt 로 저장<br>* 다른 가상환경에서 해당 목록을 자동 설치할 때에는 pip install -r requirements.txt 로 설치</small>"
   ]
  },
  {
   "cell_type": "code",
   "execution_count": null,
   "id": "c196f24f",
   "metadata": {},
   "outputs": [],
   "source": [
    "# 1. 현재 설치된 패키지들을 requirements.txt로 저장\n",
    "pip freeze > requirements.txt\n",
    "\n",
    "# 2. requirements.txt에서 패키지들을 설치 (올바른 명령어)\n",
    "pip install -r requirements.txt"
   ]
  }
 ],
 "metadata": {
  "kernelspec": {
   "display_name": "Python 3",
   "language": "python",
   "name": "python3"
  },
  "language_info": {
   "codemirror_mode": {
    "name": "ipython",
    "version": 3
   },
   "file_extension": ".py",
   "mimetype": "text/x-python",
   "name": "python",
   "nbconvert_exporter": "python",
   "pygments_lexer": "ipython3",
   "version": "3.13.7"
  }
 },
 "nbformat": 4,
 "nbformat_minor": 5
}
