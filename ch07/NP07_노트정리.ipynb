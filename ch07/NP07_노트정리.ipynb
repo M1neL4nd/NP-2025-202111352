{
 "cells": [
  {
   "cell_type": "markdown",
   "id": "f9d54b53",
   "metadata": {},
   "source": [
    "## 이름 : 정승희 학번 : 202111352"
   ]
  },
  {
   "cell_type": "markdown",
   "id": "5cc743be",
   "metadata": {},
   "source": [
    "##### 모듈\n",
    "모듈이란? <Br>\n",
    "><small>* 함수, 변수, 클래스들을 모아 놓은 파일 묶음(라이브러리)<br></small>\n",
    "\n",
    "모듈의 종류<br>\n",
    "><small>* 표준 모듈<br>* 서드파티(3rd party) 모듈<Br>* 사용자 정의 모듈<br></small>\n",
    "\n",
    "* 파이썬은 오픈 소스를 지향하므로 많은 사람들이 개발하여 공개한 수 많은 모듈이 존재한다.<br>\n",
    "* 오픈 모듈을 무료로 사용할 수 있다.<Br>\n",
    "* 빅데이터, 인공지능, 사물 인터넷 등과 같은 4차 산업 프로그램들은 오픈 모듈을 사용할 수 있기 때문에 파이썬을 주로 사용한다."
   ]
  },
  {
   "cell_type": "markdown",
   "id": "d7d5fd76",
   "metadata": {},
   "source": [
    "##### 모듈 사용하기"
   ]
  },
  {
   "cell_type": "markdown",
   "id": "e86f0efb",
   "metadata": {},
   "source": [
    "서드 파티 모듈 설치<br>\n",
    "><small>* c : ~ > pip install modulename [upgrade]</small><br>"
   ]
  },
  {
   "cell_type": "markdown",
   "id": "3cf57b26",
   "metadata": {},
   "source": [
    "모듈 불러오기<br>\n",
    "><small>* 프로그램 외부에 존재하는 모듈을 프로그램 내부로 불러와서 사용하기 위해 필요한 명령(import)<Br>"
   ]
  },
  {
   "cell_type": "markdown",
   "id": "799219e2",
   "metadata": {},
   "source": [
    "1. import module_name<br><small>\n",
    "* import socket<br>\n",
    "* socket 모듈에 포함된 변수, 함수, 클래스를 사용할 수 있다.<br>\n",
    "* dir(socket) ← socket 모듈에 들어 있는 변수, 함수, 클래스를 보여줌<br>\n",
    "* dir(socket.socket) ← socket 모듈의 socket 클래스에 포함된 변수, 메소드를 보여 줌<br></small>"
   ]
  },
  {
   "cell_type": "code",
   "execution_count": 5,
   "id": "79f41de8",
   "metadata": {},
   "outputs": [
    {
     "data": {
      "text/plain": [
       "'MineLd_nb'"
      ]
     },
     "execution_count": 5,
     "metadata": {},
     "output_type": "execute_result"
    }
   ],
   "source": [
    "import socket\n",
    "socket.gethostname()"
   ]
  },
  {
   "cell_type": "code",
   "execution_count": null,
   "id": "cf9f9b8c",
   "metadata": {},
   "outputs": [],
   "source": [
    "dir(socket)\n",
    "dir(socket.socket)"
   ]
  },
  {
   "cell_type": "markdown",
   "id": "353e4f00",
   "metadata": {},
   "source": [
    "2. from module_name import class or methods<br>\n",
    "><small>* from socket import gethostname<br>* import된 class 또는 methodsd 사용할 수 있다.</small>"
   ]
  },
  {
   "cell_type": "code",
   "execution_count": 7,
   "id": "5644033b",
   "metadata": {},
   "outputs": [
    {
     "data": {
      "text/plain": [
       "'MineLd_nb'"
      ]
     },
     "execution_count": 7,
     "metadata": {},
     "output_type": "execute_result"
    }
   ],
   "source": [
    "from socket import gethostname\n",
    "gethostname()"
   ]
  },
  {
   "cell_type": "markdown",
   "id": "4301d7c6",
   "metadata": {},
   "source": [
    "3. from module_name import<br>\n",
    "><small>* from socket import *<br> * socket 모듈의 모든 속성을 사용할 수 있다.</small>"
   ]
  },
  {
   "cell_type": "code",
   "execution_count": 8,
   "id": "82dfa456",
   "metadata": {},
   "outputs": [
    {
     "data": {
      "text/plain": [
       "'MineLd_nb'"
      ]
     },
     "execution_count": 8,
     "metadata": {},
     "output_type": "execute_result"
    }
   ],
   "source": [
    "from socket import *\n",
    "gethostname()"
   ]
  },
  {
   "cell_type": "markdown",
   "id": "76da66ef",
   "metadata": {},
   "source": [
    "><small>* 편리하지만 메모리를 많이 차지하고 다른 함수와 혼동 가능성이 있다!</small>"
   ]
  },
  {
   "cell_type": "markdown",
   "id": "e3bc9ab3",
   "metadata": {},
   "source": [
    "4. import module_name as alias(단축이름)<br>\n",
    "><small>* 모듈 이름이 긴 경우 단축이름으로 불러보기</small>"
   ]
  },
  {
   "cell_type": "code",
   "execution_count": 9,
   "id": "ac3170ed",
   "metadata": {},
   "outputs": [
    {
     "data": {
      "text/plain": [
       "'MineLd_nb'"
      ]
     },
     "execution_count": 9,
     "metadata": {},
     "output_type": "execute_result"
    }
   ],
   "source": [
    "import socket as so\n",
    "so.gethostname()"
   ]
  },
  {
   "cell_type": "markdown",
   "id": "c75f2d9a",
   "metadata": {},
   "source": [
    "모듈 탐색 경로<br>\n",
    "><small>* 불러오는 모듈은 현재 디렉토리, sys.path(환경변수)에 지정된 디렉토리 순서로 찾는다<br>"
   ]
  },
  {
   "cell_type": "code",
   "execution_count": 11,
   "id": "f47847e6",
   "metadata": {},
   "outputs": [
    {
     "data": {
      "text/plain": [
       "['c:\\\\Users\\\\tmdgm\\\\AppData\\\\Local\\\\Programs\\\\Python\\\\Python313\\\\python313.zip',\n",
       " 'c:\\\\Users\\\\tmdgm\\\\AppData\\\\Local\\\\Programs\\\\Python\\\\Python313\\\\DLLs',\n",
       " 'c:\\\\Users\\\\tmdgm\\\\AppData\\\\Local\\\\Programs\\\\Python\\\\Python313\\\\Lib',\n",
       " 'c:\\\\Users\\\\tmdgm\\\\AppData\\\\Local\\\\Programs\\\\Python\\\\Python313',\n",
       " '',\n",
       " 'C:\\\\Users\\\\tmdgm\\\\AppData\\\\Roaming\\\\Python\\\\Python313\\\\site-packages',\n",
       " 'C:\\\\Users\\\\tmdgm\\\\AppData\\\\Roaming\\\\Python\\\\Python313\\\\site-packages\\\\win32',\n",
       " 'C:\\\\Users\\\\tmdgm\\\\AppData\\\\Roaming\\\\Python\\\\Python313\\\\site-packages\\\\win32\\\\lib',\n",
       " 'C:\\\\Users\\\\tmdgm\\\\AppData\\\\Roaming\\\\Python\\\\Python313\\\\site-packages\\\\Pythonwin',\n",
       " 'c:\\\\Users\\\\tmdgm\\\\AppData\\\\Local\\\\Programs\\\\Python\\\\Python313\\\\Lib\\\\site-packages']"
      ]
     },
     "execution_count": 11,
     "metadata": {},
     "output_type": "execute_result"
    }
   ],
   "source": [
    "import os, sys\n",
    "os.getcwd()\n",
    "sys.path"
   ]
  },
  {
   "cell_type": "markdown",
   "id": "5ffea844",
   "metadata": {},
   "source": [
    "##### 사용자 정의 모듈"
   ]
  },
  {
   "cell_type": "markdown",
   "id": "66a0c499",
   "metadata": {},
   "source": [
    "사용자 정의 모듈 만들기<br>\n",
    "><small>* 모듈은 일반 프로그램과 같이 작성된다<br>* 다음 파일을 myModule.py로 저장</small>"
   ]
  },
  {
   "cell_type": "code",
   "execution_count": null,
   "id": "aca9fd0d",
   "metadata": {},
   "outputs": [],
   "source": [
    "def sum(n) : \n",
    "    sum = 0\n",
    "    for i in range(1, n+1) :\n",
    "        sum = sum + i\n",
    "    return sum\n",
    "\n",
    "def power(x, n) : \n",
    "    prod = 1\n",
    "    for i in range(1, n+1) : \n",
    "        prod = prod * x\n",
    "    return prod\n",
    "\n",
    "if __name__ == '__main__' : \n",
    "    print(sum(5))\n",
    "    print(power(2, 3))"
   ]
  },
  {
   "cell_type": "markdown",
   "id": "a87ffaf9",
   "metadata": {},
   "source": [
    "사용자 정의 모듈의 사용<br>"
   ]
  },
  {
   "cell_type": "code",
   "execution_count": 12,
   "id": "3ff0966e",
   "metadata": {},
   "outputs": [
    {
     "name": "stdout",
     "output_type": "stream",
     "text": [
      "55 8\n"
     ]
    }
   ],
   "source": [
    "import myModule\n",
    "hab = myModule.sum(10)\n",
    "pwr = myModule.power(2, 3)\n",
    "print(hab, pwr)"
   ]
  },
  {
   "cell_type": "markdown",
   "id": "8f2db131",
   "metadata": {},
   "source": [
    "if __ name __ == '__ main __'의 기능<br>\n",
    "><small>* 모듈을 독립된 프로그램으로 사용할 때만 실행됨<br>* 모듈의 기능을 테스트하기 위해 사용됨</small>"
   ]
  },
  {
   "cell_type": "code",
   "execution_count": null,
   "id": "12a61e92",
   "metadata": {},
   "outputs": [],
   "source": [
    "if __name__ == '__main__' : # ← 모듈로 사용될 때는 실행되지 않음\n",
    "    print(sum(5))\n",
    "    print(power(2, 3))"
   ]
  },
  {
   "cell_type": "markdown",
   "id": "80562917",
   "metadata": {},
   "source": [
    "##### 유용한 모듈"
   ]
  },
  {
   "cell_type": "markdown",
   "id": "d8243cc4",
   "metadata": {},
   "source": [
    "sys 모듈<br>\n",
    "><small>* 파이썬 인터프리터에 관한 정보를 알 수 있다.</small>"
   ]
  },
  {
   "cell_type": "code",
   "execution_count": 13,
   "id": "b67203af",
   "metadata": {},
   "outputs": [
    {
     "data": {
      "text/plain": [
       "'3.13.7 (tags/v3.13.7:bcee1c3, Aug 14 2025, 14:15:11) [MSC v.1944 64 bit (AMD64)]'"
      ]
     },
     "execution_count": 13,
     "metadata": {},
     "output_type": "execute_result"
    }
   ],
   "source": [
    "import sys\n",
    "sys.version"
   ]
  },
  {
   "cell_type": "code",
   "execution_count": 14,
   "id": "45842e8b",
   "metadata": {},
   "outputs": [
    {
     "data": {
      "text/plain": [
       "'c:\\\\Users\\\\tmdgm\\\\AppData\\\\Local\\\\Programs\\\\Python\\\\Python313'"
      ]
     },
     "execution_count": 14,
     "metadata": {},
     "output_type": "execute_result"
    }
   ],
   "source": [
    "sys.prefix"
   ]
  },
  {
   "cell_type": "code",
   "execution_count": 15,
   "id": "af393338",
   "metadata": {},
   "outputs": [
    {
     "data": {
      "text/plain": [
       "['c:\\\\Users\\\\tmdgm\\\\AppData\\\\Local\\\\Programs\\\\Python\\\\Python313\\\\python313.zip',\n",
       " 'c:\\\\Users\\\\tmdgm\\\\AppData\\\\Local\\\\Programs\\\\Python\\\\Python313\\\\DLLs',\n",
       " 'c:\\\\Users\\\\tmdgm\\\\AppData\\\\Local\\\\Programs\\\\Python\\\\Python313\\\\Lib',\n",
       " 'c:\\\\Users\\\\tmdgm\\\\AppData\\\\Local\\\\Programs\\\\Python\\\\Python313',\n",
       " '',\n",
       " 'C:\\\\Users\\\\tmdgm\\\\AppData\\\\Roaming\\\\Python\\\\Python313\\\\site-packages',\n",
       " 'C:\\\\Users\\\\tmdgm\\\\AppData\\\\Roaming\\\\Python\\\\Python313\\\\site-packages\\\\win32',\n",
       " 'C:\\\\Users\\\\tmdgm\\\\AppData\\\\Roaming\\\\Python\\\\Python313\\\\site-packages\\\\win32\\\\lib',\n",
       " 'C:\\\\Users\\\\tmdgm\\\\AppData\\\\Roaming\\\\Python\\\\Python313\\\\site-packages\\\\Pythonwin',\n",
       " 'c:\\\\Users\\\\tmdgm\\\\AppData\\\\Local\\\\Programs\\\\Python\\\\Python313\\\\Lib\\\\site-packages']"
      ]
     },
     "execution_count": 15,
     "metadata": {},
     "output_type": "execute_result"
    }
   ],
   "source": [
    "sys.path"
   ]
  },
  {
   "cell_type": "code",
   "execution_count": null,
   "id": "ce9b1c82",
   "metadata": {},
   "outputs": [],
   "source": [
    "sys.stdin.readline()\n",
    "hello"
   ]
  },
  {
   "cell_type": "code",
   "execution_count": null,
   "id": "0ed1f097",
   "metadata": {},
   "outputs": [],
   "source": [
    "sys.stdout.write('Hello')"
   ]
  },
  {
   "cell_type": "markdown",
   "id": "ef5d7419",
   "metadata": {},
   "source": [
    "sys.argv 속성<br>\n",
    "><small>* 명령 인수와 함께 프로그램을 실행 할 때 명령 인수를 전달받음</small>"
   ]
  },
  {
   "cell_type": "code",
   "execution_count": null,
   "id": "2cadd717",
   "metadata": {},
   "outputs": [],
   "source": [
    "import sys\n",
    "\n",
    "for i in range(1, len(sys.argv)) : \n",
    "    print(sys.argv[i])"
   ]
  },
  {
   "cell_type": "code",
   "execution_count": null,
   "id": "55ba3525",
   "metadata": {},
   "outputs": [],
   "source": [
    "C:> python echo.py"
   ]
  },
  {
   "cell_type": "markdown",
   "id": "aadbf40a",
   "metadata": {},
   "source": [
    "random 모듈<br>\n",
    "><small>* 난수(radom number)를 만들 때 사용</small>"
   ]
  },
  {
   "cell_type": "code",
   "execution_count": 6,
   "id": "4bb5145f",
   "metadata": {},
   "outputs": [
    {
     "data": {
      "text/plain": [
       "5"
      ]
     },
     "execution_count": 6,
     "metadata": {},
     "output_type": "execute_result"
    }
   ],
   "source": [
    "import random\n",
    "random.randint(1, 5)"
   ]
  },
  {
   "cell_type": "code",
   "execution_count": 7,
   "id": "94ad3459",
   "metadata": {},
   "outputs": [
    {
     "data": {
      "text/plain": [
       "0.9179667524109977"
      ]
     },
     "execution_count": 7,
     "metadata": {},
     "output_type": "execute_result"
    }
   ],
   "source": [
    "random.random()"
   ]
  },
  {
   "cell_type": "code",
   "execution_count": 8,
   "id": "7552c147",
   "metadata": {},
   "outputs": [
    {
     "data": {
      "text/plain": [
       "6"
      ]
     },
     "execution_count": 8,
     "metadata": {},
     "output_type": "execute_result"
    }
   ],
   "source": [
    "random.randrange(1, 10, 1)"
   ]
  },
  {
   "cell_type": "code",
   "execution_count": 9,
   "id": "643fc1f4",
   "metadata": {},
   "outputs": [
    {
     "data": {
      "text/plain": [
       "'e'"
      ]
     },
     "execution_count": 9,
     "metadata": {},
     "output_type": "execute_result"
    }
   ],
   "source": [
    "random.choice('hello')"
   ]
  },
  {
   "cell_type": "markdown",
   "id": "4f8e13c5",
   "metadata": {},
   "source": [
    "math 모듈<br>\n",
    "><small>* 수학적 계산을 위한 모듈</small>"
   ]
  },
  {
   "cell_type": "code",
   "execution_count": 10,
   "id": "38f21e26",
   "metadata": {},
   "outputs": [
    {
     "data": {
      "text/plain": [
       "['__doc__',\n",
       " '__loader__',\n",
       " '__name__',\n",
       " '__package__',\n",
       " '__spec__',\n",
       " 'acos',\n",
       " 'acosh',\n",
       " 'asin',\n",
       " 'asinh',\n",
       " 'atan',\n",
       " 'atan2',\n",
       " 'atanh',\n",
       " 'cbrt',\n",
       " 'ceil',\n",
       " 'comb',\n",
       " 'copysign',\n",
       " 'cos',\n",
       " 'cosh',\n",
       " 'degrees',\n",
       " 'dist',\n",
       " 'e',\n",
       " 'erf',\n",
       " 'erfc',\n",
       " 'exp',\n",
       " 'exp2',\n",
       " 'expm1',\n",
       " 'fabs',\n",
       " 'factorial',\n",
       " 'floor',\n",
       " 'fma',\n",
       " 'fmod',\n",
       " 'frexp',\n",
       " 'fsum',\n",
       " 'gamma',\n",
       " 'gcd',\n",
       " 'hypot',\n",
       " 'inf',\n",
       " 'isclose',\n",
       " 'isfinite',\n",
       " 'isinf',\n",
       " 'isnan',\n",
       " 'isqrt',\n",
       " 'lcm',\n",
       " 'ldexp',\n",
       " 'lgamma',\n",
       " 'log',\n",
       " 'log10',\n",
       " 'log1p',\n",
       " 'log2',\n",
       " 'modf',\n",
       " 'nan',\n",
       " 'nextafter',\n",
       " 'perm',\n",
       " 'pi',\n",
       " 'pow',\n",
       " 'prod',\n",
       " 'radians',\n",
       " 'remainder',\n",
       " 'sin',\n",
       " 'sinh',\n",
       " 'sqrt',\n",
       " 'sumprod',\n",
       " 'tan',\n",
       " 'tanh',\n",
       " 'tau',\n",
       " 'trunc',\n",
       " 'ulp']"
      ]
     },
     "execution_count": 10,
     "metadata": {},
     "output_type": "execute_result"
    }
   ],
   "source": [
    "import math\n",
    "dir(math)"
   ]
  },
  {
   "cell_type": "code",
   "execution_count": 11,
   "id": "d49d7b57",
   "metadata": {},
   "outputs": [
    {
     "data": {
      "text/plain": [
       "3.141592653589793"
      ]
     },
     "execution_count": 11,
     "metadata": {},
     "output_type": "execute_result"
    }
   ],
   "source": [
    "math.pi"
   ]
  },
  {
   "cell_type": "code",
   "execution_count": 12,
   "id": "e4f07ecb",
   "metadata": {},
   "outputs": [
    {
     "data": {
      "text/plain": [
       "0.49999999999999994"
      ]
     },
     "execution_count": 12,
     "metadata": {},
     "output_type": "execute_result"
    }
   ],
   "source": [
    "math.sin(math.pi/6)"
   ]
  },
  {
   "cell_type": "code",
   "execution_count": 13,
   "id": "e043d078",
   "metadata": {},
   "outputs": [
    {
     "data": {
      "text/plain": [
       "0.3010299956639812"
      ]
     },
     "execution_count": 13,
     "metadata": {},
     "output_type": "execute_result"
    }
   ],
   "source": [
    "math.log10(2)"
   ]
  },
  {
   "cell_type": "markdown",
   "id": "0bb9f9cf",
   "metadata": {},
   "source": [
    "time 모듈<br>\n",
    "><small>* 시간을 문자열로 표시하는 모듈</small>"
   ]
  },
  {
   "cell_type": "code",
   "execution_count": 14,
   "id": "193a7461",
   "metadata": {},
   "outputs": [
    {
     "data": {
      "text/plain": [
       "1759197313.0938997"
      ]
     },
     "execution_count": 14,
     "metadata": {},
     "output_type": "execute_result"
    }
   ],
   "source": [
    "import time\n",
    "time.time()"
   ]
  },
  {
   "cell_type": "code",
   "execution_count": 15,
   "id": "12633b32",
   "metadata": {},
   "outputs": [
    {
     "data": {
      "text/plain": [
       "'Tue Sep 30 10:55:27 2025'"
      ]
     },
     "execution_count": 15,
     "metadata": {},
     "output_type": "execute_result"
    }
   ],
   "source": [
    "time.asctime()"
   ]
  },
  {
   "cell_type": "markdown",
   "id": "35e2685c",
   "metadata": {},
   "source": [
    "calendar 모듈<br>\n",
    "><small>* 달력을 출력하는 모듈</small>"
   ]
  },
  {
   "cell_type": "code",
   "execution_count": 16,
   "id": "7b095e6b",
   "metadata": {},
   "outputs": [
    {
     "name": "stdout",
     "output_type": "stream",
     "text": [
      "   February 2019\n",
      "Mo Tu We Th Fr Sa Su\n",
      "             1  2  3\n",
      " 4  5  6  7  8  9 10\n",
      "11 12 13 14 15 16 17\n",
      "18 19 20 21 22 23 24\n",
      "25 26 27 28\n",
      "\n"
     ]
    }
   ],
   "source": [
    "import calendar\n",
    "print(calendar.month(2019, 2))"
   ]
  },
  {
   "cell_type": "markdown",
   "id": "602ca238",
   "metadata": {},
   "source": [
    "enum 모듈<br>\n",
    "><small>* 열거형 상수를 정의하기 위한 모듈</small>"
   ]
  },
  {
   "cell_type": "code",
   "execution_count": null,
   "id": "4c4c5188",
   "metadata": {},
   "outputs": [],
   "source": [
    "from enum import Enum\n",
    "class Color(Enum) : \n",
    "    RED = 1 # name = value\n",
    "    GREEN = 2\n",
    "    BLUE = 3\n",
    "\n",
    "#Color의 속성 : Color.RED, Color.GERRN, Color.BLUE\n",
    "#속성은 name(RED, GREEN, BLUE)과 value(1, 2, 3)를 가진다\n",
    "#속성의 value를 변경할 수 없다\n",
    "print(Color.RED.name, Color.RED.value)\n",
    "\n",
    "Color.RED = 5 #error 발생. 상수이므로 변경할 수 없음\n",
    "\n",
    "for x in Color: # Color의 모든 속성 출력\n",
    "    print(x)"
   ]
  }
 ],
 "metadata": {
  "kernelspec": {
   "display_name": "Python 3",
   "language": "python",
   "name": "python3"
  },
  "language_info": {
   "codemirror_mode": {
    "name": "ipython",
    "version": 3
   },
   "file_extension": ".py",
   "mimetype": "text/x-python",
   "name": "python",
   "nbconvert_exporter": "python",
   "pygments_lexer": "ipython3",
   "version": "3.13.7"
  }
 },
 "nbformat": 4,
 "nbformat_minor": 5
}
